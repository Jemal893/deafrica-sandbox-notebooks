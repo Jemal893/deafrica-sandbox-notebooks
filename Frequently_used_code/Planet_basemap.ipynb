{
 "cells": [
  {
   "cell_type": "markdown",
   "id": "4be57a3d-6fe4-4706-9bfd-d3de69d9e6bf",
   "metadata": {},
   "source": [
    "# Planet monthly mosaic data\n",
    "\n",
    "* **Products used:** \n",
    "Planet API\n"
   ]
  },
  {
   "cell_type": "markdown",
   "id": "c18a09f8-c72f-412f-bb5f-5feeb945c233",
   "metadata": {},
   "source": [
    "## Background"
   ]
  },
  {
   "cell_type": "markdown",
   "id": "fb326bf6-4daa-443e-93e4-e570589996e1",
   "metadata": {},
   "source": [
    "## Description\n",
    "This notebook demonstrates how to how to use the Planet monthly mosaic data:\n",
    "\n",
    "1. \n",
    "\n",
    "***"
   ]
  },
  {
   "cell_type": "markdown",
   "id": "01ac670f-a171-4c94-bb59-aa9d6ccaf0f6",
   "metadata": {
    "tags": []
   },
   "source": [
    "**Important details:**\n",
    "\n",
    "* Datacube product names: `Planet Monthly Mosaic`\n",
    "* Date-range: 2020-09 &ndash; present\n",
    "* Spatial resolution: \n"
   ]
  },
  {
   "cell_type": "markdown",
   "id": "c6bca777-0e57-43f9-876d-da7cc0ba0003",
   "metadata": {},
   "source": [
    "## Getting started\n",
    "\n",
    "To run this analysis, run all the cells in the notebook, starting with the \"Load packages\" cell. "
   ]
  },
  {
   "cell_type": "markdown",
   "id": "105f948b-a80d-4e6f-a66c-2cb8a6fb73bb",
   "metadata": {},
   "source": [
    "### Load packages\n",
    "Import Python packages that are used for the analysis."
   ]
  },
  {
   "cell_type": "code",
   "execution_count": 1,
   "id": "01a48c9b-fe2b-4ed7-873e-3bdf5a650de7",
   "metadata": {},
   "outputs": [],
   "source": [
    "import folium\n",
    "import ipywidgets\n",
    "from datetime import datetime, timedelta\n",
    "from IPython.display import HTML, display\n",
    "\n",
    "import datacube\n",
    "\n",
    "from deafrica_tools.waterbodies import (\n",
    "    get_geohashes,\n",
    "    get_waterbodies,\n",
    "    get_waterbody,\n",
    "    get_time_series,\n",
    "    display_time_series,\n",
    ")\n",
    "\n",
    "from deafrica_tools.datahandling import mostcommon_crs"
   ]
  },
  {
   "cell_type": "code",
   "execution_count": 2,
   "id": "74a0d62f-8d3c-44a8-a3d2-e5d4b57f476e",
   "metadata": {},
   "outputs": [],
   "source": [
    "def get_last_calendar_month():\n",
    "    # Get the current date\n",
    "    today = datetime.today()\n",
    "    \n",
    "    # Calculate the first day of the current month\n",
    "    first_day_of_current_month = today.replace(day=1)\n",
    "    \n",
    "    # Subtract one day to get the last day of the previous month\n",
    "    last_day_of_last_month = first_day_of_current_month - timedelta(days=1)\n",
    "    \n",
    "    # Extract the year and month from the last day of the previous month\n",
    "    year = last_day_of_last_month.year\n",
    "    month = last_day_of_last_month.month\n",
    "    \n",
    "    return year, month"
   ]
  },
  {
   "cell_type": "code",
   "execution_count": 3,
   "id": "4ffd2ff6-f9fc-46ec-bab3-bbc8a468dfee",
   "metadata": {},
   "outputs": [],
   "source": [
    "# Set the central latitude and longitude\n",
    "lat =  6.74248\n",
    "lon = -1.69340\n",
    "\n",
    "# Set the buffer to load around the central coordinates\n",
    "buffer = 0.05\n",
    "\n",
    "# Compute the bounding box coordinates\n",
    "xlim = (lon-buffer, lon+buffer)\n",
    "ylim =  (lat+buffer, lat-buffer)\n",
    "\n",
    "# Create a bounding box from study area coordinates\n",
    "bbox = (xlim[0], ylim[1], xlim[1], ylim[0])\n",
    "\n",
    "# Select all water bodies located within the bounding box\n",
    "polygons = get_waterbodies(bbox, crs=\"EPSG:4326\")"
   ]
  },
  {
   "cell_type": "code",
   "execution_count": 4,
   "id": "e4235888-5811-4d85-997b-beae9d62d2bb",
   "metadata": {},
   "outputs": [
    {
     "data": {
      "image/png": "[encoded data removed]",
      "text/plain": [
       "<Figure size 640x480 with 1 Axes>"
      ]
     },
     "metadata": {},
     "output_type": "display_data"
    }
   ],
   "source": [
    "# Plot the waterbody polygons located within the bounding box\n",
    "polygons.plot();"
   ]
  },
  {
   "cell_type": "code",
   "execution_count": 9,
   "id": "12925ec5-51fc-4f77-9b7f-19b3f222abbf",
   "metadata": {},
   "outputs": [],
   "source": [
    "def loadmap(lat, lng, tile):\n",
    "    mmap = folium.Map(location=(lat, lon), zoom_start=14, tiles=None)\n",
    "#     folium.TileLayer(tile, attr='Planet NICFI', name=f'Planet NICFI {year:04d}-{month:02d}', show=True).add_to(mmap)\n",
    "    folium.TileLayer(tile, attr='Planet NICFI', name=f'Planet NICFI', show=True, no_wrap=True).add_to(mmap)\n",
    "    folium.TileLayer('OpenStreetMap', show=False).add_to(mmap)\n",
    "    folium.GeoJson(polygons, zoom_on_click=True, name='Water Body').add_to(mmap)\n",
    "    folium.LayerControl().add_to(mmap)\n",
    "\n",
    "    return mmap"
   ]
  },
  {
   "cell_type": "code",
   "execution_count": 10,
   "id": "92c68e9f-636b-4734-b15d-a32e8ca6b718",
   "metadata": {},
   "outputs": [
    {
     "data": {
      "application/vnd.jupyter.widget-view+json": {
       "model_id": "b93f011be39748a79b25a12992e4eaec",
       "version_major": 2,
       "version_minor": 0
      },
      "text/plain": [
       "AppLayout(children=(Dropdown(description='Year:', index=4, layout=Layout(grid_area='left-sidebar'), options=(2…"
      ]
     },
     "metadata": {},
     "output_type": "display_data"
    },
    {
     "data": {
      "application/vnd.jupyter.widget-view+json": {
       "model_id": "44fd0057f3114afebeeb8bbee62daab0",
       "version_major": 2,
       "version_minor": 0
      },
      "text/plain": [
       "Output(layout=Layout(border_bottom='1px solid black', border_left='1px solid black', border_right='1px solid b…"
      ]
     },
     "execution_count": 10,
     "metadata": {},
     "output_type": "execute_result"
    }
   ],
   "source": [
    "current_year, current_month = get_last_calendar_month()\n",
    "out = ipywidgets.Output(layout={'border': '1px solid black'})\n",
    "\n",
    "year_list = [x for x in range(2020, current_year+1, 1)]\n",
    "year_wdiget = ipywidgets.Dropdown(\n",
    "    options=year_list,\n",
    "    value=year_list[-1],\n",
    "    description='Year:',\n",
    "    disabled=False,\n",
    ")\n",
    "\n",
    "month_list = [x for x in range(1, current_month+1, 1)]\n",
    "month_wdiget = ipywidgets.Dropdown(\n",
    "    options=month_list,\n",
    "    value=month_list[-1],\n",
    "    description='Month:',\n",
    "    disabled=False,\n",
    ")\n",
    "\n",
    "button = ipywidgets.Button(\n",
    "    description='Display Map',\n",
    "    button_style='info', # 'success', 'info', 'warning', 'danger' or ''\n",
    "    icon='map' # (FontAwesome names without the `fa-` prefix)\n",
    ")\n",
    "\n",
    "def on_dropdown_change(change):\n",
    "    change = change['new']\n",
    "    if change == 2020:\n",
    "        month_list = [9, 10, 11, 12]\n",
    "    elif change == int(current_year):\n",
    "        month_list = [x for x in range(1, current_month+1, 1)]\n",
    "    else:\n",
    "        month_list = [x for x in range(1, 13, 1)]\n",
    "    month_wdiget.options = month_list\n",
    "\n",
    "planet_monthly = f\"https://api.digitalearth.africa/planet/tiles/basemaps/v1/planet-tiles/planet_medres_visual_{year_wdiget.value:04d}-{month_wdiget.value:02d}_mosaic/gmap/\"+\"{z}/{x}/{y}.png\"    \n",
    "\n",
    "def button_click(b):\n",
    "    planet_monthly = f\"https://api.digitalearth.africa/planet/tiles/basemaps/v1/planet-tiles/planet_medres_visual_{year_wdiget.value:04d}-{month_wdiget.value:02d}_mosaic/gmap/\"+\"{z}/{x}/{y}.png\"\n",
    "    out.clear_output()\n",
    "    with out:\n",
    "        display(loadmap(lat, lon, planet_monthly))\n",
    "    out\n",
    "\n",
    "app = ipywidgets.AppLayout(\n",
    "          left_sidebar=year_wdiget,\n",
    "          center=month_wdiget,\n",
    "          right_sidebar=button,)\n",
    "year_wdiget.observe(on_dropdown_change, names='value')\n",
    "button.on_click(button_click)\n",
    "display(app)\n",
    "\n",
    "with out:\n",
    "    display(loadmap(lat, lon, planet_monthly))\n",
    "out"
   ]
  },
  {
   "cell_type": "markdown",
   "id": "e7124347-378e-4c42-bc3c-17163e6492ec",
   "metadata": {},
   "source": [
    "### Using Planet Basemap with DE Africa Product"
   ]
  },
  {
   "cell_type": "markdown",
   "id": "a6366503-062a-42bb-a0b0-eb49858a56ee",
   "metadata": {},
   "source": [
    "#### WaterBodies"
   ]
  },
  {
   "cell_type": "code",
   "execution_count": 7,
   "id": "0e37e19d-656c-431c-b7fa-bf3a614b109e",
   "metadata": {},
   "outputs": [
    {
     "data": {
      "text/html": [
       "<div style=\"width:100%;\"><div style=\"position:relative;width:100%;height:0;padding-bottom:60%;\"><span style=\"color:#565656\">Make this Notebook Trusted to load map: File -> Trust Notebook</span><iframe srcdoc=\"&lt;!DOCTYPE html&gt;\n",
       "&lt;html&gt;\n",
       "&lt;head&gt;\n",
       "    \n",
       "    &lt;meta http-equiv=&quot;content-type&quot; content=&quot;text/html; charset=UTF-8&quot; /&gt;\n",
       "    \n",
       "        &lt;script&gt;\n",
       "            L_NO_TOUCH = false;\n",
       "            L_DISABLE_3D = false;\n",
       "        &lt;/script&gt;\n",
       "    \n",
       "    &lt;style&gt;html, body {width: 100%;height: 100%;margin: 0;padding: 0;}&lt;/style&gt;\n",
       "    &lt;style&gt;#map {position:absolute;top:0;bottom:0;right:0;left:0;}&lt;/style&gt;\n",
       "    &lt;script src=&quot;https://cdn.jsdelivr.net/npm/leaflet@1.6.0/dist/leaflet.js&quot;&gt;&lt;/script&gt;\n",
       "    &lt;script src=&quot;https://code.jquery.com/jquery-1.12.4.min.js&quot;&gt;&lt;/script&gt;\n",
       "    &lt;script src=&quot;https://maxcdn.bootstrapcdn.com/bootstrap/3.2.0/js/bootstrap.min.js&quot;&gt;&lt;/script&gt;\n",
       "    &lt;script src=&quot;https://cdnjs.cloudflare.com/ajax/libs/Leaflet.awesome-markers/2.0.2/leaflet.awesome-markers.js&quot;&gt;&lt;/script&gt;\n",
       "    &lt;link rel=&quot;stylesheet&quot; href=&quot;https://cdn.jsdelivr.net/npm/leaflet@1.6.0/dist/leaflet.css&quot;/&gt;\n",
       "    &lt;link rel=&quot;stylesheet&quot; href=&quot;https://maxcdn.bootstrapcdn.com/bootstrap/3.2.0/css/bootstrap.min.css&quot;/&gt;\n",
       "    &lt;link rel=&quot;stylesheet&quot; href=&quot;https://maxcdn.bootstrapcdn.com/bootstrap/3.2.0/css/bootstrap-theme.min.css&quot;/&gt;\n",
       "    &lt;link rel=&quot;stylesheet&quot; href=&quot;https://maxcdn.bootstrapcdn.com/font-awesome/4.6.3/css/font-awesome.min.css&quot;/&gt;\n",
       "    &lt;link rel=&quot;stylesheet&quot; href=&quot;https://cdnjs.cloudflare.com/ajax/libs/Leaflet.awesome-markers/2.0.2/leaflet.awesome-markers.css&quot;/&gt;\n",
       "    &lt;link rel=&quot;stylesheet&quot; href=&quot;https://cdn.jsdelivr.net/gh/python-visualization/folium/folium/templates/leaflet.awesome.rotate.min.css&quot;/&gt;\n",
       "    \n",
       "            &lt;meta name=&quot;viewport&quot; content=&quot;width=device-width,\n",
       "                initial-scale=1.0, maximum-scale=1.0, user-scalable=no&quot; /&gt;\n",
       "            &lt;style&gt;\n",
       "                #map_e08d5620e75673e93154f55c6144faaf {\n",
       "                    position: relative;\n",
       "                    width: 100.0%;\n",
       "                    height: 100.0%;\n",
       "                    left: 0.0%;\n",
       "                    top: 0.0%;\n",
       "                }\n",
       "            &lt;/style&gt;\n",
       "        \n",
       "&lt;/head&gt;\n",
       "&lt;body&gt;\n",
       "    \n",
       "    \n",
       "            &lt;div class=&quot;folium-map&quot; id=&quot;map_e08d5620e75673e93154f55c6144faaf&quot; &gt;&lt;/div&gt;\n",
       "        \n",
       "&lt;/body&gt;\n",
       "&lt;script&gt;\n",
       "    \n",
       "    \n",
       "            var map_e08d5620e75673e93154f55c6144faaf = L.map(\n",
       "                &quot;map_e08d5620e75673e93154f55c6144faaf&quot;,\n",
       "                {\n",
       "                    center: [6.74248, -1.6934],\n",
       "                    crs: L.CRS.EPSG3857,\n",
       "                    zoom: 14,\n",
       "                    zoomControl: true,\n",
       "                    preferCanvas: false,\n",
       "                }\n",
       "            );\n",
       "\n",
       "            \n",
       "\n",
       "        \n",
       "    \n",
       "            var tile_layer_c83980de1c3cc39afee7447bbe32fbe3 = L.tileLayer(\n",
       "                &quot;https://api.digitalearth.africa/planet/tiles/basemaps/v1/planet-tiles/planet_medres_visual_2024-04_mosaic/gmap/{z}/{x}/{y}.png&quot;,\n",
       "                {&quot;attribution&quot;: &quot;Planet NICFI&quot;, &quot;detectRetina&quot;: false, &quot;maxNativeZoom&quot;: 18, &quot;maxZoom&quot;: 18, &quot;minZoom&quot;: 0, &quot;noWrap&quot;: false, &quot;opacity&quot;: 1, &quot;subdomains&quot;: &quot;abc&quot;, &quot;tms&quot;: false}\n",
       "            ).addTo(map_e08d5620e75673e93154f55c6144faaf);\n",
       "        \n",
       "    \n",
       "            var tile_layer_b9bc320d68f06dcc7f834175ac8cc504 = L.tileLayer(\n",
       "                &quot;https://{s}.tile.openstreetmap.org/{z}/{x}/{y}.png&quot;,\n",
       "                {&quot;attribution&quot;: &quot;Data by \\u0026copy; \\u003ca href=\\&quot;http://openstreetmap.org\\&quot;\\u003eOpenStreetMap\\u003c/a\\u003e, under \\u003ca href=\\&quot;http://www.openstreetmap.org/copyright\\&quot;\\u003eODbL\\u003c/a\\u003e.&quot;, &quot;detectRetina&quot;: false, &quot;maxNativeZoom&quot;: 18, &quot;maxZoom&quot;: 18, &quot;minZoom&quot;: 0, &quot;noWrap&quot;: false, &quot;opacity&quot;: 1, &quot;subdomains&quot;: &quot;abc&quot;, &quot;tms&quot;: false}\n",
       "            ).addTo(map_e08d5620e75673e93154f55c6144faaf);\n",
       "        \n",
       "    \n",
       "\n",
       "        function geo_json_fa51f2ddf1ace94757e22cdefc96a0ab_onEachFeature(feature, layer) {\n",
       "            layer.on({\n",
       "                click: function(e) {\n",
       "                    if (typeof e.target.getBounds === &#x27;function&#x27;) {\n",
       "                        map_e08d5620e75673e93154f55c6144faaf.fitBounds(e.target.getBounds());\n",
       "                    }\n",
       "                    else if (typeof e.target.getLatLng === &#x27;function&#x27;){\n",
       "                        let zoom = map_e08d5620e75673e93154f55c6144faaf.getZoom()\n",
       "                        zoom = zoom &gt; 12 ? zoom : zoom + 1\n",
       "                        map_e08d5620e75673e93154f55c6144faaf.flyTo(e.target.getLatLng(), zoom)\n",
       "                    }\n",
       "                }\n",
       "            });\n",
       "        };\n",
       "        var geo_json_fa51f2ddf1ace94757e22cdefc96a0ab = L.geoJson(null, {\n",
       "                onEachFeature: geo_json_fa51f2ddf1ace94757e22cdefc96a0ab_onEachFeature,\n",
       "            \n",
       "        });\n",
       "\n",
       "        function geo_json_fa51f2ddf1ace94757e22cdefc96a0ab_add (data) {\n",
       "            geo_json_fa51f2ddf1ace94757e22cdefc96a0ab\n",
       "                .addData(data)\n",
       "                .addTo(map_e08d5620e75673e93154f55c6144faaf);\n",
       "        }\n",
       "            geo_json_fa51f2ddf1ace94757e22cdefc96a0ab_add({&quot;bbox&quot;: [-1.704491, 6.7371196, -1.6858355, 6.7468265], &quot;features&quot;: [{&quot;bbox&quot;: [-1.704491, 6.7371196, -1.6858355, 6.7468265], &quot;geometry&quot;: {&quot;coordinates&quot;: [[[[-1.7032473, 6.7468265], [-1.7023146, 6.7468265], [-1.7023146, 6.746353], [-1.7020036, 6.746353], [-1.7020036, 6.745406], [-1.7016927, 6.745406], [-1.7016927, 6.7451692], [-1.7013818, 6.7451692], [-1.7013818, 6.7449325], [-1.7001381, 6.7449325], [-1.7001381, 6.7446957], [-1.6985835, 6.7446957], [-1.6985835, 6.7444589], [-1.6970288, 6.7444589], [-1.6970288, 6.7446957], [-1.6967179, 6.7446957], [-1.6967179, 6.7442222], [-1.6951633, 6.7442222], [-1.6951633, 6.7439854], [-1.6939196, 6.7439854], [-1.6939196, 6.7437487], [-1.692054, 6.7437487], [-1.692054, 6.7435119], [-1.6917431, 6.7435119], [-1.6917431, 6.7430384], [-1.6911213, 6.7430384], [-1.6911213, 6.7428017], [-1.6901885, 6.7428017], [-1.6901885, 6.7425649], [-1.6898776, 6.7425649], [-1.6898776, 6.7423282], [-1.6886339, 6.7423282], [-1.6886339, 6.7420914], [-1.6877011, 6.7420914], [-1.6877011, 6.7418547], [-1.6873902, 6.7418547], [-1.6873902, 6.7413812], [-1.6870792, 6.7413812], [-1.6870792, 6.7409077], [-1.6858355, 6.7409077], [-1.6858355, 6.7406709], [-1.6861465, 6.7406709], [-1.6861465, 6.7401974], [-1.6864574, 6.7401974], [-1.6864574, 6.7397239], [-1.6867683, 6.7397239], [-1.6867683, 6.7394871], [-1.6873902, 6.7394871], [-1.6873902, 6.7397239], [-1.688012, 6.7397239], [-1.688012, 6.7399606], [-1.6883229, 6.7399606], [-1.6883229, 6.7401974], [-1.6892557, 6.7401974], [-1.6892557, 6.7404341], [-1.6898776, 6.7404341], [-1.6898776, 6.7401974], [-1.6908103, 6.7401974], [-1.6908103, 6.7383034], [-1.6911213, 6.7383034], [-1.6911213, 6.7375931], [-1.6908103, 6.7375931], [-1.6908103, 6.7373564], [-1.6914322, 6.7373564], [-1.6914322, 6.7371196], [-1.6917431, 6.7371196], [-1.6917431, 6.7373564], [-1.692054, 6.7373564], [-1.692054, 6.7380666], [-1.6917431, 6.7380666], [-1.6917431, 6.7401974], [-1.692054, 6.7401974], [-1.692054, 6.7413812], [-1.6936087, 6.7413812], [-1.6936087, 6.7418547], [-1.6951633, 6.7418547], [-1.6951633, 6.7420914], [-1.6957851, 6.7420914], [-1.6957851, 6.7423282], [-1.6960961, 6.7423282], [-1.6960961, 6.7425649], [-1.696407, 6.7425649], [-1.696407, 6.7430384], [-1.6970288, 6.7430384], [-1.6970288, 6.7432752], [-1.6973398, 6.7432752], [-1.6973398, 6.7437487], [-1.6982725, 6.7437487], [-1.6982725, 6.7435119], [-1.6988944, 6.7435119], [-1.6988944, 6.7432752], [-1.6992053, 6.7432752], [-1.6992053, 6.7430384], [-1.7010709, 6.7430384], [-1.7010709, 6.7397239], [-1.7016927, 6.7397239], [-1.7016927, 6.7399606], [-1.7023146, 6.7399606], [-1.7023146, 6.7401974], [-1.7029364, 6.7401974], [-1.7029364, 6.7404341], [-1.7035583, 6.7404341], [-1.7035583, 6.7406709], [-1.7038692, 6.7406709], [-1.7038692, 6.7404341], [-1.704491, 6.7404341], [-1.704491, 6.7418547], [-1.7041801, 6.7418547], [-1.7041801, 6.7423282], [-1.7038692, 6.7423282], [-1.7038692, 6.7428017], [-1.7035583, 6.7428017], [-1.7035583, 6.7444589], [-1.7038692, 6.7444589], [-1.7038692, 6.7446957], [-1.7041801, 6.7446957], [-1.7041801, 6.7456427], [-1.7038692, 6.7456427], [-1.7038692, 6.7458795], [-1.7035583, 6.7458795], [-1.7035583, 6.7461162], [-1.7032473, 6.7461162], [-1.7032473, 6.7468265]]]], &quot;type&quot;: &quot;MultiPolygon&quot;}, &quot;id&quot;: &quot;0&quot;, &quot;properties&quot;: {&quot;area_m2&quot;: 593099.9994, &quot;id&quot;: &quot;DEAfrica_Waterbodies.29757&quot;, &quot;length_m&quot;: 1877.733290271007, &quot;perim_m&quot;: 7680, &quot;uid&quot;: &quot;ecny37ktqf&quot;, &quot;wb_id&quot;: 29757}, &quot;type&quot;: &quot;Feature&quot;}], &quot;type&quot;: &quot;FeatureCollection&quot;});\n",
       "\n",
       "        \n",
       "    \n",
       "            var layer_control_ff5c0a4c3e488136077a41b32a265a93 = {\n",
       "                base_layers : {\n",
       "                    &quot;Planet NICFI 2024-04&quot; : tile_layer_c83980de1c3cc39afee7447bbe32fbe3,\n",
       "                    &quot;openstreetmap&quot; : tile_layer_b9bc320d68f06dcc7f834175ac8cc504,\n",
       "                },\n",
       "                overlays :  {\n",
       "                    &quot;Water Body&quot; : geo_json_fa51f2ddf1ace94757e22cdefc96a0ab,\n",
       "                },\n",
       "            };\n",
       "            L.control.layers(\n",
       "                layer_control_ff5c0a4c3e488136077a41b32a265a93.base_layers,\n",
       "                layer_control_ff5c0a4c3e488136077a41b32a265a93.overlays,\n",
       "                {&quot;autoZIndex&quot;: true, &quot;collapsed&quot;: true, &quot;position&quot;: &quot;topright&quot;}\n",
       "            ).addTo(map_e08d5620e75673e93154f55c6144faaf);\n",
       "            tile_layer_b9bc320d68f06dcc7f834175ac8cc504.remove();\n",
       "        \n",
       "&lt;/script&gt;\n",
       "&lt;/html&gt;\" style=\"position:absolute;width:100%;height:100%;left:0;top:0;border:none !important;\" allowfullscreen webkitallowfullscreen mozallowfullscreen></iframe></div></div>"
      ],
      "text/plain": [
       "<folium.folium.Map at 0x7fee5b2d3070>"
      ]
     },
     "execution_count": 7,
     "metadata": {},
     "output_type": "execute_result"
    }
   ],
   "source": [
    "# Display last calendar month\n",
    "year, month = get_last_calendar_month()\n",
    "planet_monthly = f\"https://api.digitalearth.africa/planet/tiles/basemaps/v1/planet-tiles/planet_medres_visual_{year:04d}-{month:02d}_mosaic/gmap/\"+\"{z}/{x}/{y}.png\"\n",
    "m = folium.Map(location=(lat, lon), zoom_start=14, tiles=None)\n",
    "\n",
    "folium.TileLayer(planet_monthly, attr='Planet NICFI', name=f'Planet NICFI {year:04d}-{month:02d}', show=True).add_to(m)\n",
    "folium.TileLayer('OpenStreetMap', show=False).add_to(m)\n",
    "folium.GeoJson(polygons, zoom_on_click=True, name='Water Body').add_to(m)\n",
    "folium.LayerControl().add_to(m)\n",
    "\n",
    "m"
   ]
  },
  {
   "cell_type": "markdown",
   "id": "143428b4-9b16-44a8-873b-f3276a63d72b",
   "metadata": {},
   "source": [
    "#### Water Observation from Space"
   ]
  },
  {
   "cell_type": "code",
   "execution_count": 29,
   "id": "305473b0-ec0d-4c63-93cf-90e04b5bf3cc",
   "metadata": {},
   "outputs": [
    {
     "name": "stdout",
     "output_type": "stream",
     "text": [
      "<xarray.Dataset>\n",
      "Dimensions:      (time: 1, y: 423, x: 323)\n",
      "Coordinates:\n",
      "  * time         (time) datetime64[ns] 2022-07-02T11:59:59.999999\n",
      "  * y            (y) float64 8.646e+05 8.645e+05 ... 8.519e+05 8.519e+05\n",
      "  * x            (x) float64 -1.682e+05 -1.682e+05 ... -1.586e+05 -1.586e+05\n",
      "    spatial_ref  int32 6933\n",
      "Data variables:\n",
      "    count_wet    (time, y, x) int16 0 0 0 0 0 0 0 0 0 0 ... 0 0 0 0 0 0 0 0 0 0\n",
      "    count_clear  (time, y, x) int16 7 7 7 7 7 7 7 7 7 ... 10 10 9 9 10 10 10 10\n",
      "    frequency    (time, y, x) float32 0.0 0.0 0.0 0.0 0.0 ... 0.0 0.0 0.0 0.0\n",
      "Attributes:\n",
      "    crs:           epsg:6933\n",
      "    grid_mapping:  spatial_ref\n"
     ]
    }
   ],
   "source": [
    "dc = datacube.Datacube(app=\"wofs\")\n",
    "\n",
    "# Create a reusable query\n",
    "query = {\n",
    "    'x': xlim,\n",
    "    'y': ylim,\n",
    "    'time': '2022',\n",
    "    'resolution': (-30, 30)\n",
    "}\n",
    "\n",
    "#grab crs of location\n",
    "output_crs = mostcommon_crs(dc=dc, product='wofs_ls_summary_annual', query=query)\n",
    "\n",
    "# Load WOfS feature layers \n",
    "wofs= dc.load(product = 'wofs_ls_summary_annual',\n",
    "               group_by=\"solar_day\",\n",
    "\n",
    "               **query)\n",
    "\n",
    "print(wofs)"
   ]
  },
  {
   "cell_type": "code",
   "execution_count": 45,
   "id": "167685c5-3227-43d5-a637-aa7a28cf2cae",
   "metadata": {},
   "outputs": [
    {
     "data": {
      "text/plain": [
       "<bound method DataArray.to_numpy of <xarray.DataArray 'frequency' (time: 1, y: 423, x: 323)>\n",
       "array([[[0. , 0. , 0. , ..., 0. , 0. , 0. ],\n",
       "        [0. , 0. , 0. , ..., 0. , 0. , 0. ],\n",
       "        [0. , 0. , 0. , ..., 0. , 0. , 0. ],\n",
       "        ...,\n",
       "        [0. , 0. , 0. , ..., 0. , 0. , 0. ],\n",
       "        [0. , 0. , 0. , ..., 0. , 0. , 0.1],\n",
       "        [0. , 0. , 0. , ..., 0. , 0. , 0. ]]], dtype=float32)\n",
       "Coordinates:\n",
       "  * time         (time) datetime64[ns] 2022-07-02T11:59:59.999999\n",
       "  * y            (y) float64 8.646e+05 8.645e+05 ... 8.519e+05 8.519e+05\n",
       "  * x            (x) float64 -1.682e+05 -1.682e+05 ... -1.586e+05 -1.586e+05\n",
       "    spatial_ref  int32 6933\n",
       "Attributes:\n",
       "    units:         1\n",
       "    nodata:        nan\n",
       "    crs:           epsg:6933\n",
       "    grid_mapping:  spatial_ref>"
      ]
     },
     "execution_count": 45,
     "metadata": {},
     "output_type": "execute_result"
    }
   ],
   "source": [
    "wofs['frequency'].to_numpy"
   ]
  },
  {
   "cell_type": "code",
   "execution_count": 39,
   "id": "e7310258-9c83-4852-b95f-f06a29d7cc83",
   "metadata": {},
   "outputs": [
    {
     "ename": "ValueError",
     "evalue": "Data must be NxM (mono), NxMx3 (RGB), or NxMx4 (RGBA)",
     "output_type": "error",
     "traceback": [
      "\u001b[0;31m---------------------------------------------------------------------------\u001b[0m",
      "\u001b[0;31mValueError\u001b[0m                                Traceback (most recent call last)",
      "Cell \u001b[0;32mIn[39], line 1\u001b[0m\n\u001b[0;32m----> 1\u001b[0m \u001b[43mfolium\u001b[49m\u001b[38;5;241;43m.\u001b[39;49m\u001b[43mraster_layers\u001b[49m\u001b[38;5;241;43m.\u001b[39;49m\u001b[43mImageOverlay\u001b[49m\u001b[43m(\u001b[49m\n\u001b[1;32m      2\u001b[0m \u001b[43m    \u001b[49m\u001b[43mimage\u001b[49m\u001b[38;5;241;43m=\u001b[39;49m\u001b[43mwofs\u001b[49m\u001b[43m[\u001b[49m\u001b[38;5;124;43m'\u001b[39;49m\u001b[38;5;124;43mfrequency\u001b[39;49m\u001b[38;5;124;43m'\u001b[39;49m\u001b[43m]\u001b[49m\u001b[38;5;241;43m.\u001b[39;49m\u001b[43mto_numpy\u001b[49m\u001b[43m(\u001b[49m\u001b[43m)\u001b[49m\u001b[43m,\u001b[49m\n\u001b[1;32m      3\u001b[0m \u001b[43m    \u001b[49m\u001b[43mbounds\u001b[49m\u001b[38;5;241;43m=\u001b[39;49m\u001b[43m[\u001b[49m\u001b[43m[\u001b[49m\u001b[43mwofs\u001b[49m\u001b[38;5;241;43m.\u001b[39;49m\u001b[43mgeobox\u001b[49m\u001b[38;5;241;43m.\u001b[39;49m\u001b[43mextent\u001b[49m\u001b[38;5;241;43m.\u001b[39;49m\u001b[43mboundingbox\u001b[49m\u001b[38;5;241;43m.\u001b[39;49m\u001b[43mtop\u001b[49m\u001b[43m,\u001b[49m\u001b[43m \u001b[49m\u001b[43mwofs\u001b[49m\u001b[38;5;241;43m.\u001b[39;49m\u001b[43mgeobox\u001b[49m\u001b[38;5;241;43m.\u001b[39;49m\u001b[43mextent\u001b[49m\u001b[38;5;241;43m.\u001b[39;49m\u001b[43mboundingbox\u001b[49m\u001b[38;5;241;43m.\u001b[39;49m\u001b[43mleft\u001b[49m\u001b[43m]\u001b[49m\u001b[43m,\u001b[49m\u001b[43m \u001b[49m\n\u001b[1;32m      4\u001b[0m \u001b[43m            \u001b[49m\u001b[43m[\u001b[49m\u001b[43mwofs\u001b[49m\u001b[38;5;241;43m.\u001b[39;49m\u001b[43mgeobox\u001b[49m\u001b[38;5;241;43m.\u001b[39;49m\u001b[43mextent\u001b[49m\u001b[38;5;241;43m.\u001b[39;49m\u001b[43mboundingbox\u001b[49m\u001b[38;5;241;43m.\u001b[39;49m\u001b[43mbottom\u001b[49m\u001b[43m,\u001b[49m\u001b[43m \u001b[49m\u001b[43mwofs\u001b[49m\u001b[38;5;241;43m.\u001b[39;49m\u001b[43mgeobox\u001b[49m\u001b[38;5;241;43m.\u001b[39;49m\u001b[43mextent\u001b[49m\u001b[38;5;241;43m.\u001b[39;49m\u001b[43mboundingbox\u001b[49m\u001b[38;5;241;43m.\u001b[39;49m\u001b[43mright\u001b[49m\u001b[43m]\u001b[49m\u001b[43m]\u001b[49m\u001b[43m,\u001b[49m\n\u001b[1;32m      5\u001b[0m \u001b[43m    \u001b[49m\u001b[43mmercator_project\u001b[49m\u001b[38;5;241;43m=\u001b[39;49m\u001b[38;5;28;43;01mTrue\u001b[39;49;00m\u001b[43m,\u001b[49m\n\u001b[1;32m      6\u001b[0m \u001b[43m    \u001b[49m\u001b[43mopacity\u001b[49m\u001b[38;5;241;43m=\u001b[39;49m\u001b[38;5;241;43m0.25\u001b[39;49m\u001b[43m,\u001b[49m\n\u001b[1;32m      7\u001b[0m \u001b[43m)\u001b[49m\u001b[38;5;241m.\u001b[39madd_to(m)\n",
      "File \u001b[0;32m/usr/local/lib/python3.10/dist-packages/folium/raster_layers.py:260\u001b[0m, in \u001b[0;36mImageOverlay.__init__\u001b[0;34m(self, image, bounds, origin, colormap, mercator_project, pixelated, name, overlay, control, show, **kwargs)\u001b[0m\n\u001b[1;32m    253\u001b[0m \u001b[38;5;28;01mif\u001b[39;00m mercator_project:\n\u001b[1;32m    254\u001b[0m     image \u001b[38;5;241m=\u001b[39m mercator_transform(\n\u001b[1;32m    255\u001b[0m         image,\n\u001b[1;32m    256\u001b[0m         [bounds[\u001b[38;5;241m0\u001b[39m][\u001b[38;5;241m0\u001b[39m], bounds[\u001b[38;5;241m1\u001b[39m][\u001b[38;5;241m0\u001b[39m]],\n\u001b[1;32m    257\u001b[0m         origin\u001b[38;5;241m=\u001b[39morigin\n\u001b[1;32m    258\u001b[0m     )\n\u001b[0;32m--> 260\u001b[0m \u001b[38;5;28mself\u001b[39m\u001b[38;5;241m.\u001b[39murl \u001b[38;5;241m=\u001b[39m \u001b[43mimage_to_url\u001b[49m\u001b[43m(\u001b[49m\u001b[43mimage\u001b[49m\u001b[43m,\u001b[49m\u001b[43m \u001b[49m\u001b[43morigin\u001b[49m\u001b[38;5;241;43m=\u001b[39;49m\u001b[43morigin\u001b[49m\u001b[43m,\u001b[49m\u001b[43m \u001b[49m\u001b[43mcolormap\u001b[49m\u001b[38;5;241;43m=\u001b[39;49m\u001b[43mcolormap\u001b[49m\u001b[43m)\u001b[49m\n",
      "File \u001b[0;32m/usr/local/lib/python3.10/dist-packages/folium/utilities.py:139\u001b[0m, in \u001b[0;36mimage_to_url\u001b[0;34m(image, colormap, origin)\u001b[0m\n\u001b[1;32m    137\u001b[0m     url \u001b[38;5;241m=\u001b[39m \u001b[38;5;124m'\u001b[39m\u001b[38;5;124mdata:image/\u001b[39m\u001b[38;5;132;01m{}\u001b[39;00m\u001b[38;5;124m;base64,\u001b[39m\u001b[38;5;132;01m{}\u001b[39;00m\u001b[38;5;124m'\u001b[39m\u001b[38;5;241m.\u001b[39mformat(fileformat, b64encoded)\n\u001b[1;32m    138\u001b[0m \u001b[38;5;28;01melif\u001b[39;00m \u001b[38;5;124m'\u001b[39m\u001b[38;5;124mndarray\u001b[39m\u001b[38;5;124m'\u001b[39m \u001b[38;5;129;01min\u001b[39;00m image\u001b[38;5;241m.\u001b[39m\u001b[38;5;18m__class__\u001b[39m\u001b[38;5;241m.\u001b[39m\u001b[38;5;18m__name__\u001b[39m:\n\u001b[0;32m--> 139\u001b[0m     img \u001b[38;5;241m=\u001b[39m \u001b[43mwrite_png\u001b[49m\u001b[43m(\u001b[49m\u001b[43mimage\u001b[49m\u001b[43m,\u001b[49m\u001b[43m \u001b[49m\u001b[43morigin\u001b[49m\u001b[38;5;241;43m=\u001b[39;49m\u001b[43morigin\u001b[49m\u001b[43m,\u001b[49m\u001b[43m \u001b[49m\u001b[43mcolormap\u001b[49m\u001b[38;5;241;43m=\u001b[39;49m\u001b[43mcolormap\u001b[49m\u001b[43m)\u001b[49m\n\u001b[1;32m    140\u001b[0m     b64encoded \u001b[38;5;241m=\u001b[39m base64\u001b[38;5;241m.\u001b[39mb64encode(img)\u001b[38;5;241m.\u001b[39mdecode(\u001b[38;5;124m'\u001b[39m\u001b[38;5;124mutf-8\u001b[39m\u001b[38;5;124m'\u001b[39m)\n\u001b[1;32m    141\u001b[0m     url \u001b[38;5;241m=\u001b[39m \u001b[38;5;124m'\u001b[39m\u001b[38;5;124mdata:image/png;base64,\u001b[39m\u001b[38;5;132;01m{}\u001b[39;00m\u001b[38;5;124m'\u001b[39m\u001b[38;5;241m.\u001b[39mformat(b64encoded)\n",
      "File \u001b[0;32m/usr/local/lib/python3.10/dist-packages/folium/utilities.py:196\u001b[0m, in \u001b[0;36mwrite_png\u001b[0;34m(data, origin, colormap)\u001b[0m\n\u001b[1;32m    193\u001b[0m height, width, nblayers \u001b[38;5;241m=\u001b[39m arr\u001b[38;5;241m.\u001b[39mshape\n\u001b[1;32m    195\u001b[0m \u001b[38;5;28;01mif\u001b[39;00m nblayers \u001b[38;5;129;01mnot\u001b[39;00m \u001b[38;5;129;01min\u001b[39;00m [\u001b[38;5;241m1\u001b[39m, \u001b[38;5;241m3\u001b[39m, \u001b[38;5;241m4\u001b[39m]:\n\u001b[0;32m--> 196\u001b[0m     \u001b[38;5;28;01mraise\u001b[39;00m \u001b[38;5;167;01mValueError\u001b[39;00m(\u001b[38;5;124m'\u001b[39m\u001b[38;5;124mData must be NxM (mono), \u001b[39m\u001b[38;5;124m'\u001b[39m\n\u001b[1;32m    197\u001b[0m                      \u001b[38;5;124m'\u001b[39m\u001b[38;5;124mNxMx3 (RGB), or NxMx4 (RGBA)\u001b[39m\u001b[38;5;124m'\u001b[39m)\n\u001b[1;32m    198\u001b[0m \u001b[38;5;28;01massert\u001b[39;00m arr\u001b[38;5;241m.\u001b[39mshape \u001b[38;5;241m==\u001b[39m (height, width, nblayers)\n\u001b[1;32m    200\u001b[0m \u001b[38;5;28;01mif\u001b[39;00m nblayers \u001b[38;5;241m==\u001b[39m \u001b[38;5;241m1\u001b[39m:\n",
      "\u001b[0;31mValueError\u001b[0m: Data must be NxM (mono), NxMx3 (RGB), or NxMx4 (RGBA)"
     ]
    }
   ],
   "source": [
    "folium.raster_layers.ImageOverlay(\n",
    "    image=wofs['frequency'].to_numpy(),\n",
    "    bounds=[[wofs.geobox.extent.boundingbox.top, wofs.geobox.extent.boundingbox.left], \n",
    "            [wofs.geobox.extent.boundingbox.bottom, wofs.geobox.extent.boundingbox.right]],\n",
    "    mercator_project=True,\n",
    "    opacity=0.25,\n",
    ").add_to(m)"
   ]
  },
  {
   "cell_type": "code",
   "execution_count": 15,
   "id": "ec5856df-4905-4bde-9fd1-5e6e016f7883",
   "metadata": {},
   "outputs": [],
   "source": [
    "import rioxarray"
   ]
  },
  {
   "cell_type": "code",
   "execution_count": null,
   "id": "73907e43-8b83-451f-8cad-37490f40c079",
   "metadata": {},
   "outputs": [
    {
     "ename": "TypeError",
     "evalue": "invalid path or file: <xarray.DataArray 'frequency' (time: 1, y: 423, x: 323)>\narray([[[0. , 0. , 0. , ..., 0. , 0. , 0. ],\n        [0. , 0. , 0. , ..., 0. , 0. , 0. ],\n        [0. , 0. , 0. , ..., 0. , 0. , 0. ],\n        ...,\n        [0. , 0. , 0. , ..., 0. , 0. , 0. ],\n        [0. , 0. , 0. , ..., 0. , 0. , 0.1],\n        [0. , 0. , 0. , ..., 0. , 0. , 0. ]]], dtype=float32)\nCoordinates:\n  * time         (time) datetime64[ns] 2022-07-02T11:59:59.999999\n  * y            (y) float64 8.646e+05 8.645e+05 ... 8.519e+05 8.519e+05\n  * x            (x) float64 -1.682e+05 -1.682e+05 ... -1.586e+05 -1.586e+05\n    spatial_ref  int32 6933\nAttributes:\n    units:         1\n    nodata:        nan\n    crs:           epsg:6933\n    grid_mapping:  spatial_ref",
     "output_type": "error",
     "traceback": [
      "\u001b[0;31m---------------------------------------------------------------------------\u001b[0m",
      "\u001b[0;31mTypeError\u001b[0m                                 Traceback (most recent call last)",
      "Cell \u001b[0;32mIn[17], line 1\u001b[0m\n\u001b[0;32m----> 1\u001b[0m \u001b[43mrioxarray\u001b[49m\u001b[38;5;241;43m.\u001b[39;49m\u001b[43mopen_rasterio\u001b[49m\u001b[43m(\u001b[49m\u001b[43mwofs\u001b[49m\u001b[43m[\u001b[49m\u001b[38;5;124;43m'\u001b[39;49m\u001b[38;5;124;43mfrequency\u001b[39;49m\u001b[38;5;124;43m'\u001b[39;49m\u001b[43m]\u001b[49m\u001b[43m)\u001b[49m\n",
      "File \u001b[0;32m/usr/local/lib/python3.10/dist-packages/rioxarray/_io.py:1124\u001b[0m, in \u001b[0;36mopen_rasterio\u001b[0;34m(filename, parse_coordinates, chunks, cache, lock, masked, mask_and_scale, variable, group, default_name, decode_times, decode_timedelta, band_as_variable, **open_kwargs)\u001b[0m\n\u001b[1;32m   1122\u001b[0m     \u001b[38;5;28;01melse\u001b[39;00m:\n\u001b[1;32m   1123\u001b[0m         manager \u001b[38;5;241m=\u001b[39m URIManager(file_opener, filename, mode\u001b[38;5;241m=\u001b[39m\u001b[38;5;124m\"\u001b[39m\u001b[38;5;124mr\u001b[39m\u001b[38;5;124m\"\u001b[39m, kwargs\u001b[38;5;241m=\u001b[39mopen_kwargs)\n\u001b[0;32m-> 1124\u001b[0m     riods \u001b[38;5;241m=\u001b[39m \u001b[43mmanager\u001b[49m\u001b[38;5;241;43m.\u001b[39;49m\u001b[43macquire\u001b[49m\u001b[43m(\u001b[49m\u001b[43m)\u001b[49m\n\u001b[1;32m   1125\u001b[0m     captured_warnings \u001b[38;5;241m=\u001b[39m rio_warnings\u001b[38;5;241m.\u001b[39mcopy()\n\u001b[1;32m   1127\u001b[0m \u001b[38;5;66;03m# raise the NotGeoreferencedWarning if applicable\u001b[39;00m\n",
      "File \u001b[0;32m/usr/local/lib/python3.10/dist-packages/rioxarray/_io.py:260\u001b[0m, in \u001b[0;36mURIManager.acquire\u001b[0;34m(self, needs_lock)\u001b[0m\n\u001b[1;32m    256\u001b[0m \u001b[38;5;28;01mif\u001b[39;00m \u001b[38;5;28mself\u001b[39m\u001b[38;5;241m.\u001b[39m_local\u001b[38;5;241m.\u001b[39mthread_manager \u001b[38;5;129;01mis\u001b[39;00m \u001b[38;5;28;01mNone\u001b[39;00m:\n\u001b[1;32m    257\u001b[0m     \u001b[38;5;28mself\u001b[39m\u001b[38;5;241m.\u001b[39m_local\u001b[38;5;241m.\u001b[39mthread_manager \u001b[38;5;241m=\u001b[39m ThreadURIManager(\n\u001b[1;32m    258\u001b[0m         \u001b[38;5;28mself\u001b[39m\u001b[38;5;241m.\u001b[39m_opener, \u001b[38;5;241m*\u001b[39m\u001b[38;5;28mself\u001b[39m\u001b[38;5;241m.\u001b[39m_args, mode\u001b[38;5;241m=\u001b[39m\u001b[38;5;28mself\u001b[39m\u001b[38;5;241m.\u001b[39m_mode, kwargs\u001b[38;5;241m=\u001b[39m\u001b[38;5;28mself\u001b[39m\u001b[38;5;241m.\u001b[39m_kwargs\n\u001b[1;32m    259\u001b[0m     )\n\u001b[0;32m--> 260\u001b[0m \u001b[38;5;28;01mreturn\u001b[39;00m \u001b[38;5;28;43mself\u001b[39;49m\u001b[38;5;241;43m.\u001b[39;49m\u001b[43m_local\u001b[49m\u001b[38;5;241;43m.\u001b[39;49m\u001b[43mthread_manager\u001b[49m\u001b[38;5;241;43m.\u001b[39;49m\u001b[43mfile_handle\u001b[49m\n",
      "File \u001b[0;32m/usr/local/lib/python3.10/dist-packages/rioxarray/_io.py:216\u001b[0m, in \u001b[0;36mThreadURIManager.file_handle\u001b[0;34m(self)\u001b[0m\n\u001b[1;32m    214\u001b[0m \u001b[38;5;28;01mif\u001b[39;00m \u001b[38;5;28mself\u001b[39m\u001b[38;5;241m.\u001b[39m_file_handle \u001b[38;5;129;01mis\u001b[39;00m \u001b[38;5;129;01mnot\u001b[39;00m \u001b[38;5;28;01mNone\u001b[39;00m:\n\u001b[1;32m    215\u001b[0m     \u001b[38;5;28;01mreturn\u001b[39;00m \u001b[38;5;28mself\u001b[39m\u001b[38;5;241m.\u001b[39m_file_handle\n\u001b[0;32m--> 216\u001b[0m \u001b[38;5;28mself\u001b[39m\u001b[38;5;241m.\u001b[39m_file_handle \u001b[38;5;241m=\u001b[39m \u001b[38;5;28;43mself\u001b[39;49m\u001b[38;5;241;43m.\u001b[39;49m\u001b[43m_opener\u001b[49m\u001b[43m(\u001b[49m\u001b[38;5;241;43m*\u001b[39;49m\u001b[38;5;28;43mself\u001b[39;49m\u001b[38;5;241;43m.\u001b[39;49m\u001b[43m_args\u001b[49m\u001b[43m,\u001b[49m\u001b[43m \u001b[49m\u001b[43mmode\u001b[49m\u001b[38;5;241;43m=\u001b[39;49m\u001b[38;5;28;43mself\u001b[39;49m\u001b[38;5;241;43m.\u001b[39;49m\u001b[43m_mode\u001b[49m\u001b[43m,\u001b[49m\u001b[43m \u001b[49m\u001b[38;5;241;43m*\u001b[39;49m\u001b[38;5;241;43m*\u001b[39;49m\u001b[38;5;28;43mself\u001b[39;49m\u001b[38;5;241;43m.\u001b[39;49m\u001b[43m_kwargs\u001b[49m\u001b[43m)\u001b[49m\n\u001b[1;32m    217\u001b[0m \u001b[38;5;28;01mreturn\u001b[39;00m \u001b[38;5;28mself\u001b[39m\u001b[38;5;241m.\u001b[39m_file_handle\n",
      "File \u001b[0;32m/usr/local/lib/python3.10/dist-packages/rasterio/env.py:451\u001b[0m, in \u001b[0;36mensure_env_with_credentials.<locals>.wrapper\u001b[0;34m(*args, **kwds)\u001b[0m\n\u001b[1;32m    448\u001b[0m     session \u001b[38;5;241m=\u001b[39m DummySession()\n\u001b[1;32m    450\u001b[0m \u001b[38;5;28;01mwith\u001b[39;00m env_ctor(session\u001b[38;5;241m=\u001b[39msession):\n\u001b[0;32m--> 451\u001b[0m     \u001b[38;5;28;01mreturn\u001b[39;00m \u001b[43mf\u001b[49m\u001b[43m(\u001b[49m\u001b[38;5;241;43m*\u001b[39;49m\u001b[43margs\u001b[49m\u001b[43m,\u001b[49m\u001b[43m \u001b[49m\u001b[38;5;241;43m*\u001b[39;49m\u001b[38;5;241;43m*\u001b[39;49m\u001b[43mkwds\u001b[49m\u001b[43m)\u001b[49m\n",
      "File \u001b[0;32m/usr/local/lib/python3.10/dist-packages/rasterio/__init__.py:216\u001b[0m, in \u001b[0;36mopen\u001b[0;34m(fp, mode, driver, width, height, count, crs, transform, dtype, nodata, sharing, **kwargs)\u001b[0m\n\u001b[1;32m    210\u001b[0m \u001b[38;5;28;01mif\u001b[39;00m \u001b[38;5;129;01mnot\u001b[39;00m \u001b[38;5;28misinstance\u001b[39m(fp, \u001b[38;5;28mstr\u001b[39m):\n\u001b[1;32m    211\u001b[0m     \u001b[38;5;28;01mif\u001b[39;00m \u001b[38;5;129;01mnot\u001b[39;00m (\n\u001b[1;32m    212\u001b[0m         \u001b[38;5;28mhasattr\u001b[39m(fp, \u001b[38;5;124m\"\u001b[39m\u001b[38;5;124mread\u001b[39m\u001b[38;5;124m\"\u001b[39m)\n\u001b[1;32m    213\u001b[0m         \u001b[38;5;129;01mor\u001b[39;00m \u001b[38;5;28mhasattr\u001b[39m(fp, \u001b[38;5;124m\"\u001b[39m\u001b[38;5;124mwrite\u001b[39m\u001b[38;5;124m\"\u001b[39m)\n\u001b[1;32m    214\u001b[0m         \u001b[38;5;129;01mor\u001b[39;00m \u001b[38;5;28misinstance\u001b[39m(fp, (os\u001b[38;5;241m.\u001b[39mPathLike, MemoryFile, FilePath))\n\u001b[1;32m    215\u001b[0m     ):\n\u001b[0;32m--> 216\u001b[0m         \u001b[38;5;28;01mraise\u001b[39;00m \u001b[38;5;167;01mTypeError\u001b[39;00m(\u001b[38;5;124m\"\u001b[39m\u001b[38;5;124minvalid path or file: \u001b[39m\u001b[38;5;132;01m{0!r}\u001b[39;00m\u001b[38;5;124m\"\u001b[39m\u001b[38;5;241m.\u001b[39mformat(fp))\n\u001b[1;32m    217\u001b[0m \u001b[38;5;28;01mif\u001b[39;00m mode \u001b[38;5;129;01mand\u001b[39;00m \u001b[38;5;129;01mnot\u001b[39;00m \u001b[38;5;28misinstance\u001b[39m(mode, \u001b[38;5;28mstr\u001b[39m):\n\u001b[1;32m    218\u001b[0m     \u001b[38;5;28;01mraise\u001b[39;00m \u001b[38;5;167;01mTypeError\u001b[39;00m(\u001b[38;5;124m\"\u001b[39m\u001b[38;5;124minvalid mode: \u001b[39m\u001b[38;5;132;01m{0!r}\u001b[39;00m\u001b[38;5;124m\"\u001b[39m\u001b[38;5;241m.\u001b[39mformat(mode))\n",
      "\u001b[0;31mTypeError\u001b[0m: invalid path or file: <xarray.DataArray 'frequency' (time: 1, y: 423, x: 323)>\narray([[[0. , 0. , 0. , ..., 0. , 0. , 0. ],\n        [0. , 0. , 0. , ..., 0. , 0. , 0. ],\n        [0. , 0. , 0. , ..., 0. , 0. , 0. ],\n        ...,\n        [0. , 0. , 0. , ..., 0. , 0. , 0. ],\n        [0. , 0. , 0. , ..., 0. , 0. , 0.1],\n        [0. , 0. , 0. , ..., 0. , 0. , 0. ]]], dtype=float32)\nCoordinates:\n  * time         (time) datetime64[ns] 2022-07-02T11:59:59.999999\n  * y            (y) float64 8.646e+05 8.645e+05 ... 8.519e+05 8.519e+05\n  * x            (x) float64 -1.682e+05 -1.682e+05 ... -1.586e+05 -1.586e+05\n    spatial_ref  int32 6933\nAttributes:\n    units:         1\n    nodata:        nan\n    crs:           epsg:6933\n    grid_mapping:  spatial_ref"
     ]
    }
   ],
   "source": [
    "rioxarray.open_rasterio(wofs['frequency'])"
   ]
  },
  {
   "cell_type": "code",
   "execution_count": null,
   "id": "b6696670-0dd1-41c8-9c5b-07dd6cbf52d4",
   "metadata": {},
   "outputs": [],
   "source": []
  },
  {
   "cell_type": "code",
   "execution_count": 32,
   "id": "993e185c-40d2-4de4-99ea-c81e22a307b0",
   "metadata": {},
   "outputs": [
    {
     "ename": "TypeError",
     "evalue": "Object of type DataArray is not JSON serializable",
     "output_type": "error",
     "traceback": [
      "\u001b[0;31m---------------------------------------------------------------------------\u001b[0m",
      "\u001b[0;31mTypeError\u001b[0m                                 Traceback (most recent call last)",
      "Cell \u001b[0;32mIn[32], line 1\u001b[0m\n\u001b[0;32m----> 1\u001b[0m \u001b[43mfolium\u001b[49m\u001b[38;5;241;43m.\u001b[39;49m\u001b[43mraster_layers\u001b[49m\u001b[38;5;241;43m.\u001b[39;49m\u001b[43mImageOverlay\u001b[49m\u001b[43m(\u001b[49m\n\u001b[1;32m      2\u001b[0m \u001b[43m    \u001b[49m\u001b[43mimage\u001b[49m\u001b[38;5;241;43m=\u001b[39;49m\u001b[43mwofs\u001b[49m\u001b[38;5;241;43m.\u001b[39;49m\u001b[43mfrequency\u001b[49m\u001b[43m,\u001b[49m\n\u001b[1;32m      3\u001b[0m \u001b[43m     \u001b[49m\u001b[43mbounds\u001b[49m\u001b[38;5;241;43m=\u001b[39;49m\u001b[43m[\u001b[49m\u001b[43m[\u001b[49m\u001b[38;5;241;43m0\u001b[39;49m\u001b[43m,\u001b[49m\u001b[43m \u001b[49m\u001b[38;5;241;43m-\u001b[39;49m\u001b[38;5;241;43m60\u001b[39;49m\u001b[43m]\u001b[49m\u001b[43m,\u001b[49m\u001b[43m \u001b[49m\u001b[43m[\u001b[49m\u001b[38;5;241;43m60\u001b[39;49m\u001b[43m,\u001b[49m\u001b[43m \u001b[49m\u001b[38;5;241;43m60\u001b[39;49m\u001b[43m]\u001b[49m\u001b[43m]\u001b[49m\u001b[43m,\u001b[49m\n\u001b[1;32m      4\u001b[0m \u001b[43m    \u001b[49m\u001b[43morigin\u001b[49m\u001b[38;5;241;43m=\u001b[39;49m\u001b[38;5;124;43m\"\u001b[39;49m\u001b[38;5;124;43mlower\u001b[39;49m\u001b[38;5;124;43m\"\u001b[39;49m\u001b[43m,\u001b[49m\u001b[43m)\u001b[49m\u001b[38;5;241m.\u001b[39madd_to(m)\n\u001b[1;32m      5\u001b[0m m\n",
      "File \u001b[0;32m/usr/local/lib/python3.10/dist-packages/folium/raster_layers.py:260\u001b[0m, in \u001b[0;36mImageOverlay.__init__\u001b[0;34m(self, image, bounds, origin, colormap, mercator_project, pixelated, name, overlay, control, show, **kwargs)\u001b[0m\n\u001b[1;32m    253\u001b[0m \u001b[38;5;28;01mif\u001b[39;00m mercator_project:\n\u001b[1;32m    254\u001b[0m     image \u001b[38;5;241m=\u001b[39m mercator_transform(\n\u001b[1;32m    255\u001b[0m         image,\n\u001b[1;32m    256\u001b[0m         [bounds[\u001b[38;5;241m0\u001b[39m][\u001b[38;5;241m0\u001b[39m], bounds[\u001b[38;5;241m1\u001b[39m][\u001b[38;5;241m0\u001b[39m]],\n\u001b[1;32m    257\u001b[0m         origin\u001b[38;5;241m=\u001b[39morigin\n\u001b[1;32m    258\u001b[0m     )\n\u001b[0;32m--> 260\u001b[0m \u001b[38;5;28mself\u001b[39m\u001b[38;5;241m.\u001b[39murl \u001b[38;5;241m=\u001b[39m \u001b[43mimage_to_url\u001b[49m\u001b[43m(\u001b[49m\u001b[43mimage\u001b[49m\u001b[43m,\u001b[49m\u001b[43m \u001b[49m\u001b[43morigin\u001b[49m\u001b[38;5;241;43m=\u001b[39;49m\u001b[43morigin\u001b[49m\u001b[43m,\u001b[49m\u001b[43m \u001b[49m\u001b[43mcolormap\u001b[49m\u001b[38;5;241;43m=\u001b[39;49m\u001b[43mcolormap\u001b[49m\u001b[43m)\u001b[49m\n",
      "File \u001b[0;32m/usr/local/lib/python3.10/dist-packages/folium/utilities.py:144\u001b[0m, in \u001b[0;36mimage_to_url\u001b[0;34m(image, colormap, origin)\u001b[0m\n\u001b[1;32m    141\u001b[0m     url \u001b[38;5;241m=\u001b[39m \u001b[38;5;124m'\u001b[39m\u001b[38;5;124mdata:image/png;base64,\u001b[39m\u001b[38;5;132;01m{}\u001b[39;00m\u001b[38;5;124m'\u001b[39m\u001b[38;5;241m.\u001b[39mformat(b64encoded)\n\u001b[1;32m    142\u001b[0m \u001b[38;5;28;01melse\u001b[39;00m:\n\u001b[1;32m    143\u001b[0m     \u001b[38;5;66;03m# Round-trip to ensure a nice formatted json.\u001b[39;00m\n\u001b[0;32m--> 144\u001b[0m     url \u001b[38;5;241m=\u001b[39m json\u001b[38;5;241m.\u001b[39mloads(\u001b[43mjson\u001b[49m\u001b[38;5;241;43m.\u001b[39;49m\u001b[43mdumps\u001b[49m\u001b[43m(\u001b[49m\u001b[43mimage\u001b[49m\u001b[43m)\u001b[49m)\n\u001b[1;32m    145\u001b[0m \u001b[38;5;28;01mreturn\u001b[39;00m url\u001b[38;5;241m.\u001b[39mreplace(\u001b[38;5;124m'\u001b[39m\u001b[38;5;130;01m\\n\u001b[39;00m\u001b[38;5;124m'\u001b[39m, \u001b[38;5;124m'\u001b[39m\u001b[38;5;124m \u001b[39m\u001b[38;5;124m'\u001b[39m)\n",
      "File \u001b[0;32m/usr/lib/python3.10/json/__init__.py:231\u001b[0m, in \u001b[0;36mdumps\u001b[0;34m(obj, skipkeys, ensure_ascii, check_circular, allow_nan, cls, indent, separators, default, sort_keys, **kw)\u001b[0m\n\u001b[1;32m    226\u001b[0m \u001b[38;5;66;03m# cached encoder\u001b[39;00m\n\u001b[1;32m    227\u001b[0m \u001b[38;5;28;01mif\u001b[39;00m (\u001b[38;5;129;01mnot\u001b[39;00m skipkeys \u001b[38;5;129;01mand\u001b[39;00m ensure_ascii \u001b[38;5;129;01mand\u001b[39;00m\n\u001b[1;32m    228\u001b[0m     check_circular \u001b[38;5;129;01mand\u001b[39;00m allow_nan \u001b[38;5;129;01mand\u001b[39;00m\n\u001b[1;32m    229\u001b[0m     \u001b[38;5;28mcls\u001b[39m \u001b[38;5;129;01mis\u001b[39;00m \u001b[38;5;28;01mNone\u001b[39;00m \u001b[38;5;129;01mand\u001b[39;00m indent \u001b[38;5;129;01mis\u001b[39;00m \u001b[38;5;28;01mNone\u001b[39;00m \u001b[38;5;129;01mand\u001b[39;00m separators \u001b[38;5;129;01mis\u001b[39;00m \u001b[38;5;28;01mNone\u001b[39;00m \u001b[38;5;129;01mand\u001b[39;00m\n\u001b[1;32m    230\u001b[0m     default \u001b[38;5;129;01mis\u001b[39;00m \u001b[38;5;28;01mNone\u001b[39;00m \u001b[38;5;129;01mand\u001b[39;00m \u001b[38;5;129;01mnot\u001b[39;00m sort_keys \u001b[38;5;129;01mand\u001b[39;00m \u001b[38;5;129;01mnot\u001b[39;00m kw):\n\u001b[0;32m--> 231\u001b[0m     \u001b[38;5;28;01mreturn\u001b[39;00m \u001b[43m_default_encoder\u001b[49m\u001b[38;5;241;43m.\u001b[39;49m\u001b[43mencode\u001b[49m\u001b[43m(\u001b[49m\u001b[43mobj\u001b[49m\u001b[43m)\u001b[49m\n\u001b[1;32m    232\u001b[0m \u001b[38;5;28;01mif\u001b[39;00m \u001b[38;5;28mcls\u001b[39m \u001b[38;5;129;01mis\u001b[39;00m \u001b[38;5;28;01mNone\u001b[39;00m:\n\u001b[1;32m    233\u001b[0m     \u001b[38;5;28mcls\u001b[39m \u001b[38;5;241m=\u001b[39m JSONEncoder\n",
      "File \u001b[0;32m/usr/lib/python3.10/json/encoder.py:199\u001b[0m, in \u001b[0;36mJSONEncoder.encode\u001b[0;34m(self, o)\u001b[0m\n\u001b[1;32m    195\u001b[0m         \u001b[38;5;28;01mreturn\u001b[39;00m encode_basestring(o)\n\u001b[1;32m    196\u001b[0m \u001b[38;5;66;03m# This doesn't pass the iterator directly to ''.join() because the\u001b[39;00m\n\u001b[1;32m    197\u001b[0m \u001b[38;5;66;03m# exceptions aren't as detailed.  The list call should be roughly\u001b[39;00m\n\u001b[1;32m    198\u001b[0m \u001b[38;5;66;03m# equivalent to the PySequence_Fast that ''.join() would do.\u001b[39;00m\n\u001b[0;32m--> 199\u001b[0m chunks \u001b[38;5;241m=\u001b[39m \u001b[38;5;28;43mself\u001b[39;49m\u001b[38;5;241;43m.\u001b[39;49m\u001b[43miterencode\u001b[49m\u001b[43m(\u001b[49m\u001b[43mo\u001b[49m\u001b[43m,\u001b[49m\u001b[43m \u001b[49m\u001b[43m_one_shot\u001b[49m\u001b[38;5;241;43m=\u001b[39;49m\u001b[38;5;28;43;01mTrue\u001b[39;49;00m\u001b[43m)\u001b[49m\n\u001b[1;32m    200\u001b[0m \u001b[38;5;28;01mif\u001b[39;00m \u001b[38;5;129;01mnot\u001b[39;00m \u001b[38;5;28misinstance\u001b[39m(chunks, (\u001b[38;5;28mlist\u001b[39m, \u001b[38;5;28mtuple\u001b[39m)):\n\u001b[1;32m    201\u001b[0m     chunks \u001b[38;5;241m=\u001b[39m \u001b[38;5;28mlist\u001b[39m(chunks)\n",
      "File \u001b[0;32m/usr/lib/python3.10/json/encoder.py:257\u001b[0m, in \u001b[0;36mJSONEncoder.iterencode\u001b[0;34m(self, o, _one_shot)\u001b[0m\n\u001b[1;32m    252\u001b[0m \u001b[38;5;28;01melse\u001b[39;00m:\n\u001b[1;32m    253\u001b[0m     _iterencode \u001b[38;5;241m=\u001b[39m _make_iterencode(\n\u001b[1;32m    254\u001b[0m         markers, \u001b[38;5;28mself\u001b[39m\u001b[38;5;241m.\u001b[39mdefault, _encoder, \u001b[38;5;28mself\u001b[39m\u001b[38;5;241m.\u001b[39mindent, floatstr,\n\u001b[1;32m    255\u001b[0m         \u001b[38;5;28mself\u001b[39m\u001b[38;5;241m.\u001b[39mkey_separator, \u001b[38;5;28mself\u001b[39m\u001b[38;5;241m.\u001b[39mitem_separator, \u001b[38;5;28mself\u001b[39m\u001b[38;5;241m.\u001b[39msort_keys,\n\u001b[1;32m    256\u001b[0m         \u001b[38;5;28mself\u001b[39m\u001b[38;5;241m.\u001b[39mskipkeys, _one_shot)\n\u001b[0;32m--> 257\u001b[0m \u001b[38;5;28;01mreturn\u001b[39;00m \u001b[43m_iterencode\u001b[49m\u001b[43m(\u001b[49m\u001b[43mo\u001b[49m\u001b[43m,\u001b[49m\u001b[43m \u001b[49m\u001b[38;5;241;43m0\u001b[39;49m\u001b[43m)\u001b[49m\n",
      "File \u001b[0;32m/usr/lib/python3.10/json/encoder.py:179\u001b[0m, in \u001b[0;36mJSONEncoder.default\u001b[0;34m(self, o)\u001b[0m\n\u001b[1;32m    160\u001b[0m \u001b[38;5;28;01mdef\u001b[39;00m \u001b[38;5;21mdefault\u001b[39m(\u001b[38;5;28mself\u001b[39m, o):\n\u001b[1;32m    161\u001b[0m \u001b[38;5;250m    \u001b[39m\u001b[38;5;124;03m\"\"\"Implement this method in a subclass such that it returns\u001b[39;00m\n\u001b[1;32m    162\u001b[0m \u001b[38;5;124;03m    a serializable object for ``o``, or calls the base implementation\u001b[39;00m\n\u001b[1;32m    163\u001b[0m \u001b[38;5;124;03m    (to raise a ``TypeError``).\u001b[39;00m\n\u001b[0;32m   (...)\u001b[0m\n\u001b[1;32m    177\u001b[0m \n\u001b[1;32m    178\u001b[0m \u001b[38;5;124;03m    \"\"\"\u001b[39;00m\n\u001b[0;32m--> 179\u001b[0m     \u001b[38;5;28;01mraise\u001b[39;00m \u001b[38;5;167;01mTypeError\u001b[39;00m(\u001b[38;5;124mf\u001b[39m\u001b[38;5;124m'\u001b[39m\u001b[38;5;124mObject of type \u001b[39m\u001b[38;5;132;01m{\u001b[39;00mo\u001b[38;5;241m.\u001b[39m\u001b[38;5;18m__class__\u001b[39m\u001b[38;5;241m.\u001b[39m\u001b[38;5;18m__name__\u001b[39m\u001b[38;5;132;01m}\u001b[39;00m\u001b[38;5;124m \u001b[39m\u001b[38;5;124m'\u001b[39m\n\u001b[1;32m    180\u001b[0m                     \u001b[38;5;124mf\u001b[39m\u001b[38;5;124m'\u001b[39m\u001b[38;5;124mis not JSON serializable\u001b[39m\u001b[38;5;124m'\u001b[39m)\n",
      "\u001b[0;31mTypeError\u001b[0m: Object of type DataArray is not JSON serializable"
     ]
    }
   ],
   "source": [
    "folium.raster_layers.ImageOverlay(\n",
    "    image=wofs.frequency,\n",
    "     bounds=[[0, -60], [60, 60]],\n",
    "    origin=\"lower\").add_to(m)\n",
    "\n",
    "m"
   ]
  },
  {
   "cell_type": "code",
   "execution_count": null,
   "id": "7237582b-c0fd-44a0-b958-f3a1ac62744c",
   "metadata": {},
   "outputs": [],
   "source": [
    "wofls.frequency.plot()"
   ]
  },
  {
   "cell_type": "code",
   "execution_count": null,
   "id": "5e8e9bcf-e330-4a07-a112-1868198205be",
   "metadata": {},
   "outputs": [],
   "source": []
  },
  {
   "cell_type": "code",
   "execution_count": null,
   "id": "20aedd36-a030-447b-81ed-80dfe6d1ec27",
   "metadata": {},
   "outputs": [],
   "source": []
  },
  {
   "cell_type": "code",
   "execution_count": null,
   "id": "67542b36-4230-4515-911b-05ad90578975",
   "metadata": {},
   "outputs": [],
   "source": []
  },
  {
   "cell_type": "code",
   "execution_count": null,
   "id": "af322d7f-4b8b-4eda-9a68-0082cfc57fb1",
   "metadata": {},
   "outputs": [],
   "source": [
    "# Enable selection of layers\n",
    "\n",
    "planet_202401 = \"https://api.digitalearth.africa/planet/tiles/basemaps/v1/planet-tiles/planet_medres_visual_2024-01_mosaic/gmap/{z}/{x}/{y}.png\"\n",
    "planet_202402 = \"https://api.digitalearth.africa/planet/tiles/basemaps/v1/planet-tiles/planet_medres_visual_2024-02_mosaic/gmap/{z}/{x}/{y}.png\"\n",
    "\n",
    "m=folium.Map(location=(0,20), zoom_start=6)\n",
    "folium.TileLayer(planet_202401, attr='Planet NICFI', name='Planet NICFI 2024-01').add_to(m)\n",
    "folium.TileLayer(planet_202402, attr='Planet NICFI', name='Planet NICFI 2024-02').add_to(m)\n",
    "folium.LayerControl().add_to(m)\n",
    "m\n",
    "\n",
    "#Save this to a web app!\n",
    "#m.save(\"select_planet.html\")"
   ]
  },
  {
   "cell_type": "code",
   "execution_count": null,
   "id": "a0e1b50f-f615-4405-a5cc-3a2bd32ded5d",
   "metadata": {},
   "outputs": [],
   "source": []
  }
 ],
 "metadata": {
  "kernelspec": {
   "display_name": "Python 3 (ipykernel)",
   "language": "python",
   "name": "python3"
  },
  "language_info": {
   "codemirror_mode": {
    "name": "ipython",
    "version": 3
   },
   "file_extension": ".py",
   "mimetype": "text/x-python",
   "name": "python",
   "nbconvert_exporter": "python",
   "pygments_lexer": "ipython3",
   "version": "3.10.12"
  }
 },
 "nbformat": 4,
 "nbformat_minor": 5
}
