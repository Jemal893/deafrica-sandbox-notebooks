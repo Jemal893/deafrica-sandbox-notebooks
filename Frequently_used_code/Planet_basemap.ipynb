{
 "cells": [
  {
   "cell_type": "markdown",
   "id": "4be57a3d-6fe4-4706-9bfd-d3de69d9e6bf",
   "metadata": {},
   "source": [
    "# Planet monthly mosaic data\n",
    "\n",
    "* **Products used:** \n",
    "Planet API\n"
   ]
  },
  {
   "cell_type": "markdown",
   "id": "c18a09f8-c72f-412f-bb5f-5feeb945c233",
   "metadata": {},
   "source": [
    "## Background"
   ]
  },
  {
   "cell_type": "markdown",
   "id": "fb326bf6-4daa-443e-93e4-e570589996e1",
   "metadata": {},
   "source": [
    "## Description\n",
    "This notebook demonstrates how to how to use the Planet monthly mosaic data:\n",
    "\n",
    "1. \n",
    "\n",
    "***"
   ]
  },
  {
   "cell_type": "markdown",
   "id": "01ac670f-a171-4c94-bb59-aa9d6ccaf0f6",
   "metadata": {
    "tags": []
   },
   "source": [
    "**Important details:**\n",
    "\n",
    "* Datacube product names: `Planet Monthly Mosaic`\n",
    "* Date-range: 2020-09 &ndash; present\n",
    "* Spatial resolution: \n"
   ]
  },
  {
   "cell_type": "markdown",
   "id": "c6bca777-0e57-43f9-876d-da7cc0ba0003",
   "metadata": {},
   "source": [
    "## Getting started\n",
    "\n",
    "To run this analysis, run all the cells in the notebook, starting with the \"Load packages\" cell. "
   ]
  },
  {
   "cell_type": "markdown",
   "id": "105f948b-a80d-4e6f-a66c-2cb8a6fb73bb",
   "metadata": {},
   "source": [
    "### Load packages\n",
    "Import Python packages that are used for the analysis."
   ]
  },
  {
   "cell_type": "code",
   "execution_count": 1,
   "id": "52f33f31-9a27-4e17-a313-c1f781ab754f",
   "metadata": {},
   "outputs": [],
   "source": [
    "import warnings\n",
    "warnings.filterwarnings(\"ignore\")"
   ]
  },
  {
   "cell_type": "code",
   "execution_count": 2,
   "id": "8281df8c-8223-4311-9b7e-d2ec2dbed196",
   "metadata": {},
   "outputs": [],
   "source": [
    "#pip install localtileserver"
   ]
  },
  {
   "cell_type": "code",
   "execution_count": 3,
   "id": "01a48c9b-fe2b-4ed7-873e-3bdf5a650de7",
   "metadata": {},
   "outputs": [],
   "source": [
    "from planet_basemap import loadplanet"
   ]
  },
  {
   "cell_type": "code",
   "execution_count": 4,
   "id": "d1f65119-ee4b-4340-bb32-56218dd6cc4c",
   "metadata": {},
   "outputs": [
    {
     "name": "stderr",
     "output_type": "stream",
     "text": [
      "WARNING:rasterio._env:CPLE_NotSupported in driver GTiff does not support creation option WIDTH\n",
      "WARNING:rasterio._env:CPLE_NotSupported in driver GTiff does not support creation option HEIGHT\n",
      "WARNING:rasterio._env:CPLE_NotSupported in driver GTiff does not support creation option COUNT\n",
      "WARNING:rasterio._env:CPLE_NotSupported in driver GTiff does not support creation option DTYPE\n",
      "WARNING:rasterio._env:CPLE_NotSupported in driver GTiff does not support creation option CRS\n",
      "WARNING:rasterio._env:CPLE_NotSupported in driver GTiff does not support creation option TRANSFORM\n",
      "WARNING:rasterio._env:CPLE_NotSupported in driver GTiff does not support creation option WIDTH\n",
      "WARNING:rasterio._env:CPLE_NotSupported in driver GTiff does not support creation option HEIGHT\n",
      "WARNING:rasterio._env:CPLE_NotSupported in driver GTiff does not support creation option COUNT\n",
      "WARNING:rasterio._env:CPLE_NotSupported in driver GTiff does not support creation option DTYPE\n",
      "WARNING:rasterio._env:CPLE_NotSupported in driver GTiff does not support creation option CRS\n",
      "WARNING:rasterio._env:CPLE_NotSupported in driver GTiff does not support creation option TRANSFORM\n"
     ]
    },
    {
     "data": {
      "application/vnd.jupyter.widget-view+json": {
       "model_id": "0465645debed453eb58e787ca0ddd7b5",
       "version_major": 2,
       "version_minor": 0
      },
      "text/plain": [
       "Map(center=[6.7424885, -1.6934010000000002], controls=(ZoomControl(options=['position', 'zoom_in_text', 'zoom_…"
      ]
     },
     "execution_count": 4,
     "metadata": {},
     "output_type": "execute_result"
    }
   ],
   "source": [
    "loadplanet()"
   ]
  },
  {
   "cell_type": "code",
   "execution_count": null,
   "id": "2f33046f-dc47-4cb4-857c-45238d4b75da",
   "metadata": {},
   "outputs": [],
   "source": []
  }
 ],
 "metadata": {
  "kernelspec": {
   "display_name": "Python 3 (ipykernel)",
   "language": "python",
   "name": "python3"
  },
  "language_info": {
   "codemirror_mode": {
    "name": "ipython",
    "version": 3
   },
   "file_extension": ".py",
   "mimetype": "text/x-python",
   "name": "python",
   "nbconvert_exporter": "python",
   "pygments_lexer": "ipython3",
   "version": "3.10.12"
  }
 },
 "nbformat": 4,
 "nbformat_minor": 5
}
