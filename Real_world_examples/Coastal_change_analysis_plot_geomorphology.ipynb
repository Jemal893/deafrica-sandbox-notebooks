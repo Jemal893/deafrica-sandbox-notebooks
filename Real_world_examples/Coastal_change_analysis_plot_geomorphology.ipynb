{
 "cells": [
  {
   "cell_type": "markdown",
   "id": "05f5a4a3-a58e-4bb6-831a-68d6dfda8066",
   "metadata": {},
   "source": [
    "# Coastal change in African countries\n",
    "\n",
    "* **Products used:** [DE Africa Coastlines]()\n",
    "\n"
   ]
  },
  {
   "cell_type": "markdown",
   "id": "4f24e28c-3ede-4ff0-9b78-de9962e11454",
   "metadata": {},
   "source": [
    "## Background\n",
    "\n",
    "Coastline change can be summarised in country scale to assess trends of change. "
   ]
  },
  {
   "cell_type": "markdown",
   "id": "5f7db118-12f1-44c2-b180-102dea4fd0b4",
   "metadata": {},
   "source": [
    "## Description\n",
    "\n",
    "Coastlines data is downloaded and used for analysis so its not impacted by limited number of features returned by WFS."
   ]
  },
  {
   "cell_type": "markdown",
   "id": "5fd8f30c-1564-4ec2-8be7-db8ded878dc6",
   "metadata": {},
   "source": [
    "## Getting started\n",
    "\n",
    "To run this analysis, run all the cells in the notebook, starting with the \"Load packages\" cell."
   ]
  },
  {
   "cell_type": "markdown",
   "id": "bf9e040e-35bd-4797-8e78-37a994f56c94",
   "metadata": {},
   "source": [
    "### Load packages\n",
    "Import Python packages that are used for the analysis."
   ]
  },
  {
   "cell_type": "code",
   "execution_count": 2,
   "id": "73c45b2f-f00a-4ff6-b237-8c19a1e32ba7",
   "metadata": {},
   "outputs": [
    {
     "name": "stderr",
     "output_type": "stream",
     "text": [
      "/usr/local/lib/python3.8/dist-packages/geopandas/_compat.py:112: UserWarning: The Shapely GEOS version (3.8.0-CAPI-1.13.1 ) is incompatible with the GEOS version PyGEOS was compiled with (3.10.3-CAPI-1.16.1). Conversions between both will be slow.\n",
      "  warnings.warn(\n"
     ]
    }
   ],
   "source": [
    "import geopandas as gpd\n",
    "import rioxarray as rxr\n",
    "import numpy as np\n",
    "from deafrica_tools.spatial import xr_rasterize\n",
    "from deafrica_tools.coastal import get_coastlines\n",
    "#from deafrica_tools.plotting import display_map\n",
    "from datacube.utils.geometry import Geometry\n",
    "\n",
    "from matplotlib import pyplot as plt\n",
    "import matplotlib as mpl\n"
   ]
  },
  {
   "cell_type": "code",
   "execution_count": 3,
   "id": "7654d157-e7e8-4db6-9ec7-8ad315522c7a",
   "metadata": {},
   "outputs": [],
   "source": [
    "african_countries  = gpd.read_file(\"../Supplementary_data/MGCI/african_countries.geojson\")"
   ]
  },
  {
   "cell_type": "code",
   "execution_count": 4,
   "id": "d5e81d15-7739-4059-b003-f6f8bbe749f4",
   "metadata": {},
   "outputs": [
    {
     "data": {
      "text/plain": [
       "array(['Algeria', 'Angola', 'Benin', 'Botswana', 'Burkina Faso',\n",
       "       'Burundi', 'Cameroon', 'Cape Verde', 'Central African Republic',\n",
       "       'Chad', 'Comoros', 'Congo-Brazzaville', 'Cote d`Ivoire',\n",
       "       'Democratic Republic of Congo', 'Djibouti', 'Egypt',\n",
       "       'Equatorial Guinea', 'Eritrea', 'Ethiopia', 'Gabon', 'Gambia',\n",
       "       'Ghana', 'Guinea', 'Guinea-Bissau', 'Kenya', 'Lesotho', 'Liberia',\n",
       "       'Libya', 'Madagascar', 'Malawi', 'Mali', 'Mauritania', 'Morocco',\n",
       "       'Mozambique', 'Namibia', 'Niger', 'Nigeria', 'Rwanda',\n",
       "       'Sao Tome and Principe', 'Senegal', 'Sierra Leone', 'Somalia',\n",
       "       'South Africa', 'Sudan', 'Swaziland', 'Tanzania', 'Togo',\n",
       "       'Tunisia', 'Uganda', 'Western Sahara', 'Zambia', 'Zimbabwe'],\n",
       "      dtype=object)"
      ]
     },
     "execution_count": 4,
     "metadata": {},
     "output_type": "execute_result"
    }
   ],
   "source": [
    "african_countries.COUNTRY.values"
   ]
  },
  {
   "cell_type": "code",
   "execution_count": 10,
   "id": "8b7a2c96-357e-45d4-a7f2-1041dd13e263",
   "metadata": {},
   "outputs": [],
   "source": [
    "change_geomorph  = gpd.read_file(\"~/dev/data/deafricacoastlines_rates_of_change_geomorph.gpkg\")"
   ]
  },
  {
   "cell_type": "code",
   "execution_count": 13,
   "id": "43439d33-21be-4e2c-889a-b7aeac5d6634",
   "metadata": {},
   "outputs": [
    {
     "data": {
      "text/html": [
       "<div>\n",
       "<style scoped>\n",
       "    .dataframe tbody tr th:only-of-type {\n",
       "        vertical-align: middle;\n",
       "    }\n",
       "\n",
       "    .dataframe tbody tr th {\n",
       "        vertical-align: top;\n",
       "    }\n",
       "\n",
       "    .dataframe thead th {\n",
       "        text-align: right;\n",
       "    }\n",
       "</style>\n",
       "<table border=\"1\" class=\"dataframe\">\n",
       "  <thead>\n",
       "    <tr style=\"text-align: right;\">\n",
       "      <th></th>\n",
       "      <th>uid</th>\n",
       "      <th>rate_time</th>\n",
       "      <th>sig_time</th>\n",
       "      <th>se_time</th>\n",
       "      <th>outl_time</th>\n",
       "      <th>dist_2000</th>\n",
       "      <th>dist_2001</th>\n",
       "      <th>dist_2002</th>\n",
       "      <th>dist_2003</th>\n",
       "      <th>dist_2004</th>\n",
       "      <th>...</th>\n",
       "      <th>GeomorphObs</th>\n",
       "      <th>GeomorphPreds</th>\n",
       "      <th>GeomorphProbs</th>\n",
       "      <th>n_2</th>\n",
       "      <th>distance_2</th>\n",
       "      <th>feature_x_2</th>\n",
       "      <th>feature_y_2</th>\n",
       "      <th>nearest_x_2</th>\n",
       "      <th>nearest_y_2</th>\n",
       "      <th>geometry</th>\n",
       "    </tr>\n",
       "  </thead>\n",
       "  <tbody>\n",
       "    <tr>\n",
       "      <th>0</th>\n",
       "      <td>sv0e5jprxn</td>\n",
       "      <td>-0.19</td>\n",
       "      <td>0.004</td>\n",
       "      <td>0.06</td>\n",
       "      <td>2016 2018 2019</td>\n",
       "      <td>3.11</td>\n",
       "      <td>1.34</td>\n",
       "      <td>1.79</td>\n",
       "      <td>1.55</td>\n",
       "      <td>0.83</td>\n",
       "      <td>...</td>\n",
       "      <td>None</td>\n",
       "      <td>Bedrock</td>\n",
       "      <td>0.634478</td>\n",
       "      <td>1.0</td>\n",
       "      <td>10.550980</td>\n",
       "      <td>3.337965e+06</td>\n",
       "      <td>3.511650e+06</td>\n",
       "      <td>3.337957e+06</td>\n",
       "      <td>3.511658e+06</td>\n",
       "      <td>POINT (3337964.536 3511650.480)</td>\n",
       "    </tr>\n",
       "    <tr>\n",
       "      <th>1</th>\n",
       "      <td>sv0e5jr8u3</td>\n",
       "      <td>-0.33</td>\n",
       "      <td>0.013</td>\n",
       "      <td>0.12</td>\n",
       "      <td>2019</td>\n",
       "      <td>3.08</td>\n",
       "      <td>0.94</td>\n",
       "      <td>1.69</td>\n",
       "      <td>0.74</td>\n",
       "      <td>-1.36</td>\n",
       "      <td>...</td>\n",
       "      <td>None</td>\n",
       "      <td>Bedrock</td>\n",
       "      <td>0.634478</td>\n",
       "      <td>1.0</td>\n",
       "      <td>11.289599</td>\n",
       "      <td>3.337986e+06</td>\n",
       "      <td>3.511672e+06</td>\n",
       "      <td>3.337978e+06</td>\n",
       "      <td>3.511680e+06</td>\n",
       "      <td>POINT (3337985.922 3511671.507)</td>\n",
       "    </tr>\n",
       "    <tr>\n",
       "      <th>2</th>\n",
       "      <td>sv0e5jrcce</td>\n",
       "      <td>-0.30</td>\n",
       "      <td>0.105</td>\n",
       "      <td>0.17</td>\n",
       "      <td>None</td>\n",
       "      <td>2.46</td>\n",
       "      <td>-0.39</td>\n",
       "      <td>0.97</td>\n",
       "      <td>-0.46</td>\n",
       "      <td>-1.82</td>\n",
       "      <td>...</td>\n",
       "      <td>None</td>\n",
       "      <td>Bedrock</td>\n",
       "      <td>0.634478</td>\n",
       "      <td>1.0</td>\n",
       "      <td>11.120898</td>\n",
       "      <td>3.338008e+06</td>\n",
       "      <td>3.511692e+06</td>\n",
       "      <td>3.338000e+06</td>\n",
       "      <td>3.511700e+06</td>\n",
       "      <td>POINT (3338007.608 3511692.203)</td>\n",
       "    </tr>\n",
       "    <tr>\n",
       "      <th>3</th>\n",
       "      <td>sv0e5jrfyy</td>\n",
       "      <td>-0.04</td>\n",
       "      <td>0.444</td>\n",
       "      <td>0.05</td>\n",
       "      <td>None</td>\n",
       "      <td>2.33</td>\n",
       "      <td>0.27</td>\n",
       "      <td>0.25</td>\n",
       "      <td>-0.92</td>\n",
       "      <td>-0.55</td>\n",
       "      <td>...</td>\n",
       "      <td>None</td>\n",
       "      <td>Bedrock</td>\n",
       "      <td>0.634478</td>\n",
       "      <td>1.0</td>\n",
       "      <td>10.787523</td>\n",
       "      <td>3.338029e+06</td>\n",
       "      <td>3.511713e+06</td>\n",
       "      <td>3.338022e+06</td>\n",
       "      <td>3.511721e+06</td>\n",
       "      <td>POINT (3338029.177 3511713.014)</td>\n",
       "    </tr>\n",
       "    <tr>\n",
       "      <th>4</th>\n",
       "      <td>sv0e5m2h5c</td>\n",
       "      <td>-0.04</td>\n",
       "      <td>0.282</td>\n",
       "      <td>0.04</td>\n",
       "      <td>None</td>\n",
       "      <td>2.55</td>\n",
       "      <td>1.20</td>\n",
       "      <td>0.71</td>\n",
       "      <td>0.26</td>\n",
       "      <td>-0.01</td>\n",
       "      <td>...</td>\n",
       "      <td>None</td>\n",
       "      <td>Bedrock</td>\n",
       "      <td>0.634478</td>\n",
       "      <td>1.0</td>\n",
       "      <td>10.211307</td>\n",
       "      <td>3.338051e+06</td>\n",
       "      <td>3.511734e+06</td>\n",
       "      <td>3.338044e+06</td>\n",
       "      <td>3.511741e+06</td>\n",
       "      <td>POINT (3338050.593 3511734.009)</td>\n",
       "    </tr>\n",
       "  </tbody>\n",
       "</table>\n",
       "<p>5 rows × 72 columns</p>\n",
       "</div>"
      ],
      "text/plain": [
       "          uid  rate_time  sig_time  se_time       outl_time  dist_2000  \\\n",
       "0  sv0e5jprxn      -0.19     0.004     0.06  2016 2018 2019       3.11   \n",
       "1  sv0e5jr8u3      -0.33     0.013     0.12            2019       3.08   \n",
       "2  sv0e5jrcce      -0.30     0.105     0.17            None       2.46   \n",
       "3  sv0e5jrfyy      -0.04     0.444     0.05            None       2.33   \n",
       "4  sv0e5m2h5c      -0.04     0.282     0.04            None       2.55   \n",
       "\n",
       "   dist_2001  dist_2002  dist_2003  dist_2004  ...  GeomorphObs  \\\n",
       "0       1.34       1.79       1.55       0.83  ...         None   \n",
       "1       0.94       1.69       0.74      -1.36  ...         None   \n",
       "2      -0.39       0.97      -0.46      -1.82  ...         None   \n",
       "3       0.27       0.25      -0.92      -0.55  ...         None   \n",
       "4       1.20       0.71       0.26      -0.01  ...         None   \n",
       "\n",
       "   GeomorphPreds  GeomorphProbs  n_2  distance_2   feature_x_2   feature_y_2  \\\n",
       "0        Bedrock       0.634478  1.0   10.550980  3.337965e+06  3.511650e+06   \n",
       "1        Bedrock       0.634478  1.0   11.289599  3.337986e+06  3.511672e+06   \n",
       "2        Bedrock       0.634478  1.0   11.120898  3.338008e+06  3.511692e+06   \n",
       "3        Bedrock       0.634478  1.0   10.787523  3.338029e+06  3.511713e+06   \n",
       "4        Bedrock       0.634478  1.0   10.211307  3.338051e+06  3.511734e+06   \n",
       "\n",
       "    nearest_x_2   nearest_y_2                         geometry  \n",
       "0  3.337957e+06  3.511658e+06  POINT (3337964.536 3511650.480)  \n",
       "1  3.337978e+06  3.511680e+06  POINT (3337985.922 3511671.507)  \n",
       "2  3.338000e+06  3.511700e+06  POINT (3338007.608 3511692.203)  \n",
       "3  3.338022e+06  3.511721e+06  POINT (3338029.177 3511713.014)  \n",
       "4  3.338044e+06  3.511741e+06  POINT (3338050.593 3511734.009)  \n",
       "\n",
       "[5 rows x 72 columns]"
      ]
     },
     "execution_count": 13,
     "metadata": {},
     "output_type": "execute_result"
    }
   ],
   "source": [
    "change_geomorph.head()"
   ]
  },
  {
   "cell_type": "code",
   "execution_count": 30,
   "id": "b9170934-1fab-472f-812f-e03794eb073b",
   "metadata": {},
   "outputs": [],
   "source": [
    "beach = change_geomorph[(change_geomorph.GeomorphPreds == 'Beach') & (change_geomorph.GeomorphProbs > 0.5) & (change_geomorph.sig_time<0.01)]\n",
    "bedrock = change_geomorph[(change_geomorph.GeomorphPreds == 'Bedrock') & (change_geomorph.GeomorphProbs > 0.5) & (change_geomorph.sig_time<0.01)]\n",
    "wetland = change_geomorph[(change_geomorph.GeomorphPreds == 'Wetland') & (change_geomorph.GeomorphProbs > 0.5) & (change_geomorph.sig_time<0.01)]"
   ]
  },
  {
   "cell_type": "code",
   "execution_count": 44,
   "id": "364a945e-ac90-4e81-9703-5f2aa10f5541",
   "metadata": {},
   "outputs": [
    {
     "data": {
      "image/png": "[encoded data removed]",
      "text/plain": [
       "<Figure size 1500x500 with 1 Axes>"
      ]
     },
     "metadata": {},
     "output_type": "display_data"
    }
   ],
   "source": [
    "beach.rate_time.plot.hist(alpha=0.5, bins=np.arange(-5,5,0.1), label='Beach', legend=True, figsize=(15,5), density=True);\n",
    "bedrock.rate_time.plot.hist(alpha=0.5, bins=np.arange(-5,5,0.1), label='Bedrock', legend=True, density=True);\n",
    "wetland.rate_time.plot.hist(alpha=0.5, bins=np.arange(-5,5,0.1), label='Wetland', legend=True, density=True);\n",
    "plt.xlabel('Change rate (m/year)');"
   ]
  },
  {
   "cell_type": "code",
   "execution_count": 47,
   "id": "81e9614b-cdd6-4dfd-9861-fa6cd9729a12",
   "metadata": {},
   "outputs": [
    {
     "data": {
      "image/png": "[encoded data removed]",
      "text/plain": [
       "<Figure size 1500x500 with 1 Axes>"
      ]
     },
     "metadata": {},
     "output_type": "display_data"
    }
   ],
   "source": [
    "change_geomorph.rate_time.plot.hist(alpha=0.5, bins=np.arange(-5,5,0.1), legend=True, figsize=(15,5), density=True);\n",
    "change_geomorph[change_geomorph.sig_time<0.01].rate_time.plot.hist(alpha=0.5, bins=np.arange(-5,5,0.1), legend=True, figsize=(15,5), density=True);\n"
   ]
  }
 ],
 "metadata": {
  "kernelspec": {
   "display_name": "Python 3 (ipykernel)",
   "language": "python",
   "name": "python3"
  },
  "language_info": {
   "codemirror_mode": {
    "name": "ipython",
    "version": 3
   },
   "file_extension": ".py",
   "mimetype": "text/x-python",
   "name": "python",
   "nbconvert_exporter": "python",
   "pygments_lexer": "ipython3",
   "version": "3.8.10"
  }
 },
 "nbformat": 4,
 "nbformat_minor": 5
}
