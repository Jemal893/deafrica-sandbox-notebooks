{
 "cells": [
  {
   "cell_type": "markdown",
   "id": "05f5a4a3-a58e-4bb6-831a-68d6dfda8066",
   "metadata": {},
   "source": [
    "# Coastal change and impact analysis\n",
    "\n",
    "* **Products used:** [DE Africa Coastlines](), [High Resolution Population Density]()\n"
   ]
  },
  {
   "cell_type": "markdown",
   "id": "4f24e28c-3ede-4ff0-9b78-de9962e11454",
   "metadata": {},
   "source": [
    "## Background\n",
    "\n",
    "Coastal changes have a larget impact on human settlements. "
   ]
  },
  {
   "cell_type": "markdown",
   "id": "5f7db118-12f1-44c2-b180-102dea4fd0b4",
   "metadata": {},
   "source": [
    "## Description\n",
    "\n",
    "This notebook will demonstrate how to load relevant datasets and analyse the impact of coastal changes on human settlements.\n",
    "Topics covered include:\n",
    "\n",
    "1. Loading DE Africa Coastlines rates of change statistics data using the `get_coastlines` function.\n",
    "2. Loading High Resolution Population Density.\n",
    "3. Combine\n"
   ]
  },
  {
   "cell_type": "markdown",
   "id": "5fd8f30c-1564-4ec2-8be7-db8ded878dc6",
   "metadata": {},
   "source": [
    "## Getting started\n",
    "\n",
    "To run this analysis, run all the cells in the notebook, starting with the \"Load packages\" cell."
   ]
  },
  {
   "cell_type": "markdown",
   "id": "bf9e040e-35bd-4797-8e78-37a994f56c94",
   "metadata": {},
   "source": [
    "### Load packages\n",
    "Import Python packages that are used for the analysis."
   ]
  },
  {
   "cell_type": "code",
   "execution_count": 1,
   "id": "73c45b2f-f00a-4ff6-b237-8c19a1e32ba7",
   "metadata": {},
   "outputs": [
    {
     "name": "stderr",
     "output_type": "stream",
     "text": [
      "/usr/local/lib/python3.8/dist-packages/geopandas/_compat.py:112: UserWarning: The Shapely GEOS version (3.8.0-CAPI-1.13.1 ) is incompatible with the GEOS version PyGEOS was compiled with (3.10.3-CAPI-1.16.1). Conversions between both will be slow.\n",
      "  warnings.warn(\n"
     ]
    }
   ],
   "source": [
    "import geopandas as gpd\n",
    "import rioxarray as rxr\n",
    "import numpy as np\n",
    "from deafrica_tools.spatial import xr_rasterize\n",
    "from deafrica_tools.coastal import get_coastlines\n",
    "from deafrica_tools.plotting import display_map\n",
    "from datacube.utils.geometry import Geometry\n",
    "\n",
    "\n",
    "# set s3 region for HRSL data access\n",
    "import os\n",
    "os.environ['AWS_DEFAULT_REGION']=\"us-east-1\"\n",
    "os.environ['AWS_S3_ENDPOINT']=\"s3.us-east-1.amazonaws.com\""
   ]
  },
  {
   "cell_type": "markdown",
   "id": "cbd0bfb0-fd21-4e46-ab7b-57daea2a882f",
   "metadata": {},
   "source": [
    "### Analysis parameters"
   ]
  },
  {
   "cell_type": "markdown",
   "id": "b2008574-98d0-47fc-aa67-e2650523a2dc",
   "metadata": {},
   "source": [
    "This section defines the analysis parameters, including:\n",
    "\n",
    "* `central_lat, central_lon, buffer`: center lat/lon and analysis window size for the area of interest\n",
    "\n",
    "The default location is an area on Nyali Beach along the Kenyan Coast."
   ]
  },
  {
   "cell_type": "code",
   "execution_count": 2,
   "id": "16e9be8b-187f-48ce-90a0-80fa08202f12",
   "metadata": {},
   "outputs": [],
   "source": [
    "african_countries  = gpd.read_file(\"../Supplementary_data/MGCI/african_countries.geojson\")"
   ]
  },
  {
   "cell_type": "code",
   "execution_count": 3,
   "id": "e0aa28de-5ccf-44d7-84dc-0c3d30abf044",
   "metadata": {},
   "outputs": [
    {
     "data": {
      "text/plain": [
       "array(['Algeria', 'Angola', 'Benin', 'Botswana', 'Burkina Faso',\n",
       "       'Burundi', 'Cameroon', 'Cape Verde', 'Central African Republic',\n",
       "       'Chad', 'Comoros', 'Congo-Brazzaville', 'Cote d`Ivoire',\n",
       "       'Democratic Republic of Congo', 'Djibouti', 'Egypt',\n",
       "       'Equatorial Guinea', 'Eritrea', 'Ethiopia', 'Gabon', 'Gambia',\n",
       "       'Ghana', 'Guinea', 'Guinea-Bissau', 'Kenya', 'Lesotho', 'Liberia',\n",
       "       'Libya', 'Madagascar', 'Malawi', 'Mali', 'Mauritania', 'Morocco',\n",
       "       'Mozambique', 'Namibia', 'Niger', 'Nigeria', 'Rwanda',\n",
       "       'Sao Tome and Principe', 'Senegal', 'Sierra Leone', 'Somalia',\n",
       "       'South Africa', 'Sudan', 'Swaziland', 'Tanzania', 'Togo',\n",
       "       'Tunisia', 'Uganda', 'Western Sahara', 'Zambia', 'Zimbabwe'],\n",
       "      dtype=object)"
      ]
     },
     "execution_count": 3,
     "metadata": {},
     "output_type": "execute_result"
    }
   ],
   "source": [
    "np.unique(african_countries[\"COUNTRY\"])"
   ]
  },
  {
   "cell_type": "code",
   "execution_count": 4,
   "id": "9d00a06f-871b-46c0-8b7e-45f40536b623",
   "metadata": {},
   "outputs": [],
   "source": [
    "country = \"Liberia\""
   ]
  },
  {
   "cell_type": "code",
   "execution_count": 5,
   "id": "33222833-c50b-4f27-9468-41a9f4b4dd4a",
   "metadata": {},
   "outputs": [],
   "source": [
    "idx = african_countries[african_countries['COUNTRY'] == country].index[0]\n",
    "country_geom = Geometry(geom=african_countries.iloc[idx].geometry, crs=african_countries.crs)"
   ]
  },
  {
   "cell_type": "code",
   "execution_count": 6,
   "id": "bb09b2ad-9e20-4f7c-90a3-275243c9ab3a",
   "metadata": {},
   "outputs": [],
   "source": [
    "bbox = list(country_geom.boundingbox)"
   ]
  },
  {
   "cell_type": "markdown",
   "id": "71e0d8b4-f204-43d8-be2b-3bccef1e0f81",
   "metadata": {},
   "source": [
    "## View the selected location\n",
    "\n",
    "The next cell will display the selected area on an interactive map. Feel free to zoom in and out to get a better understanding of the area you'll be analysing. Clicking on any point of the map will reveal the latitude and longitude coordinates of that point."
   ]
  },
  {
   "cell_type": "code",
   "execution_count": 7,
   "id": "af2994e2-d558-4a92-9364-6067c57998ea",
   "metadata": {},
   "outputs": [
    {
     "data": {
      "text/html": [
       "<div style=\"width:100%;\"><div style=\"position:relative;width:100%;height:0;padding-bottom:60%;\"><span style=\"color:#565656\">Make this Notebook Trusted to load map: File -> Trust Notebook</span><iframe srcdoc=\"&lt;!DOCTYPE html&gt;\n",
       "&lt;head&gt;    \n",
       "    &lt;meta http-equiv=&quot;content-type&quot; content=&quot;text/html; charset=UTF-8&quot; /&gt;\n",
       "    \n",
       "        &lt;script&gt;\n",
       "            L_NO_TOUCH = false;\n",
       "            L_DISABLE_3D = false;\n",
       "        &lt;/script&gt;\n",
       "    \n",
       "    &lt;style&gt;html, body {width: 100%;height: 100%;margin: 0;padding: 0;}&lt;/style&gt;\n",
       "    &lt;style&gt;#map {position:absolute;top:0;bottom:0;right:0;left:0;}&lt;/style&gt;\n",
       "    &lt;script src=&quot;https://cdn.jsdelivr.net/npm/leaflet@1.6.0/dist/leaflet.js&quot;&gt;&lt;/script&gt;\n",
       "    &lt;script src=&quot;https://code.jquery.com/jquery-1.12.4.min.js&quot;&gt;&lt;/script&gt;\n",
       "    &lt;script src=&quot;https://maxcdn.bootstrapcdn.com/bootstrap/3.2.0/js/bootstrap.min.js&quot;&gt;&lt;/script&gt;\n",
       "    &lt;script src=&quot;https://cdnjs.cloudflare.com/ajax/libs/Leaflet.awesome-markers/2.0.2/leaflet.awesome-markers.js&quot;&gt;&lt;/script&gt;\n",
       "    &lt;link rel=&quot;stylesheet&quot; href=&quot;https://cdn.jsdelivr.net/npm/leaflet@1.6.0/dist/leaflet.css&quot;/&gt;\n",
       "    &lt;link rel=&quot;stylesheet&quot; href=&quot;https://maxcdn.bootstrapcdn.com/bootstrap/3.2.0/css/bootstrap.min.css&quot;/&gt;\n",
       "    &lt;link rel=&quot;stylesheet&quot; href=&quot;https://maxcdn.bootstrapcdn.com/bootstrap/3.2.0/css/bootstrap-theme.min.css&quot;/&gt;\n",
       "    &lt;link rel=&quot;stylesheet&quot; href=&quot;https://maxcdn.bootstrapcdn.com/font-awesome/4.6.3/css/font-awesome.min.css&quot;/&gt;\n",
       "    &lt;link rel=&quot;stylesheet&quot; href=&quot;https://cdnjs.cloudflare.com/ajax/libs/Leaflet.awesome-markers/2.0.2/leaflet.awesome-markers.css&quot;/&gt;\n",
       "    &lt;link rel=&quot;stylesheet&quot; href=&quot;https://cdn.jsdelivr.net/gh/python-visualization/folium/folium/templates/leaflet.awesome.rotate.min.css&quot;/&gt;\n",
       "    \n",
       "            &lt;meta name=&quot;viewport&quot; content=&quot;width=device-width,\n",
       "                initial-scale=1.0, maximum-scale=1.0, user-scalable=no&quot; /&gt;\n",
       "            &lt;style&gt;\n",
       "                #map_b9db23feb7cc0d19afadd72b7b615eed {\n",
       "                    position: relative;\n",
       "                    width: 100.0%;\n",
       "                    height: 100.0%;\n",
       "                    left: 0.0%;\n",
       "                    top: 0.0%;\n",
       "                }\n",
       "            &lt;/style&gt;\n",
       "        \n",
       "&lt;/head&gt;\n",
       "&lt;body&gt;    \n",
       "    \n",
       "            &lt;div class=&quot;folium-map&quot; id=&quot;map_b9db23feb7cc0d19afadd72b7b615eed&quot; &gt;&lt;/div&gt;\n",
       "        \n",
       "&lt;/body&gt;\n",
       "&lt;script&gt;    \n",
       "    \n",
       "            var map_b9db23feb7cc0d19afadd72b7b615eed = L.map(\n",
       "                &quot;map_b9db23feb7cc0d19afadd72b7b615eed&quot;,\n",
       "                {\n",
       "                    center: [6.452424999999494, -9.428594999997586],\n",
       "                    crs: L.CRS.EPSG3857,\n",
       "                    zoom: 7,\n",
       "                    zoomControl: true,\n",
       "                    preferCanvas: false,\n",
       "                }\n",
       "            );\n",
       "\n",
       "            \n",
       "\n",
       "        \n",
       "    \n",
       "            var tile_layer_c46200e254f948a3cf6ceb3a45542837 = L.tileLayer(\n",
       "                &quot;http://mt1.google.com/vt/lyrs=y\\u0026z={z}\\u0026x={x}\\u0026y={y}&quot;,\n",
       "                {&quot;attribution&quot;: &quot;Google&quot;, &quot;detectRetina&quot;: false, &quot;maxNativeZoom&quot;: 18, &quot;maxZoom&quot;: 18, &quot;minZoom&quot;: 0, &quot;noWrap&quot;: false, &quot;opacity&quot;: 1, &quot;subdomains&quot;: &quot;abc&quot;, &quot;tms&quot;: false}\n",
       "            ).addTo(map_b9db23feb7cc0d19afadd72b7b615eed);\n",
       "        \n",
       "    \n",
       "            var poly_line_6946b34e6ad422e4cb3011f2c73602d7 = L.polyline(\n",
       "                [[4.353060000001278, -11.49207999999635], [4.353060000001278, -7.365109999998822], [8.551789999997709, -7.365109999998822], [8.551789999997709, -11.49207999999635], [4.353060000001278, -11.49207999999635]],\n",
       "                {&quot;bubblingMouseEvents&quot;: true, &quot;color&quot;: &quot;red&quot;, &quot;dashArray&quot;: null, &quot;dashOffset&quot;: null, &quot;fill&quot;: false, &quot;fillColor&quot;: &quot;red&quot;, &quot;fillOpacity&quot;: 0.2, &quot;fillRule&quot;: &quot;evenodd&quot;, &quot;lineCap&quot;: &quot;round&quot;, &quot;lineJoin&quot;: &quot;round&quot;, &quot;noClip&quot;: false, &quot;opacity&quot;: 0.8, &quot;smoothFactor&quot;: 1.0, &quot;stroke&quot;: true, &quot;weight&quot;: 3}\n",
       "            ).addTo(map_b9db23feb7cc0d19afadd72b7b615eed);\n",
       "        \n",
       "    \n",
       "                var lat_lng_popup_17662603f4a086b5bc6c79b588ba77be = L.popup();\n",
       "                function latLngPop(e) {\n",
       "                    lat_lng_popup_17662603f4a086b5bc6c79b588ba77be\n",
       "                        .setLatLng(e.latlng)\n",
       "                        .setContent(&quot;Latitude: &quot; + e.latlng.lat.toFixed(4) +\n",
       "                                    &quot;&lt;br&gt;Longitude: &quot; + e.latlng.lng.toFixed(4))\n",
       "                        .openOn(map_b9db23feb7cc0d19afadd72b7b615eed);\n",
       "                    }\n",
       "                map_b9db23feb7cc0d19afadd72b7b615eed.on(&#x27;click&#x27;, latLngPop);\n",
       "            \n",
       "&lt;/script&gt;\" style=\"position:absolute;width:100%;height:100%;left:0;top:0;border:none !important;\" allowfullscreen webkitallowfullscreen mozallowfullscreen></iframe></div></div>"
      ],
      "text/plain": [
       "<folium.folium.Map at 0x7fabfa5d9640>"
      ]
     },
     "execution_count": 7,
     "metadata": {},
     "output_type": "execute_result"
    }
   ],
   "source": [
    "display_map(x=(bbox[0], bbox[2]), y=(bbox[1], bbox[3]))"
   ]
  },
  {
   "cell_type": "markdown",
   "id": "70cdcd01-8a23-4edc-bc1c-74260c74f934",
   "metadata": {},
   "source": [
    "## Loading Population data"
   ]
  },
  {
   "cell_type": "code",
   "execution_count": 8,
   "id": "ce65cb9c-c277-4682-86b0-1ea9abfab028",
   "metadata": {},
   "outputs": [],
   "source": [
    "ds = rxr.open_rasterio('s3://dataforgood-fb-data/hrsl-cogs/hrsl_general/hrsl_general-latest.vrt', chunks ={'x': 1000, 'y': 1000})"
   ]
  },
  {
   "cell_type": "markdown",
   "id": "48fd45b9-da88-459d-b370-ef2e31837946",
   "metadata": {},
   "source": [
    "### Population within a buffer of 2021 shoreline"
   ]
  },
  {
   "cell_type": "code",
   "execution_count": 9,
   "id": "f3208cde-c3d4-4864-96ea-a45419356e70",
   "metadata": {},
   "outputs": [],
   "source": [
    "buffer = 50 #meter"
   ]
  },
  {
   "cell_type": "code",
   "execution_count": 10,
   "id": "6b7e8aa0-fd8d-4316-ba1f-742da54ecb48",
   "metadata": {},
   "outputs": [
    {
     "name": "stderr",
     "output_type": "stream",
     "text": [
      "/usr/local/lib/python3.8/dist-packages/geopandas/tools/clip.py:66: FutureWarning: In a future version, `df.iloc[:, i] = newvals` will attempt to set the values inplace instead of always setting a new array. To retain the old behavior, use either `df[df.columns[i]] = newvals` or, if columns are non-unique, `df.isetitem(i, newvals)`\n",
      "  clipped.loc[\n"
     ]
    }
   ],
   "source": [
    "# Load DE Africa Coastlines annual shorelines data. \n",
    "deacl_shorelines_gdf = get_coastlines(bbox=bbox, \n",
    "                                      layer='shorelines')"
   ]
  },
  {
   "cell_type": "code",
   "execution_count": 11,
   "id": "d78b1a58-8f2b-4d7f-9223-96d36b9d1968",
   "metadata": {},
   "outputs": [],
   "source": [
    "buffered = deacl_shorelines_gdf.copy()"
   ]
  },
  {
   "cell_type": "code",
   "execution_count": 12,
   "id": "b74285ec-8183-4dae-a85e-9ef7ea266de3",
   "metadata": {},
   "outputs": [],
   "source": [
    "buffered['geometry'] = deacl_shorelines_gdf.to_crs('6933').buffer(buffer).to_crs('4326')"
   ]
  },
  {
   "cell_type": "code",
   "execution_count": 13,
   "id": "c0dc81b7-88b5-4bb2-afd6-117f73b41407",
   "metadata": {},
   "outputs": [
    {
     "data": {
      "text/plain": [
       "(-11.492598206286239, 4.354116928570664, -7.364591791808162, 6.92300308467692)"
      ]
     },
     "execution_count": 13,
     "metadata": {},
     "output_type": "execute_result"
    }
   ],
   "source": [
    "coast_bbox = buffered.unary_union.bounds\n",
    "coast_bbox"
   ]
  },
  {
   "cell_type": "code",
   "execution_count": null,
   "id": "d3188d01-7bf6-49b2-be9d-cb7c8c4303e3",
   "metadata": {},
   "outputs": [],
   "source": [
    "pop_raster = ds.isel(band=0).sel(x=slice(coast_bbox[0],coast_bbox[2]), y = slice(coast_bbox[3], coast_bbox[1])).compute()\n",
    "#youth_raster = ds_youth.isel(band=0).sel(x=slice(coastal_bbox[0],coastal_bbox[2]), y = slice(coastal_bbox[3],coastal_bbox[1]))\n",
    "\n",
    "pop_raster=pop_raster.rename({'x':'longitude','y':'latitude'})\n",
    "#youth_raster=youth_raster.rename({'x':'longitude','y':'latitude'})\n",
    "\n",
    "\n",
    "country_mask = xr_rasterize(gdf=african_countries[african_countries['COUNTRY'] == country],\n",
    "                                  da=pop_raster,\n",
    "                                  transform=pop_raster.geobox.transform,\n",
    "                                  crs=pop_raster.geobox.crs)"
   ]
  },
  {
   "cell_type": "code",
   "execution_count": null,
   "id": "1ef0be77-e4ac-46e9-8130-7707aae5d983",
   "metadata": {},
   "outputs": [],
   "source": [
    "coastal_pop = {}\n",
    "for year in range(2000,2021):\n",
    "    coastal_area = buffered[buffered.year==str(year)]\n",
    "    coastal_raster = xr_rasterize(gdf=coastal_area,\n",
    "                                  da=pop_raster,\n",
    "                                  transform=pop_raster.geobox.transform,\n",
    "                                  crs=pop_raster.geobox.crs)\n",
    "    \n",
    "    #fraction of coastal population\n",
    "    coastal_pop[year] = (coastal_raster*pop_raster*country_mask).sum().values\n",
    "    print(year, coastal_pop[year]) "
   ]
  },
  {
   "cell_type": "code",
   "execution_count": null,
   "id": "da3aa948-fa86-4e99-a3ab-8759d9a4c9b0",
   "metadata": {},
   "outputs": [],
   "source": [
    "import pandas as pd\n",
    "import numpy as np\n",
    "\n",
    "# convert to million\n",
    "pd.DataFrame(np.array(list(coastal_pop.values()))/1e6, \n",
    "             columns=[f'General'], \n",
    "             index=[str(x) for x in coastal_pop.keys()]\n",
    "            ).plot(ylabel=f'Population within {buffer}m from coast (million)',xlabel='Year')"
   ]
  },
  {
   "cell_type": "raw",
   "id": "2087ed97-53ff-4289-ba55-f47dfef2fbca",
   "metadata": {},
   "source": [
    "# Load DE Africa Coastlines annual shorelines data within our bounding box.\n",
    "deacl_statistics_gdf = get_coastlines(bbox=(xmin, ymin, xmax, ymax),\n",
    "                                      layer='statistics')\n",
    "\n",
    "# Filter points to statistically significant results only.\n",
    "deacl_statistics_gdf = deacl_statistics_gdf.loc[\n",
    "    deacl_statistics_gdf.sig_time < 0.01]\n",
    "\n",
    "# Plot on interactive map.\n",
    "deacl_statistics_gdf.explore(column='rate_time',\n",
    "                             cmap='RdBu',\n",
    "                             vmin=-3,\n",
    "                             vmax=3,\n",
    "                             tooltip='rate_time')"
   ]
  },
  {
   "cell_type": "code",
   "execution_count": null,
   "id": "5523d735-5381-491e-ba58-654791cfa7e7",
   "metadata": {},
   "outputs": [],
   "source": []
  },
  {
   "cell_type": "code",
   "execution_count": null,
   "id": "36c3b297-420d-42fb-a9d6-5be42667ec93",
   "metadata": {},
   "outputs": [],
   "source": []
  }
 ],
 "metadata": {
  "kernelspec": {
   "display_name": "Python 3 (ipykernel)",
   "language": "python",
   "name": "python3"
  },
  "language_info": {
   "codemirror_mode": {
    "name": "ipython",
    "version": 3
   },
   "file_extension": ".py",
   "mimetype": "text/x-python",
   "name": "python",
   "nbconvert_exporter": "python",
   "pygments_lexer": "ipython3",
   "version": "3.8.10"
  }
 },
 "nbformat": 4,
 "nbformat_minor": 5
}
