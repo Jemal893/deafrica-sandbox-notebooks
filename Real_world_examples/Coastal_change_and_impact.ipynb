{
 "cells": [
  {
   "cell_type": "markdown",
   "id": "05f5a4a3-a58e-4bb6-831a-68d6dfda8066",
   "metadata": {},
   "source": [
    "# Coastal change and impact analysis\n",
    "\n",
    "* **Products used:** [DE Africa Coastlines](), [High Resolution Population Density]()\n"
   ]
  },
  {
   "cell_type": "markdown",
   "id": "4f24e28c-3ede-4ff0-9b78-de9962e11454",
   "metadata": {},
   "source": [
    "## Background\n",
    "\n",
    "Coastal changes have a larget impact on human settlements. "
   ]
  },
  {
   "cell_type": "markdown",
   "id": "5f7db118-12f1-44c2-b180-102dea4fd0b4",
   "metadata": {},
   "source": [
    "## Description\n",
    "\n",
    "This notebook will demonstrate how to load relevant datasets and analyse the impact of coastal changes on human settlements.\n",
    "Topics covered include:\n",
    "\n",
    "1. Loading DE Africa Coastlines rates of change statistics data using the `get_coastlines` function.\n",
    "2. Loading High Resolution Population Density.\n",
    "3. Combine\n"
   ]
  },
  {
   "cell_type": "markdown",
   "id": "5fd8f30c-1564-4ec2-8be7-db8ded878dc6",
   "metadata": {},
   "source": [
    "## Getting started\n",
    "\n",
    "To run this analysis, run all the cells in the notebook, starting with the \"Load packages\" cell."
   ]
  },
  {
   "cell_type": "markdown",
   "id": "bf9e040e-35bd-4797-8e78-37a994f56c94",
   "metadata": {},
   "source": [
    "### Load packages\n",
    "Import Python packages that are used for the analysis."
   ]
  },
  {
   "cell_type": "code",
   "execution_count": 1,
   "id": "73c45b2f-f00a-4ff6-b237-8c19a1e32ba7",
   "metadata": {},
   "outputs": [
    {
     "name": "stderr",
     "output_type": "stream",
     "text": [
      "/usr/local/lib/python3.8/dist-packages/geopandas/_compat.py:112: UserWarning: The Shapely GEOS version (3.8.0-CAPI-1.13.1 ) is incompatible with the GEOS version PyGEOS was compiled with (3.10.3-CAPI-1.16.1). Conversions between both will be slow.\n",
      "  warnings.warn(\n"
     ]
    }
   ],
   "source": [
    "import geopandas as gpd\n",
    "import rioxarray as rxr\n",
    "from deafrica_tools.spatial import xr_vectorize, xr_rasterize\n",
    "from deafrica_tools.coastal import get_coastlines\n",
    "from deafrica_tools.app import deacoastlines\n",
    "from deafrica_tools.plotting import display_map"
   ]
  },
  {
   "cell_type": "markdown",
   "id": "cbd0bfb0-fd21-4e46-ab7b-57daea2a882f",
   "metadata": {},
   "source": [
    "### Analysis parameters"
   ]
  },
  {
   "cell_type": "markdown",
   "id": "b2008574-98d0-47fc-aa67-e2650523a2dc",
   "metadata": {},
   "source": [
    "This section defines the analysis parameters, including:\n",
    "\n",
    "* `central_lat, central_lon, buffer`: center lat/lon and analysis window size for the area of interest\n",
    "\n",
    "The default location is an area on Nyali Beach along the Kenyan Coast."
   ]
  },
  {
   "cell_type": "code",
   "execution_count": 21,
   "id": "bb09b2ad-9e20-4f7c-90a3-275243c9ab3a",
   "metadata": {},
   "outputs": [],
   "source": [
    "# Set the central latitude and longitude.\n",
    "#Niger\n",
    "central_lat = 5\n",
    "central_lon = 5\n",
    "#Senegal\n",
    "central_lat = 15\n",
    "central_lon = -15\n",
    "\n",
    "# Set the buffer to load around the central coordinates.\n",
    "buffer = 5\n",
    "\n",
    "# Compute the bounding box for the study area. \n",
    "xmin, xmax = central_lon - buffer, central_lon + buffer\n",
    "ymin, ymax = central_lat - buffer, central_lat + buffer\n",
    "bbox = (xmin, ymin, xmax, ymax)"
   ]
  },
  {
   "cell_type": "markdown",
   "id": "71e0d8b4-f204-43d8-be2b-3bccef1e0f81",
   "metadata": {},
   "source": [
    "## View the selected location\n",
    "\n",
    "The next cell will display the selected area on an interactive map. Feel free to zoom in and out to get a better understanding of the area you'll be analysing. Clicking on any point of the map will reveal the latitude and longitude coordinates of that point."
   ]
  },
  {
   "cell_type": "code",
   "execution_count": 22,
   "id": "af2994e2-d558-4a92-9364-6067c57998ea",
   "metadata": {},
   "outputs": [
    {
     "data": {
      "text/html": [
       "<div style=\"width:100%;\"><div style=\"position:relative;width:100%;height:0;padding-bottom:60%;\"><span style=\"color:#565656\">Make this Notebook Trusted to load map: File -> Trust Notebook</span><iframe srcdoc=\"&lt;!DOCTYPE html&gt;\n",
       "&lt;head&gt;    \n",
       "    &lt;meta http-equiv=&quot;content-type&quot; content=&quot;text/html; charset=UTF-8&quot; /&gt;\n",
       "    \n",
       "        &lt;script&gt;\n",
       "            L_NO_TOUCH = false;\n",
       "            L_DISABLE_3D = false;\n",
       "        &lt;/script&gt;\n",
       "    \n",
       "    &lt;style&gt;html, body {width: 100%;height: 100%;margin: 0;padding: 0;}&lt;/style&gt;\n",
       "    &lt;style&gt;#map {position:absolute;top:0;bottom:0;right:0;left:0;}&lt;/style&gt;\n",
       "    &lt;script src=&quot;https://cdn.jsdelivr.net/npm/leaflet@1.6.0/dist/leaflet.js&quot;&gt;&lt;/script&gt;\n",
       "    &lt;script src=&quot;https://code.jquery.com/jquery-1.12.4.min.js&quot;&gt;&lt;/script&gt;\n",
       "    &lt;script src=&quot;https://maxcdn.bootstrapcdn.com/bootstrap/3.2.0/js/bootstrap.min.js&quot;&gt;&lt;/script&gt;\n",
       "    &lt;script src=&quot;https://cdnjs.cloudflare.com/ajax/libs/Leaflet.awesome-markers/2.0.2/leaflet.awesome-markers.js&quot;&gt;&lt;/script&gt;\n",
       "    &lt;link rel=&quot;stylesheet&quot; href=&quot;https://cdn.jsdelivr.net/npm/leaflet@1.6.0/dist/leaflet.css&quot;/&gt;\n",
       "    &lt;link rel=&quot;stylesheet&quot; href=&quot;https://maxcdn.bootstrapcdn.com/bootstrap/3.2.0/css/bootstrap.min.css&quot;/&gt;\n",
       "    &lt;link rel=&quot;stylesheet&quot; href=&quot;https://maxcdn.bootstrapcdn.com/bootstrap/3.2.0/css/bootstrap-theme.min.css&quot;/&gt;\n",
       "    &lt;link rel=&quot;stylesheet&quot; href=&quot;https://maxcdn.bootstrapcdn.com/font-awesome/4.6.3/css/font-awesome.min.css&quot;/&gt;\n",
       "    &lt;link rel=&quot;stylesheet&quot; href=&quot;https://cdnjs.cloudflare.com/ajax/libs/Leaflet.awesome-markers/2.0.2/leaflet.awesome-markers.css&quot;/&gt;\n",
       "    &lt;link rel=&quot;stylesheet&quot; href=&quot;https://cdn.jsdelivr.net/gh/python-visualization/folium/folium/templates/leaflet.awesome.rotate.min.css&quot;/&gt;\n",
       "    \n",
       "            &lt;meta name=&quot;viewport&quot; content=&quot;width=device-width,\n",
       "                initial-scale=1.0, maximum-scale=1.0, user-scalable=no&quot; /&gt;\n",
       "            &lt;style&gt;\n",
       "                #map_2dbbc63e4406aeff85c3371ad8008288 {\n",
       "                    position: relative;\n",
       "                    width: 100.0%;\n",
       "                    height: 100.0%;\n",
       "                    left: 0.0%;\n",
       "                    top: 0.0%;\n",
       "                }\n",
       "            &lt;/style&gt;\n",
       "        \n",
       "&lt;/head&gt;\n",
       "&lt;body&gt;    \n",
       "    \n",
       "            &lt;div class=&quot;folium-map&quot; id=&quot;map_2dbbc63e4406aeff85c3371ad8008288&quot; &gt;&lt;/div&gt;\n",
       "        \n",
       "&lt;/body&gt;\n",
       "&lt;script&gt;    \n",
       "    \n",
       "            var map_2dbbc63e4406aeff85c3371ad8008288 = L.map(\n",
       "                &quot;map_2dbbc63e4406aeff85c3371ad8008288&quot;,\n",
       "                {\n",
       "                    center: [15.0, -15.0],\n",
       "                    crs: L.CRS.EPSG3857,\n",
       "                    zoom: 6,\n",
       "                    zoomControl: true,\n",
       "                    preferCanvas: false,\n",
       "                }\n",
       "            );\n",
       "\n",
       "            \n",
       "\n",
       "        \n",
       "    \n",
       "            var tile_layer_8f1ba816594d733a9c09fdeb5ea04a63 = L.tileLayer(\n",
       "                &quot;http://mt1.google.com/vt/lyrs=y\\u0026z={z}\\u0026x={x}\\u0026y={y}&quot;,\n",
       "                {&quot;attribution&quot;: &quot;Google&quot;, &quot;detectRetina&quot;: false, &quot;maxNativeZoom&quot;: 18, &quot;maxZoom&quot;: 18, &quot;minZoom&quot;: 0, &quot;noWrap&quot;: false, &quot;opacity&quot;: 1, &quot;subdomains&quot;: &quot;abc&quot;, &quot;tms&quot;: false}\n",
       "            ).addTo(map_2dbbc63e4406aeff85c3371ad8008288);\n",
       "        \n",
       "    \n",
       "            var poly_line_685cb45358918e2b38b149b76aa51a2f = L.polyline(\n",
       "                [[10.0, -20.0], [10.0, -10.0], [20.0, -10.0], [20.0, -20.0], [10.0, -20.0]],\n",
       "                {&quot;bubblingMouseEvents&quot;: true, &quot;color&quot;: &quot;red&quot;, &quot;dashArray&quot;: null, &quot;dashOffset&quot;: null, &quot;fill&quot;: false, &quot;fillColor&quot;: &quot;red&quot;, &quot;fillOpacity&quot;: 0.2, &quot;fillRule&quot;: &quot;evenodd&quot;, &quot;lineCap&quot;: &quot;round&quot;, &quot;lineJoin&quot;: &quot;round&quot;, &quot;noClip&quot;: false, &quot;opacity&quot;: 0.8, &quot;smoothFactor&quot;: 1.0, &quot;stroke&quot;: true, &quot;weight&quot;: 3}\n",
       "            ).addTo(map_2dbbc63e4406aeff85c3371ad8008288);\n",
       "        \n",
       "    \n",
       "                var lat_lng_popup_1b6406014c41c2c3b357105283485576 = L.popup();\n",
       "                function latLngPop(e) {\n",
       "                    lat_lng_popup_1b6406014c41c2c3b357105283485576\n",
       "                        .setLatLng(e.latlng)\n",
       "                        .setContent(&quot;Latitude: &quot; + e.latlng.lat.toFixed(4) +\n",
       "                                    &quot;&lt;br&gt;Longitude: &quot; + e.latlng.lng.toFixed(4))\n",
       "                        .openOn(map_2dbbc63e4406aeff85c3371ad8008288);\n",
       "                    }\n",
       "                map_2dbbc63e4406aeff85c3371ad8008288.on(&#x27;click&#x27;, latLngPop);\n",
       "            \n",
       "&lt;/script&gt;\" style=\"position:absolute;width:100%;height:100%;left:0;top:0;border:none !important;\" allowfullscreen webkitallowfullscreen mozallowfullscreen></iframe></div></div>"
      ],
      "text/plain": [
       "<folium.folium.Map at 0x7f5f7e6ee490>"
      ]
     },
     "execution_count": 22,
     "metadata": {},
     "output_type": "execute_result"
    }
   ],
   "source": [
    "display_map(x=(xmin, xmax), y=(ymin, ymax))"
   ]
  },
  {
   "cell_type": "code",
   "execution_count": 4,
   "id": "324c5b0e-c1db-4531-a9be-301b98ec89d3",
   "metadata": {},
   "outputs": [],
   "source": [
    "## Loading DE Africa Coastlines data "
   ]
  },
  {
   "cell_type": "code",
   "execution_count": 32,
   "id": "ce65cb9c-c277-4682-86b0-1ea9abfab028",
   "metadata": {},
   "outputs": [],
   "source": [
    "#Lagos\n",
    "#ds = rxr.open_rasterio('../../HighResolutionPopulationDensity/cog_globallat_0_lon_0_general-v1.5.7.tif', chunks ={'x': 1000, 'y': 1000})\n",
    "\n",
    "#Senegal\n",
    "ds = rxr.open_rasterio('../../HighResolutionPopulationDensity/cog_globallat_10_lon_-20_general-v1.5.3.tif', chunks ={'x': 1000, 'y': 1000})\n",
    "\n",
    "#ds = rxr.open_rasterio('../../HighResolutionPopulationDensity/cog_globallat_0_lon_0_general-v1.5.7.tif', chunks ={'x': 1000, 'y': 1000})\n",
    "#ds_youth = rxr.open_rasterio('../../HighResolutionPopulationDensity/cog_globallat_0_lon_0_youth_15_24-v1.5.7.tif', chunks ={'x': 1000, 'y': 1000})"
   ]
  },
  {
   "cell_type": "markdown",
   "id": "48fd45b9-da88-459d-b370-ef2e31837946",
   "metadata": {},
   "source": [
    "### Population within a buffer of 2021 shoreline"
   ]
  },
  {
   "cell_type": "code",
   "execution_count": 33,
   "id": "f3208cde-c3d4-4864-96ea-a45419356e70",
   "metadata": {},
   "outputs": [],
   "source": [
    "buffer = 50 #meter"
   ]
  },
  {
   "cell_type": "code",
   "execution_count": null,
   "id": "6b7e8aa0-fd8d-4316-ba1f-742da54ecb48",
   "metadata": {},
   "outputs": [],
   "source": [
    "#2021 coastlines\n",
    "\n",
    "# Load DE Africa Coastlines annual shorelines data. \n",
    "deacl_shorelines_gdf = get_coastlines(bbox=bbox, \n",
    "                                      layer='shorelines')"
   ]
  },
  {
   "cell_type": "code",
   "execution_count": null,
   "id": "d78b1a58-8f2b-4d7f-9223-96d36b9d1968",
   "metadata": {},
   "outputs": [],
   "source": [
    "buffered = deacl_shorelines_gdf.copy()"
   ]
  },
  {
   "cell_type": "code",
   "execution_count": null,
   "id": "b74285ec-8183-4dae-a85e-9ef7ea266de3",
   "metadata": {},
   "outputs": [],
   "source": [
    "buffered['geometry'] = deacl_shorelines_gdf.to_crs('6933').buffer(buffer).to_crs('4326')"
   ]
  },
  {
   "cell_type": "code",
   "execution_count": null,
   "id": "a6c85e1e-581c-4131-ad6a-0712ef67bc92",
   "metadata": {},
   "outputs": [],
   "source": [
    "coastal_bbox = buffered.unary_union.bounds\n",
    "coastal_bbox"
   ]
  },
  {
   "cell_type": "code",
   "execution_count": null,
   "id": "6adf31dd-8010-4c16-b4ce-8fa7b30ecfba",
   "metadata": {},
   "outputs": [],
   "source": [
    "pop_raster = ds.isel(band=0).sel(x=slice(coastal_bbox[0],coastal_bbox[2]), y = slice(coastal_bbox[3],coastal_bbox[1]))#.compute()\n",
    "#youth_raster = ds_youth.isel(band=0).sel(x=slice(coastal_bbox[0],coastal_bbox[2]), y = slice(coastal_bbox[3],coastal_bbox[1]))"
   ]
  },
  {
   "cell_type": "code",
   "execution_count": null,
   "id": "46df3e66-d661-48c3-bbc6-cc73ce34719e",
   "metadata": {},
   "outputs": [],
   "source": [
    "pop_raster.geobox"
   ]
  },
  {
   "cell_type": "code",
   "execution_count": null,
   "id": "33a92a61-1b3c-4b75-b12c-d9aa91beb410",
   "metadata": {},
   "outputs": [],
   "source": [
    "pop_raster=pop_raster.rename({'x':'longitude','y':'latitude'})\n",
    "#youth_raster=youth_raster.rename({'x':'longitude','y':'latitude'})"
   ]
  },
  {
   "cell_type": "code",
   "execution_count": null,
   "id": "1ef0be77-e4ac-46e9-8130-7707aae5d983",
   "metadata": {},
   "outputs": [],
   "source": [
    "coastal_pop = {}\n",
    "for year in range(2000,2021):\n",
    "    coastal_area = buffered[buffered.year==str(year)]\n",
    "    coastal_raster = xr_rasterize(gdf=coastal_area,\n",
    "                                  da=pop_raster,\n",
    "                                  transform=pop_raster.geobox.transform,\n",
    "                                  crs=pop_raster.geobox.crs)\n",
    "    \n",
    "    #fraction of coastal population\n",
    "    coastal_pop[year] = (coastal_raster*pop_raster).sum().values"
   ]
  },
  {
   "cell_type": "code",
   "execution_count": null,
   "id": "da3aa948-fa86-4e99-a3ab-8759d9a4c9b0",
   "metadata": {},
   "outputs": [],
   "source": [
    "import pandas as pd\n",
    "import numpy as np\n",
    "\n",
    "# convert to million\n",
    "pd.DataFrame(np.array(list(coastal_pop.values()))/1e6, \n",
    "             columns=[f'General'], \n",
    "             index=[str(x) for x in coastal_pop.keys()]\n",
    "            ).plot(ylabel=f'Population within {buffer}m from coast (million)',xlabel='Year')"
   ]
  },
  {
   "cell_type": "raw",
   "id": "2087ed97-53ff-4289-ba55-f47dfef2fbca",
   "metadata": {},
   "source": [
    "# Load DE Africa Coastlines annual shorelines data within our bounding box.\n",
    "deacl_statistics_gdf = get_coastlines(bbox=(xmin, ymin, xmax, ymax),\n",
    "                                      layer='statistics')\n",
    "\n",
    "# Filter points to statistically significant results only.\n",
    "deacl_statistics_gdf = deacl_statistics_gdf.loc[\n",
    "    deacl_statistics_gdf.sig_time < 0.01]\n",
    "\n",
    "# Plot on interactive map.\n",
    "deacl_statistics_gdf.explore(column='rate_time',\n",
    "                             cmap='RdBu',\n",
    "                             vmin=-3,\n",
    "                             vmax=3,\n",
    "                             tooltip='rate_time')"
   ]
  },
  {
   "cell_type": "code",
   "execution_count": null,
   "id": "5523d735-5381-491e-ba58-654791cfa7e7",
   "metadata": {},
   "outputs": [],
   "source": []
  }
 ],
 "metadata": {
  "kernelspec": {
   "display_name": "Python 3 (ipykernel)",
   "language": "python",
   "name": "python3"
  },
  "language_info": {
   "codemirror_mode": {
    "name": "ipython",
    "version": 3
   },
   "file_extension": ".py",
   "mimetype": "text/x-python",
   "name": "python",
   "nbconvert_exporter": "python",
   "pygments_lexer": "ipython3",
   "version": "3.8.10"
  }
 },
 "nbformat": 4,
 "nbformat_minor": 5
}
