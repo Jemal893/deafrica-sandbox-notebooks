{
 "cells": [
  {
   "cell_type": "markdown",
   "id": "05f5a4a3-a58e-4bb6-831a-68d6dfda8066",
   "metadata": {},
   "source": [
    "# Coastal change and impact analysis\n",
    "\n",
    "* **Products used:** [DE Africa Coastlines](), [High Resolution Population Density]()\n"
   ]
  },
  {
   "cell_type": "markdown",
   "id": "4f24e28c-3ede-4ff0-9b78-de9962e11454",
   "metadata": {},
   "source": [
    "## Background\n",
    "\n",
    "Coastal changes have a larget impact on human settlements. "
   ]
  },
  {
   "cell_type": "markdown",
   "id": "5f7db118-12f1-44c2-b180-102dea4fd0b4",
   "metadata": {},
   "source": [
    "## Description\n",
    "\n",
    "This notebook will demonstrate how to load relevant datasets and analyse the impact of coastal changes on human settlements.\n",
    "Topics covered include:\n",
    "\n",
    "1. Loading DE Africa Coastlines rates of change statistics data using the `get_coastlines` function.\n",
    "2. Loading High Resolution Population Density.\n",
    "3. Identify coastal change hotspots that are near pupulated areas.\n"
   ]
  },
  {
   "cell_type": "markdown",
   "id": "5fd8f30c-1564-4ec2-8be7-db8ded878dc6",
   "metadata": {},
   "source": [
    "## Getting started\n",
    "\n",
    "To run this analysis, run all the cells in the notebook, starting with the \"Load packages\" cell."
   ]
  },
  {
   "cell_type": "markdown",
   "id": "bf9e040e-35bd-4797-8e78-37a994f56c94",
   "metadata": {},
   "source": [
    "### Load packages\n",
    "Import Python packages that are used for the analysis."
   ]
  },
  {
   "cell_type": "code",
   "execution_count": 2,
   "id": "73c45b2f-f00a-4ff6-b237-8c19a1e32ba7",
   "metadata": {},
   "outputs": [
    {
     "name": "stderr",
     "output_type": "stream",
     "text": [
      "/usr/local/lib/python3.8/dist-packages/geopandas/_compat.py:112: UserWarning: The Shapely GEOS version (3.8.0-CAPI-1.13.1 ) is incompatible with the GEOS version PyGEOS was compiled with (3.10.3-CAPI-1.16.1). Conversions between both will be slow.\n",
      "  warnings.warn(\n"
     ]
    }
   ],
   "source": [
    "import geopandas as gpd\n",
    "import rioxarray as rxr\n",
    "import numpy as np\n",
    "from deafrica_tools.spatial import xr_rasterize\n",
    "from deafrica_tools.coastal import get_coastlines\n",
    "from deafrica_tools.plotting import display_map\n",
    "from datacube.utils.geometry import Geometry\n",
    "\n",
    "\n",
    "# set s3 region for HRSL data access\n",
    "import os\n",
    "os.environ['AWS_DEFAULT_REGION']=\"us-east-1\"\n",
    "os.environ['AWS_S3_ENDPOINT']=\"s3.us-east-1.amazonaws.com\""
   ]
  },
  {
   "cell_type": "markdown",
   "id": "37b9291b-fffb-46e4-b0cf-6db85a413037",
   "metadata": {},
   "source": [
    "## Select rates of change for country of interest"
   ]
  },
  {
   "cell_type": "code",
   "execution_count": 3,
   "id": "c88957c8-b7f3-49d8-b4a5-a895c52fc204",
   "metadata": {},
   "outputs": [],
   "source": [
    "coastlines = gpd.read_file(\"../../data/deafricacoastlines_v0.4.0.gpkg\", layer=\"rates_of_change\")"
   ]
  },
  {
   "cell_type": "code",
   "execution_count": 4,
   "id": "16e9be8b-187f-48ce-90a0-80fa08202f12",
   "metadata": {},
   "outputs": [],
   "source": [
    "african_countries  = gpd.read_file(\"../Supplementary_data/MGCI/african_countries.geojson\")\n",
    "\n",
    "alt_name = {'Comoros':'Comores','Congo-Brazzaville':'Republic of the Congo', 'Cote d`Ivoire':'Ivory Coast', \n",
    "            'Democratic Republic of Congo':'Democratic Republic of the Congo','Somalia':'Federal Republic of Somalia'}\n",
    "african_countries[\"COUNTRY_ALT\"]=african_countries[\"COUNTRY\"]\n",
    "for key, value in alt_name.items():\n",
    "    african_countries.at[african_countries[african_countries[\"COUNTRY\"]==key].index[0], \"COUNTRY_ALT\"]=value"
   ]
  },
  {
   "cell_type": "code",
   "execution_count": 5,
   "id": "e0aa28de-5ccf-44d7-84dc-0c3d30abf044",
   "metadata": {},
   "outputs": [
    {
     "data": {
      "text/plain": [
       "array(['Algeria', 'Angola', 'Benin', 'Botswana', 'Burkina Faso',\n",
       "       'Burundi', 'Cameroon', 'Cape Verde', 'Central African Republic',\n",
       "       'Chad', 'Comoros', 'Congo-Brazzaville', 'Cote d`Ivoire',\n",
       "       'Democratic Republic of Congo', 'Djibouti', 'Egypt',\n",
       "       'Equatorial Guinea', 'Eritrea', 'Ethiopia', 'Gabon', 'Gambia',\n",
       "       'Ghana', 'Guinea', 'Guinea-Bissau', 'Kenya', 'Lesotho', 'Liberia',\n",
       "       'Libya', 'Madagascar', 'Malawi', 'Mali', 'Mauritania', 'Morocco',\n",
       "       'Mozambique', 'Namibia', 'Niger', 'Nigeria', 'Rwanda',\n",
       "       'Sao Tome and Principe', 'Senegal', 'Sierra Leone', 'Somalia',\n",
       "       'South Africa', 'Sudan', 'Swaziland', 'Tanzania', 'Togo',\n",
       "       'Tunisia', 'Uganda', 'Western Sahara', 'Zambia', 'Zimbabwe'],\n",
       "      dtype=object)"
      ]
     },
     "execution_count": 5,
     "metadata": {},
     "output_type": "execute_result"
    }
   ],
   "source": [
    "np.unique(african_countries[\"COUNTRY\"])"
   ]
  },
  {
   "cell_type": "code",
   "execution_count": 6,
   "id": "9d00a06f-871b-46c0-8b7e-45f40536b623",
   "metadata": {},
   "outputs": [],
   "source": [
    "country = \"Nigeria\""
   ]
  },
  {
   "cell_type": "code",
   "execution_count": 7,
   "id": "33222833-c50b-4f27-9468-41a9f4b4dd4a",
   "metadata": {},
   "outputs": [],
   "source": [
    "idx = african_countries[african_countries['COUNTRY'] == country].index[0]\n",
    "country_geom = Geometry(geom=african_countries.iloc[idx].geometry, crs=african_countries.crs)"
   ]
  },
  {
   "cell_type": "code",
   "execution_count": 8,
   "id": "e69bd481-7206-46fa-8e83-293b3ffb6a0c",
   "metadata": {},
   "outputs": [],
   "source": [
    "change_gdf=coastlines[coastlines.country==african_countries.loc[idx].COUNTRY_ALT]"
   ]
  },
  {
   "cell_type": "code",
   "execution_count": 18,
   "id": "80dd3352-425b-45b1-8fc7-45ceaff75d1f",
   "metadata": {},
   "outputs": [
    {
     "name": "stdout",
     "output_type": "stream",
     "text": [
      "358.47\n"
     ]
    }
   ],
   "source": [
    "# significant changes\n",
    "\n",
    "sig_neg_change = change_gdf[(change_gdf.certainty=='good') & (change_gdf.sig_time<0.01) & (change_gdf.rate_time<-1)]\n",
    "print(len(sig_neg_change)*30./1000.)"
   ]
  },
  {
   "cell_type": "code",
   "execution_count": 19,
   "id": "45ae7bdf-7529-4216-ace9-17440b67b3f1",
   "metadata": {},
   "outputs": [],
   "source": [
    "buffer=20\n",
    "buffered = sig_neg_change.copy()\n",
    "buffered['geometry'] = sig_neg_change.to_crs('6933').buffer(buffer).to_crs('4326')\n",
    "hotspots = gpd.overlay(buffered, buffered, how='intersection')\n",
    "\n",
    "coast_bbox = buffered.unary_union.bounds\n"
   ]
  },
  {
   "cell_type": "code",
   "execution_count": 20,
   "id": "af2994e2-d558-4a92-9364-6067c57998ea",
   "metadata": {},
   "outputs": [
    {
     "data": {
      "text/html": [
       "<div style=\"width:100%;\"><div style=\"position:relative;width:100%;height:0;padding-bottom:60%;\"><span style=\"color:#565656\">Make this Notebook Trusted to load map: File -> Trust Notebook</span><iframe srcdoc=\"&lt;!DOCTYPE html&gt;\n",
       "&lt;head&gt;    \n",
       "    &lt;meta http-equiv=&quot;content-type&quot; content=&quot;text/html; charset=UTF-8&quot; /&gt;\n",
       "    \n",
       "        &lt;script&gt;\n",
       "            L_NO_TOUCH = false;\n",
       "            L_DISABLE_3D = false;\n",
       "        &lt;/script&gt;\n",
       "    \n",
       "    &lt;style&gt;html, body {width: 100%;height: 100%;margin: 0;padding: 0;}&lt;/style&gt;\n",
       "    &lt;style&gt;#map {position:absolute;top:0;bottom:0;right:0;left:0;}&lt;/style&gt;\n",
       "    &lt;script src=&quot;https://cdn.jsdelivr.net/npm/leaflet@1.6.0/dist/leaflet.js&quot;&gt;&lt;/script&gt;\n",
       "    &lt;script src=&quot;https://code.jquery.com/jquery-1.12.4.min.js&quot;&gt;&lt;/script&gt;\n",
       "    &lt;script src=&quot;https://maxcdn.bootstrapcdn.com/bootstrap/3.2.0/js/bootstrap.min.js&quot;&gt;&lt;/script&gt;\n",
       "    &lt;script src=&quot;https://cdnjs.cloudflare.com/ajax/libs/Leaflet.awesome-markers/2.0.2/leaflet.awesome-markers.js&quot;&gt;&lt;/script&gt;\n",
       "    &lt;link rel=&quot;stylesheet&quot; href=&quot;https://cdn.jsdelivr.net/npm/leaflet@1.6.0/dist/leaflet.css&quot;/&gt;\n",
       "    &lt;link rel=&quot;stylesheet&quot; href=&quot;https://maxcdn.bootstrapcdn.com/bootstrap/3.2.0/css/bootstrap.min.css&quot;/&gt;\n",
       "    &lt;link rel=&quot;stylesheet&quot; href=&quot;https://maxcdn.bootstrapcdn.com/bootstrap/3.2.0/css/bootstrap-theme.min.css&quot;/&gt;\n",
       "    &lt;link rel=&quot;stylesheet&quot; href=&quot;https://maxcdn.bootstrapcdn.com/font-awesome/4.6.3/css/font-awesome.min.css&quot;/&gt;\n",
       "    &lt;link rel=&quot;stylesheet&quot; href=&quot;https://cdnjs.cloudflare.com/ajax/libs/Leaflet.awesome-markers/2.0.2/leaflet.awesome-markers.css&quot;/&gt;\n",
       "    &lt;link rel=&quot;stylesheet&quot; href=&quot;https://cdn.jsdelivr.net/gh/python-visualization/folium/folium/templates/leaflet.awesome.rotate.min.css&quot;/&gt;\n",
       "    \n",
       "            &lt;meta name=&quot;viewport&quot; content=&quot;width=device-width,\n",
       "                initial-scale=1.0, maximum-scale=1.0, user-scalable=no&quot; /&gt;\n",
       "            &lt;style&gt;\n",
       "                #map_e3b31adc79b139392159f450e37167e2 {\n",
       "                    position: relative;\n",
       "                    width: 100.0%;\n",
       "                    height: 100.0%;\n",
       "                    left: 0.0%;\n",
       "                    top: 0.0%;\n",
       "                }\n",
       "            &lt;/style&gt;\n",
       "        \n",
       "&lt;/head&gt;\n",
       "&lt;body&gt;    \n",
       "    \n",
       "            &lt;div class=&quot;folium-map&quot; id=&quot;map_e3b31adc79b139392159f450e37167e2&quot; &gt;&lt;/div&gt;\n",
       "        \n",
       "&lt;/body&gt;\n",
       "&lt;script&gt;    \n",
       "    \n",
       "            var map_e3b31adc79b139392159f450e37167e2 = L.map(\n",
       "                &quot;map_e3b31adc79b139392159f450e37167e2&quot;,\n",
       "                {\n",
       "                    center: [5.355244384102615, 5.620524022180573],\n",
       "                    crs: L.CRS.EPSG3857,\n",
       "                    zoom: 6,\n",
       "                    zoomControl: true,\n",
       "                    preferCanvas: false,\n",
       "                }\n",
       "            );\n",
       "\n",
       "            \n",
       "\n",
       "        \n",
       "    \n",
       "            var tile_layer_aacea1000c382f75fdfff4a695fd9168 = L.tileLayer(\n",
       "                &quot;http://mt1.google.com/vt/lyrs=y\\u0026z={z}\\u0026x={x}\\u0026y={y}&quot;,\n",
       "                {&quot;attribution&quot;: &quot;Google&quot;, &quot;detectRetina&quot;: false, &quot;maxNativeZoom&quot;: 18, &quot;maxZoom&quot;: 18, &quot;minZoom&quot;: 0, &quot;noWrap&quot;: false, &quot;opacity&quot;: 1, &quot;subdomains&quot;: &quot;abc&quot;, &quot;tms&quot;: false}\n",
       "            ).addTo(map_e3b31adc79b139392159f450e37167e2);\n",
       "        \n",
       "    \n",
       "            var poly_line_aa8d5a71d548cbafa2edab08e1b7a9b2 = L.polyline(\n",
       "                [[4.2709761359773095, 2.709084480529579], [4.2709761359773095, 8.531963563831566], [6.43951263222792, 8.531963563831566], [6.43951263222792, 2.709084480529579], [4.2709761359773095, 2.709084480529579]],\n",
       "                {&quot;bubblingMouseEvents&quot;: true, &quot;color&quot;: &quot;red&quot;, &quot;dashArray&quot;: null, &quot;dashOffset&quot;: null, &quot;fill&quot;: false, &quot;fillColor&quot;: &quot;red&quot;, &quot;fillOpacity&quot;: 0.2, &quot;fillRule&quot;: &quot;evenodd&quot;, &quot;lineCap&quot;: &quot;round&quot;, &quot;lineJoin&quot;: &quot;round&quot;, &quot;noClip&quot;: false, &quot;opacity&quot;: 0.8, &quot;smoothFactor&quot;: 1.0, &quot;stroke&quot;: true, &quot;weight&quot;: 3}\n",
       "            ).addTo(map_e3b31adc79b139392159f450e37167e2);\n",
       "        \n",
       "    \n",
       "                var lat_lng_popup_ea1fc40f0d43ea395dae49af3505928c = L.popup();\n",
       "                function latLngPop(e) {\n",
       "                    lat_lng_popup_ea1fc40f0d43ea395dae49af3505928c\n",
       "                        .setLatLng(e.latlng)\n",
       "                        .setContent(&quot;Latitude: &quot; + e.latlng.lat.toFixed(4) +\n",
       "                                    &quot;&lt;br&gt;Longitude: &quot; + e.latlng.lng.toFixed(4))\n",
       "                        .openOn(map_e3b31adc79b139392159f450e37167e2);\n",
       "                    }\n",
       "                map_e3b31adc79b139392159f450e37167e2.on(&#x27;click&#x27;, latLngPop);\n",
       "            \n",
       "&lt;/script&gt;\" style=\"position:absolute;width:100%;height:100%;left:0;top:0;border:none !important;\" allowfullscreen webkitallowfullscreen mozallowfullscreen></iframe></div></div>"
      ],
      "text/plain": [
       "<folium.folium.Map at 0x7fad52c82e20>"
      ]
     },
     "execution_count": 20,
     "metadata": {},
     "output_type": "execute_result"
    }
   ],
   "source": [
    "display_map(x=(coast_bbox[0], coast_bbox[2]), y=(coast_bbox[1], coast_bbox[3]))"
   ]
  },
  {
   "cell_type": "markdown",
   "id": "70cdcd01-8a23-4edc-bc1c-74260c74f934",
   "metadata": {},
   "source": [
    "## Loading Population data"
   ]
  },
  {
   "cell_type": "code",
   "execution_count": 21,
   "id": "ce65cb9c-c277-4682-86b0-1ea9abfab028",
   "metadata": {},
   "outputs": [],
   "source": [
    "# Load population data\n",
    "ds = rxr.open_rasterio('s3://dataforgood-fb-data/hrsl-cogs/hrsl_general/hrsl_general-latest.vrt', \n",
    "                       chunks ={'x': 1000, 'y': 1000})"
   ]
  },
  {
   "cell_type": "code",
   "execution_count": 22,
   "id": "4a3d91ef-123e-42dd-b359-f0943ddfbb40",
   "metadata": {},
   "outputs": [],
   "source": [
    "pop_raster = ds.isel(band=0).sel(x=slice(coast_bbox[0],coast_bbox[2]), y = slice(coast_bbox[3], coast_bbox[1]))\n",
    "#youth_raster = ds_youth.isel(band=0).sel(x=slice(coastal_bbox[0],coastal_bbox[2]), y = slice(coastal_bbox[3],coastal_bbox[1]))\n",
    "\n",
    "pop_raster=pop_raster.rename({'x':'longitude','y':'latitude'})\n",
    "#youth_raster=youth_raster.rename({'x':'longitude','y':'latitude'})\n",
    "\n",
    "hotspots_mask = xr_rasterize(gdf=hotspots,\n",
    "                                  da=pop_raster,\n",
    "                                  transform=pop_raster.geobox.transform,\n",
    "                                  crs=pop_raster.geobox.crs)"
   ]
  },
  {
   "cell_type": "code",
   "execution_count": 23,
   "id": "487dc3d1-2e14-4ab0-b0ae-44d795db3613",
   "metadata": {},
   "outputs": [],
   "source": [
    "pop_hotspots = (pop_raster*hotspots_mask)"
   ]
  },
  {
   "cell_type": "code",
   "execution_count": 24,
   "id": "e9273b9e-223b-46b4-b376-960130913e81",
   "metadata": {},
   "outputs": [
    {
     "name": "stdout",
     "output_type": "stream",
     "text": [
      "# of hotspots 47243\n"
     ]
    }
   ],
   "source": [
    "# go over individual hotspots\n",
    "\n",
    "print(\"# of hotspots\", len(hotspots))"
   ]
  },
  {
   "cell_type": "code",
   "execution_count": 25,
   "id": "b564a36d-c8fd-4b5b-9a85-8b4877b78757",
   "metadata": {},
   "outputs": [
    {
     "data": {
      "text/plain": [
       "array(28861.335668)"
      ]
     },
     "execution_count": 25,
     "metadata": {},
     "output_type": "execute_result"
    }
   ],
   "source": [
    "# Population near hotspots\n",
    "\n",
    "pop_hotspots.sum().values"
   ]
  },
  {
   "cell_type": "markdown",
   "id": "48fd45b9-da88-459d-b370-ef2e31837946",
   "metadata": {},
   "source": [
    "### Population within a buffer of 2021 shoreline"
   ]
  },
  {
   "cell_type": "code",
   "execution_count": null,
   "id": "f3208cde-c3d4-4864-96ea-a45419356e70",
   "metadata": {},
   "outputs": [],
   "source": [
    "buffer = 50 #meter"
   ]
  },
  {
   "cell_type": "code",
   "execution_count": 10,
   "id": "6b7e8aa0-fd8d-4316-ba1f-742da54ecb48",
   "metadata": {},
   "outputs": [
    {
     "name": "stderr",
     "output_type": "stream",
     "text": [
      "/usr/local/lib/python3.8/dist-packages/geopandas/tools/clip.py:66: FutureWarning: In a future version, `df.iloc[:, i] = newvals` will attempt to set the values inplace instead of always setting a new array. To retain the old behavior, use either `df[df.columns[i]] = newvals` or, if columns are non-unique, `df.isetitem(i, newvals)`\n",
      "  clipped.loc[\n"
     ]
    }
   ],
   "source": [
    "# Load DE Africa Coastlines annual shorelines data. \n",
    "deacl_shorelines_gdf = get_coastlines(bbox=bbox, \n",
    "                                      layer='shorelines')"
   ]
  },
  {
   "cell_type": "code",
   "execution_count": 11,
   "id": "d78b1a58-8f2b-4d7f-9223-96d36b9d1968",
   "metadata": {},
   "outputs": [],
   "source": []
  },
  {
   "cell_type": "code",
   "execution_count": 12,
   "id": "b74285ec-8183-4dae-a85e-9ef7ea266de3",
   "metadata": {},
   "outputs": [],
   "source": [
    "buffered = deacl_shorelines_gdf.copy()\n",
    "buffered['geometry'] = deacl_shorelines_gdf.to_crs('6933').buffer(buffer).to_crs('4326')\n",
    "coast_bbox = buffered.unary_union.bounds\n"
   ]
  },
  {
   "cell_type": "code",
   "execution_count": 13,
   "id": "c0dc81b7-88b5-4bb2-afd6-117f73b41407",
   "metadata": {},
   "outputs": [
    {
     "data": {
      "text/plain": [
       "(-11.492598206286239, 4.354116928570664, -7.364591791808162, 6.92300308467692)"
      ]
     },
     "execution_count": 13,
     "metadata": {},
     "output_type": "execute_result"
    }
   ],
   "source": [
    "coast_bbox"
   ]
  },
  {
   "cell_type": "code",
   "execution_count": 20,
   "id": "d3188d01-7bf6-49b2-be9d-cb7c8c4303e3",
   "metadata": {},
   "outputs": [],
   "source": [
    "pop_raster = ds.isel(band=0).sel(x=slice(coast_bbox[0],coast_bbox[2]), y = slice(coast_bbox[3], coast_bbox[1])).compute()\n",
    "#youth_raster = ds_youth.isel(band=0).sel(x=slice(coastal_bbox[0],coastal_bbox[2]), y = slice(coastal_bbox[3],coastal_bbox[1]))\n",
    "\n",
    "pop_raster=pop_raster.rename({'x':'longitude','y':'latitude'})\n",
    "#youth_raster=youth_raster.rename({'x':'longitude','y':'latitude'})\n",
    "\n",
    "\n",
    "country_mask = xr_rasterize(gdf=african_countries[african_countries['COUNTRY'] == country],\n",
    "                                  da=pop_raster,\n",
    "                                  transform=pop_raster.geobox.transform,\n",
    "                                  crs=pop_raster.geobox.crs)"
   ]
  },
  {
   "cell_type": "code",
   "execution_count": 21,
   "id": "1ef0be77-e4ac-46e9-8130-7707aae5d983",
   "metadata": {},
   "outputs": [
    {
     "name": "stdout",
     "output_type": "stream",
     "text": [
      "2000 5156.297044999997\n",
      "2001 5287.114126999996\n",
      "2002 5474.556089999997\n",
      "2003 5604.860099999998\n",
      "2004 5525.316232999997\n",
      "2005 4269.997777\n",
      "2006 5339.435688999997\n",
      "2007 5284.808079999997\n",
      "2008 5053.746324999998\n",
      "2009 5397.306034999998\n"
     ]
    },
    {
     "name": "stderr",
     "output_type": "stream",
     "text": [
      "/usr/local/lib/python3.8/dist-packages/rasterio/features.py:322: ShapeSkipWarning: Invalid or empty shape {'type': 'Polygon', 'coordinates': ()} at index 0 will not be rasterized.\n",
      "  warnings.warn('Invalid or empty shape {} at index {} will not be rasterized.'.format(geom, index), ShapeSkipWarning)\n"
     ]
    },
    {
     "name": "stdout",
     "output_type": "stream",
     "text": [
      "2010 5469.085178999999\n",
      "2011 5620.986380999999\n",
      "2012 5509.582841999999\n",
      "2013 5840.464020999996\n",
      "2014 5592.673438999996\n",
      "2015 5499.973896999996\n",
      "2016 5597.800031999996\n",
      "2017 5568.492585999998\n",
      "2018 5876.699521999996\n",
      "2019 6025.041424999997\n",
      "2020 5888.408934999996\n"
     ]
    }
   ],
   "source": [
    "coastal_pop = {}\n",
    "for year in range(2000,2021):\n",
    "    coastal_area = buffered[buffered.year==str(year)]\n",
    "    coastal_raster = xr_rasterize(gdf=coastal_area,\n",
    "                                  da=pop_raster,\n",
    "                                  transform=pop_raster.geobox.transform,\n",
    "                                  crs=pop_raster.geobox.crs)\n",
    "    \n",
    "    #fraction of coastal population\n",
    "    coastal_pop[year] = (coastal_raster*pop_raster*country_mask).sum().values\n",
    "    print(year, coastal_pop[year]) "
   ]
  },
  {
   "cell_type": "code",
   "execution_count": 22,
   "id": "da3aa948-fa86-4e99-a3ab-8759d9a4c9b0",
   "metadata": {},
   "outputs": [
    {
     "data": {
      "text/plain": [
       "<AxesSubplot: xlabel='Year', ylabel='Population within 50m from coast (million)'>"
      ]
     },
     "execution_count": 22,
     "metadata": {},
     "output_type": "execute_result"
    },
    {
     "data": {
      "image/png": "[encoded data removed]",
      "text/plain": [
       "<Figure size 640x480 with 1 Axes>"
      ]
     },
     "metadata": {},
     "output_type": "display_data"
    }
   ],
   "source": [
    "import pandas as pd\n",
    "import numpy as np\n",
    "\n",
    "# convert to million\n",
    "pd.DataFrame(np.array(list(coastal_pop.values()))/1e6, \n",
    "             columns=[f'General'], \n",
    "             index=[str(x) for x in coastal_pop.keys()]\n",
    "            ).plot(ylabel=f'Population within {buffer}m from coast (million)',xlabel='Year')"
   ]
  },
  {
   "cell_type": "raw",
   "id": "2087ed97-53ff-4289-ba55-f47dfef2fbca",
   "metadata": {},
   "source": [
    "# Load DE Africa Coastlines annual shorelines data within our bounding box.\n",
    "deacl_statistics_gdf = get_coastlines(bbox=(xmin, ymin, xmax, ymax),\n",
    "                                      layer='statistics')\n",
    "\n",
    "# Filter points to statistically significant results only.\n",
    "deacl_statistics_gdf = deacl_statistics_gdf.loc[\n",
    "    deacl_statistics_gdf.sig_time < 0.01]\n",
    "\n",
    "# Plot on interactive map.\n",
    "deacl_statistics_gdf.explore(column='rate_time',\n",
    "                             cmap='RdBu',\n",
    "                             vmin=-3,\n",
    "                             vmax=3,\n",
    "                             tooltip='rate_time')"
   ]
  },
  {
   "cell_type": "code",
   "execution_count": null,
   "id": "5523d735-5381-491e-ba58-654791cfa7e7",
   "metadata": {},
   "outputs": [],
   "source": []
  },
  {
   "cell_type": "code",
   "execution_count": null,
   "id": "36c3b297-420d-42fb-a9d6-5be42667ec93",
   "metadata": {},
   "outputs": [],
   "source": []
  }
 ],
 "metadata": {
  "kernelspec": {
   "display_name": "Python 3 (ipykernel)",
   "language": "python",
   "name": "python3"
  },
  "language_info": {
   "codemirror_mode": {
    "name": "ipython",
    "version": 3
   },
   "file_extension": ".py",
   "mimetype": "text/x-python",
   "name": "python",
   "nbconvert_exporter": "python",
   "pygments_lexer": "ipython3",
   "version": "3.8.10"
  }
 },
 "nbformat": 4,
 "nbformat_minor": 5
}
