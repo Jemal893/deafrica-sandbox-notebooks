{
 "cells": [
  {
   "cell_type": "markdown",
   "id": "a1ee47cf-3544-4245-9884-92989e9f8877",
   "metadata": {},
   "source": [
    "<img align=\"centre\" src=\"../../Supplementary_data/Github_banner.jpg\" width=\"100%\">\n",
    "\n",
    "# Enhanced Combined Drought Index - Soil Moisture Drought Index\n"
   ]
  },
  {
   "cell_type": "raw",
   "id": "5f36c0bc-9aba-4e41-9698-96cc57458962",
   "metadata": {},
   "source": [
    "**Keywords**: :index:`data used; WAPOR`, :index:`climate`, :index:`soil moisture`;"
   ]
  },
  {
   "cell_type": "markdown",
   "id": "4d6ce758-4950-4cea-96e6-ee58a302108a",
   "metadata": {},
   "source": [
    "## Background "
   ]
  },
  {
   "cell_type": "markdown",
   "id": "1d1c29f8-816c-414b-8d63-efd95a7a647c",
   "metadata": {},
   "source": [
    "Drought is an extended period, during which, fresh water availability and accessibility for the ecosystem at a given time and place is below normal, due to unfavourable spatial and temporal distribution of rainfall, temperature, soil moisture and wind characteristics [(Balint et al., 2013)](https://doi.org/10.1016/B978-0-444-59559-1.00023-2). Severe droughts can affect large populations, leading to a long-term threat to people’s livelihoods and result in tremendous economic loss [(Enenkel et al., 2016)](https://doi.org/10.3390/rs8040340)."
   ]
  },
  {
   "cell_type": "markdown",
   "id": "b20be23e-140e-4755-9324-eb1926bb72a6",
   "metadata": {},
   "source": [
    "The **Enhanced Drought Index** is a combination of the following components: Vegetation, Precipitation, Temperature and Soil moisture.\n",
    "\n",
    "This notebook will focus on the **Soil moisture** component, which considers soil moisture deficits and deficit persistence. The index based on soil moisture is named as the Soil Moisture Drought Index (SMDI). The Soil Moisture Drought Index (SMDI) is used to assess drought conditions based on soil moisture levels.SMDI is an essential for monitoring drought conditions, especially in areas where soil moisture directly affects agriculture and natural resources. Droughts can have serious impacts on agriculture, water resources, and ecosystems, and soil moisture is a key factor in understanding drought severity, as it influences crop growth and the availability of water in the soil."
   ]
  },
  {
   "cell_type": "markdown",
   "id": "4630c991-7329-4ef8-8d34-e4dd5a2ef280",
   "metadata": {},
   "source": [
    "\n",
    "The notebook outlines:\n",
    "\n",
    "***\n",
    "1. Loading Python and DE Africa Packages\n",
    "2. Setting dask cluster\n",
    "3. Loading area on interest\n",
    "5. Load the WAPOR soil moisture dataset\n",
    "6. Resampling of data to dekadal (10-day) intervals\n",
    "7. Calculate the Soil Moisture Drought Index\n",
    "8. Export the result as zip"
   ]
  },
  {
   "cell_type": "markdown",
   "id": "ec6d4e07-18c3-4830-b669-77e01b021a53",
   "metadata": {},
   "source": [
    "## Getting started\n",
    "\n",
    "To run this analysis, run all the cells in the notebook, starting with the \"Load packages\" cell. "
   ]
  },
  {
   "cell_type": "markdown",
   "id": "3251008f-3b84-41eb-876d-d68059b0c6de",
   "metadata": {},
   "source": [
    "### Load packages"
   ]
  },
  {
   "cell_type": "code",
   "execution_count": 1,
   "id": "73f5d02f-aee0-452f-81b3-ff22d921457f",
   "metadata": {},
   "outputs": [],
   "source": [
    "import json\n",
    "import os\n",
    "\n",
    "import dask\n",
    "import geopandas as gpd\n",
    "import numpy as np\n",
    "import pandas as pd\n",
    "import rioxarray\n",
    "import toolz\n",
    "import xarray as xr\n",
    "import datacube\n",
    "from deafrica_tools.bandindices import calculate_indices\n",
    "from deafrica_tools.dask import create_local_dask_cluster\n",
    "from deafrica_tools.datahandling import load_ard\n",
    "from deafrica_tools.load_wapor import get_all_WaPORv3_mapsets, get_WaPORv3_info, load_wapor_ds\n",
    "from dekad import group_by_dekad, bin_by_interest_period, get_dekad_no_in_year, get_no_data_mask, max_consecutive_ones\n",
    "from odc.geo.geobox import GeoBox\n",
    "from odc.geo.geom import Geometry\n",
    "from pyarrow import Table\n",
    "from pyarrow.parquet import write_table\n",
    "from wapordl import wapor_map"
   ]
  },
  {
   "cell_type": "markdown",
   "id": "8143eda0-f831-4f4c-bb2b-675587cfb09c",
   "metadata": {},
   "source": [
    "### Set up a Dask cluster\n",
    "\n",
    "Dask can be used to better manage memory use and conduct the analysis in parallel. \n",
    "For an introduction to using Dask with Digital Earth Africa, see the [Dask notebook](../../Beginners_guide/08_Parallel_processing_with_dask.ipynb).\n",
    "\n",
    ">**Note**: We recommend opening the Dask processing window to view the different computations that are being executed; to do this, see the *Dask dashboard in DE Africa* section of the [Dask notebook](../../Beginners_guide/08_Parallel_processing_with_dask.ipynb).\n",
    "\n",
    "To use Dask, set up the local computing cluster using the cell below."
   ]
  },
  {
   "cell_type": "code",
   "execution_count": 2,
   "id": "e7bf7690-e8b4-468a-a9e6-9632953dd918",
   "metadata": {},
   "outputs": [
    {
     "data": {
      "text/html": [
       "<div>\n",
       "    <div style=\"width: 24px; height: 24px; background-color: #e1e1e1; border: 3px solid #9D9D9D; border-radius: 5px; position: absolute;\"> </div>\n",
       "    <div style=\"margin-left: 48px;\">\n",
       "        <h3 style=\"margin-bottom: 0px;\">Client</h3>\n",
       "        <p style=\"color: #9D9D9D; margin-bottom: 0px;\">Client-54dd2af6-ab53-11ef-81d9-c296d172fcde</p>\n",
       "        <table style=\"width: 100%; text-align: left;\">\n",
       "\n",
       "        <tr>\n",
       "        \n",
       "            <td style=\"text-align: left;\"><strong>Connection method:</strong> Cluster object</td>\n",
       "            <td style=\"text-align: left;\"><strong>Cluster type:</strong> distributed.LocalCluster</td>\n",
       "        \n",
       "        </tr>\n",
       "\n",
       "        \n",
       "            <tr>\n",
       "                <td style=\"text-align: left;\">\n",
       "                    <strong>Dashboard: </strong> <a href=\"/user/nanaboamah89@gmail.com/proxy/8787/status\" target=\"_blank\">/user/nanaboamah89@gmail.com/proxy/8787/status</a>\n",
       "                </td>\n",
       "                <td style=\"text-align: left;\"></td>\n",
       "            </tr>\n",
       "        \n",
       "\n",
       "        </table>\n",
       "\n",
       "        \n",
       "            <button style=\"margin-bottom: 12px;\" data-commandlinker-command=\"dask:populate-and-launch-layout\" data-commandlinker-args='{\"url\": \"/user/nanaboamah89@gmail.com/proxy/8787/status\" }'>\n",
       "                Launch dashboard in JupyterLab\n",
       "            </button>\n",
       "        \n",
       "\n",
       "        \n",
       "            <details>\n",
       "            <summary style=\"margin-bottom: 20px;\"><h3 style=\"display: inline;\">Cluster Info</h3></summary>\n",
       "            <div class=\"jp-RenderedHTMLCommon jp-RenderedHTML jp-mod-trusted jp-OutputArea-output\">\n",
       "    <div style=\"width: 24px; height: 24px; background-color: #e1e1e1; border: 3px solid #9D9D9D; border-radius: 5px; position: absolute;\">\n",
       "    </div>\n",
       "    <div style=\"margin-left: 48px;\">\n",
       "        <h3 style=\"margin-bottom: 0px; margin-top: 0px;\">LocalCluster</h3>\n",
       "        <p style=\"color: #9D9D9D; margin-bottom: 0px;\">ad653d18</p>\n",
       "        <table style=\"width: 100%; text-align: left;\">\n",
       "            <tr>\n",
       "                <td style=\"text-align: left;\">\n",
       "                    <strong>Dashboard:</strong> <a href=\"/user/nanaboamah89@gmail.com/proxy/8787/status\" target=\"_blank\">/user/nanaboamah89@gmail.com/proxy/8787/status</a>\n",
       "                </td>\n",
       "                <td style=\"text-align: left;\">\n",
       "                    <strong>Workers:</strong> 1\n",
       "                </td>\n",
       "            </tr>\n",
       "            <tr>\n",
       "                <td style=\"text-align: left;\">\n",
       "                    <strong>Total threads:</strong> 4\n",
       "                </td>\n",
       "                <td style=\"text-align: left;\">\n",
       "                    <strong>Total memory:</strong> 26.21 GiB\n",
       "                </td>\n",
       "            </tr>\n",
       "            \n",
       "            <tr>\n",
       "    <td style=\"text-align: left;\"><strong>Status:</strong> running</td>\n",
       "    <td style=\"text-align: left;\"><strong>Using processes:</strong> True</td>\n",
       "</tr>\n",
       "\n",
       "            \n",
       "        </table>\n",
       "\n",
       "        <details>\n",
       "            <summary style=\"margin-bottom: 20px;\">\n",
       "                <h3 style=\"display: inline;\">Scheduler Info</h3>\n",
       "            </summary>\n",
       "\n",
       "            <div style=\"\">\n",
       "    <div>\n",
       "        <div style=\"width: 24px; height: 24px; background-color: #FFF7E5; border: 3px solid #FF6132; border-radius: 5px; position: absolute;\"> </div>\n",
       "        <div style=\"margin-left: 48px;\">\n",
       "            <h3 style=\"margin-bottom: 0px;\">Scheduler</h3>\n",
       "            <p style=\"color: #9D9D9D; margin-bottom: 0px;\">Scheduler-ca850a4a-815a-4a7e-94ff-c6c68246610c</p>\n",
       "            <table style=\"width: 100%; text-align: left;\">\n",
       "                <tr>\n",
       "                    <td style=\"text-align: left;\">\n",
       "                        <strong>Comm:</strong> tcp://127.0.0.1:44389\n",
       "                    </td>\n",
       "                    <td style=\"text-align: left;\">\n",
       "                        <strong>Workers:</strong> 1\n",
       "                    </td>\n",
       "                </tr>\n",
       "                <tr>\n",
       "                    <td style=\"text-align: left;\">\n",
       "                        <strong>Dashboard:</strong> <a href=\"/user/nanaboamah89@gmail.com/proxy/8787/status\" target=\"_blank\">/user/nanaboamah89@gmail.com/proxy/8787/status</a>\n",
       "                    </td>\n",
       "                    <td style=\"text-align: left;\">\n",
       "                        <strong>Total threads:</strong> 4\n",
       "                    </td>\n",
       "                </tr>\n",
       "                <tr>\n",
       "                    <td style=\"text-align: left;\">\n",
       "                        <strong>Started:</strong> Just now\n",
       "                    </td>\n",
       "                    <td style=\"text-align: left;\">\n",
       "                        <strong>Total memory:</strong> 26.21 GiB\n",
       "                    </td>\n",
       "                </tr>\n",
       "            </table>\n",
       "        </div>\n",
       "    </div>\n",
       "\n",
       "    <details style=\"margin-left: 48px;\">\n",
       "        <summary style=\"margin-bottom: 20px;\">\n",
       "            <h3 style=\"display: inline;\">Workers</h3>\n",
       "        </summary>\n",
       "\n",
       "        \n",
       "        <div style=\"margin-bottom: 20px;\">\n",
       "            <div style=\"width: 24px; height: 24px; background-color: #DBF5FF; border: 3px solid #4CC9FF; border-radius: 5px; position: absolute;\"> </div>\n",
       "            <div style=\"margin-left: 48px;\">\n",
       "            <details>\n",
       "                <summary>\n",
       "                    <h4 style=\"margin-bottom: 0px; display: inline;\">Worker: 0</h4>\n",
       "                </summary>\n",
       "                <table style=\"width: 100%; text-align: left;\">\n",
       "                    <tr>\n",
       "                        <td style=\"text-align: left;\">\n",
       "                            <strong>Comm: </strong> tcp://127.0.0.1:43459\n",
       "                        </td>\n",
       "                        <td style=\"text-align: left;\">\n",
       "                            <strong>Total threads: </strong> 4\n",
       "                        </td>\n",
       "                    </tr>\n",
       "                    <tr>\n",
       "                        <td style=\"text-align: left;\">\n",
       "                            <strong>Dashboard: </strong> <a href=\"/user/nanaboamah89@gmail.com/proxy/45407/status\" target=\"_blank\">/user/nanaboamah89@gmail.com/proxy/45407/status</a>\n",
       "                        </td>\n",
       "                        <td style=\"text-align: left;\">\n",
       "                            <strong>Memory: </strong> 26.21 GiB\n",
       "                        </td>\n",
       "                    </tr>\n",
       "                    <tr>\n",
       "                        <td style=\"text-align: left;\">\n",
       "                            <strong>Nanny: </strong> tcp://127.0.0.1:43433\n",
       "                        </td>\n",
       "                        <td style=\"text-align: left;\"></td>\n",
       "                    </tr>\n",
       "                    <tr>\n",
       "                        <td colspan=\"2\" style=\"text-align: left;\">\n",
       "                            <strong>Local directory: </strong> /tmp/dask-scratch-space/worker-u7l2b0gg\n",
       "                        </td>\n",
       "                    </tr>\n",
       "\n",
       "                    \n",
       "\n",
       "                    \n",
       "\n",
       "                </table>\n",
       "            </details>\n",
       "            </div>\n",
       "        </div>\n",
       "        \n",
       "\n",
       "    </details>\n",
       "</div>\n",
       "\n",
       "        </details>\n",
       "    </div>\n",
       "</div>\n",
       "            </details>\n",
       "        \n",
       "\n",
       "    </div>\n",
       "</div>"
      ],
      "text/plain": [
       "<Client: 'tcp://127.0.0.1:44389' processes=1 threads=4, memory=26.21 GiB>"
      ]
     },
     "metadata": {},
     "output_type": "display_data"
    }
   ],
   "source": [
    "create_local_dask_cluster()"
   ]
  },
  {
   "cell_type": "markdown",
   "id": "50542e91-46c5-4de9-823a-88c505db1a40",
   "metadata": {},
   "source": [
    "### Analysis parameters\n",
    "\n",
    "The following cell sets important parameters for the analysis:\n",
    "\n",
    "* `country`: The country to run the analysis over.\n",
    "* `resolution`: The x and y cell resolution of the satellite data in metres (spatial resolution). We'll use 5,000 m, which is approximately equal to the default CHIRPS resolution.\n",
    "* `output_crs` : The coordinate reference system that the loaded data is to be reprojected to.\n",
    "* `dask_chunks`:  the size of the dask chunks, dask breaks data into manageable chunks that can be easily stored in memory, e.g. `dict(x=1000,y=1000)`\n",
    "* `time_range` : Time range to load data for.\n",
    "* `ip` : The interest period to use to calculate the drought indices e.g. (3, 4, 5 dekads). It defines to what extent past observations are considered. Longer IPs detect more severe drought events. For example, if the IP=3 dekads, then the drought index (say PDI) of 0.35 for dekad 2 of 2006 implies actual drought for dekad 36 of 2005, dekad 1 of 2006 and dekad 2 of 2006.\n",
    "* `output_dir` :  The directory in which to store results from the analysis.\n",
    "\n",
    "**If running the notebook for the first time**, keep the default settings below.\n",
    "This will demonstrate how the analysis works and provide meaningful results."
   ]
  },
  {
   "cell_type": "code",
   "execution_count": 3,
   "id": "cc3c12d5-0a20-48db-8044-070ee03b3ddb",
   "metadata": {},
   "outputs": [],
   "source": [
    "resolution = (-5000, 5000)\n",
    "output_crs = \"EPSG:6933\"\n",
    "dask_chunks = dict(x=3200,y=3200)\n",
    "time_range = (\"2014-01-01\", \"2015-12-31\")\n",
    "output_dir = \"results\"\n",
    "# Corresponding to the six-months Standardized Precipitation Evapotranspiration Index\n",
    "ip = 18\n",
    "\n",
    "# Create the outpur directory if it does not exist.\n",
    "os.makedirs(output_dir, exist_ok=True)"
   ]
  },
  {
   "cell_type": "code",
   "execution_count": 4,
   "id": "cf3acd61-bdb2-40cb-a793-4b930509a443",
   "metadata": {},
   "outputs": [
    {
     "name": "stdout",
     "output_type": "stream",
     "text": [
      "['Algeria' 'Angola' 'Benin' 'Botswana' 'Burkina Faso' 'Burundi' 'Cameroon'\n",
      " 'Cape Verde' 'Central African Republic' 'Chad' 'Comoros'\n",
      " 'Congo-Brazzaville' 'Cote d`Ivoire' 'Democratic Republic of Congo'\n",
      " 'Djibouti' 'Egypt' 'Equatorial Guinea' 'Eritrea' 'Ethiopia' 'Gabon'\n",
      " 'Gambia' 'Ghana' 'Guinea' 'Guinea-Bissau' 'Kenya' 'Lesotho' 'Liberia'\n",
      " 'Libya' 'Madagascar' 'Malawi' 'Mali' 'Mauritania' 'Morocco' 'Mozambique'\n",
      " 'Namibia' 'Niger' 'Nigeria' 'Rwanda' 'Sao Tome and Principe' 'Senegal'\n",
      " 'Sierra Leone' 'Somalia' 'South Africa' 'Sudan' 'Swaziland' 'Tanzania'\n",
      " 'Togo' 'Tunisia' 'Uganda' 'Western Sahara' 'Zambia' 'Zimbabwe']\n"
     ]
    }
   ],
   "source": [
    "#loading the countries shapefiles\n",
    "african_countries_url = \"https://raw.githubusercontent.com/digitalearthafrica/deafrica-sandbox-notebooks/main/Supplementary_data/Rainfall_anomaly_CHIRPS/african_countries.geojson\"\n",
    "african_countries = gpd.read_file(african_countries_url)\n",
    "print(np.unique(african_countries.COUNTRY))"
   ]
  },
  {
   "cell_type": "code",
   "execution_count": 5,
   "id": "2498fe63-719b-4d52-8283-7ebfd433f64b",
   "metadata": {},
   "outputs": [],
   "source": [
    "# Select the country of interest by providing the name below\n",
    "country = \"Ethiopia\"\n",
    "idx = african_countries[african_countries['COUNTRY'] == country].index[0]\n",
    "geopolygon = Geometry(geom=african_countries.iloc[idx].geometry, crs=african_countries.crs)\n",
    "\n",
    "# Create the output path\n",
    "output_path = os.path.join(output_dir, f\"SMDI_{country}.parquet\")"
   ]
  },
  {
   "cell_type": "markdown",
   "id": "316d2648-b4b8-4338-acb2-8bf368cb220b",
   "metadata": {},
   "source": [
    "### Load WaPOR soil moisture data\n",
    "Load the WaPOR soil moisture data using the analysis parameters set in the previous section."
   ]
  },
  {
   "cell_type": "code",
   "execution_count": 6,
   "id": "161b8c5f-5c49-46c1-b13a-f8df74b5b4be",
   "metadata": {},
   "outputs": [
    {
     "data": {
      "text/html": [
       "<div>\n",
       "<style scoped>\n",
       "    .dataframe tbody tr th:only-of-type {\n",
       "        vertical-align: middle;\n",
       "    }\n",
       "\n",
       "    .dataframe tbody tr th {\n",
       "        vertical-align: top;\n",
       "    }\n",
       "\n",
       "    .dataframe thead th {\n",
       "        text-align: right;\n",
       "    }\n",
       "</style>\n",
       "<table border=\"1\" class=\"dataframe\">\n",
       "  <thead>\n",
       "    <tr style=\"text-align: right;\">\n",
       "      <th></th>\n",
       "      <th>Mapset Code</th>\n",
       "      <th>Mapset Description</th>\n",
       "    </tr>\n",
       "  </thead>\n",
       "  <tbody>\n",
       "    <tr>\n",
       "      <th>0</th>\n",
       "      <td>L1-AETI-A</td>\n",
       "      <td>Actual EvapoTranspiration and Interception (Gl...</td>\n",
       "    </tr>\n",
       "    <tr>\n",
       "      <th>1</th>\n",
       "      <td>L1-AETI-D</td>\n",
       "      <td>Actual EvapoTranspiration and Interception (Gl...</td>\n",
       "    </tr>\n",
       "    <tr>\n",
       "      <th>2</th>\n",
       "      <td>L1-AETI-M</td>\n",
       "      <td>Actual EvapoTranspiration and Interception (Gl...</td>\n",
       "    </tr>\n",
       "    <tr>\n",
       "      <th>3</th>\n",
       "      <td>L1-E-A</td>\n",
       "      <td>Evaporation (Global - Annual - 300m)</td>\n",
       "    </tr>\n",
       "    <tr>\n",
       "      <th>4</th>\n",
       "      <td>L1-E-D</td>\n",
       "      <td>Evaporation (Global - Dekadal - 300m)</td>\n",
       "    </tr>\n",
       "    <tr>\n",
       "      <th>5</th>\n",
       "      <td>L1-GBWP-A</td>\n",
       "      <td>Gross biomass water productivity (Annual - 300m)</td>\n",
       "    </tr>\n",
       "    <tr>\n",
       "      <th>6</th>\n",
       "      <td>L1-I-A</td>\n",
       "      <td>Interception (Global - Annual - 300m)</td>\n",
       "    </tr>\n",
       "    <tr>\n",
       "      <th>7</th>\n",
       "      <td>L1-I-D</td>\n",
       "      <td>Interception (Global - Dekadal - 300m)</td>\n",
       "    </tr>\n",
       "    <tr>\n",
       "      <th>8</th>\n",
       "      <td>L1-NBWP-A</td>\n",
       "      <td>Net biomass water productivity (Annual - 300m)</td>\n",
       "    </tr>\n",
       "    <tr>\n",
       "      <th>9</th>\n",
       "      <td>L1-NPP-D</td>\n",
       "      <td>Net Primary Production (Global - Dekadal - 300m)</td>\n",
       "    </tr>\n",
       "    <tr>\n",
       "      <th>10</th>\n",
       "      <td>L1-NPP-M</td>\n",
       "      <td>Net Primary Production (Global - Monthly - 300m)</td>\n",
       "    </tr>\n",
       "    <tr>\n",
       "      <th>11</th>\n",
       "      <td>L1-PCP-A</td>\n",
       "      <td>Precipitation (Global - Annual - Approximately...</td>\n",
       "    </tr>\n",
       "    <tr>\n",
       "      <th>12</th>\n",
       "      <td>L1-PCP-D</td>\n",
       "      <td>Precipitation (Global - Dekadal - Approximatel...</td>\n",
       "    </tr>\n",
       "    <tr>\n",
       "      <th>13</th>\n",
       "      <td>L1-PCP-E</td>\n",
       "      <td>Precipitation (Global - Daily - Approximately ...</td>\n",
       "    </tr>\n",
       "    <tr>\n",
       "      <th>14</th>\n",
       "      <td>L1-PCP-M</td>\n",
       "      <td>Precipitation (Global - Monthly - Approximatel...</td>\n",
       "    </tr>\n",
       "    <tr>\n",
       "      <th>15</th>\n",
       "      <td>L1-QUAL-LST-D</td>\n",
       "      <td>Quality land surface temperature (Global - Dek...</td>\n",
       "    </tr>\n",
       "    <tr>\n",
       "      <th>16</th>\n",
       "      <td>L1-QUAL-NDVI-D</td>\n",
       "      <td>Quality of Normalized Difference Vegetation In...</td>\n",
       "    </tr>\n",
       "    <tr>\n",
       "      <th>17</th>\n",
       "      <td>L1-RET-A</td>\n",
       "      <td>Reference Evapotranspiration (Global - Annual ...</td>\n",
       "    </tr>\n",
       "    <tr>\n",
       "      <th>18</th>\n",
       "      <td>L1-RET-D</td>\n",
       "      <td>Reference Evapotranspiration (Global - Dekadal...</td>\n",
       "    </tr>\n",
       "    <tr>\n",
       "      <th>19</th>\n",
       "      <td>L1-RET-E</td>\n",
       "      <td>Reference Evapotranspiration (Global - Daily -...</td>\n",
       "    </tr>\n",
       "    <tr>\n",
       "      <th>20</th>\n",
       "      <td>L1-RET-M</td>\n",
       "      <td>Reference Evapotranspiration (Global - Monthly...</td>\n",
       "    </tr>\n",
       "    <tr>\n",
       "      <th>21</th>\n",
       "      <td>L1-RSM-D</td>\n",
       "      <td>Relative Soil Moisture (Global - Dekadal - 300m)</td>\n",
       "    </tr>\n",
       "    <tr>\n",
       "      <th>22</th>\n",
       "      <td>L1-T-A</td>\n",
       "      <td>Transpiration (Global - Annual - 300m)</td>\n",
       "    </tr>\n",
       "    <tr>\n",
       "      <th>23</th>\n",
       "      <td>L1-T-D</td>\n",
       "      <td>Transpiration (Global - Dekadal - 300m)</td>\n",
       "    </tr>\n",
       "    <tr>\n",
       "      <th>24</th>\n",
       "      <td>L1-TBP-A</td>\n",
       "      <td>Total Biomass Production (Global - Annual - 300m)</td>\n",
       "    </tr>\n",
       "    <tr>\n",
       "      <th>25</th>\n",
       "      <td>L2-AETI-A</td>\n",
       "      <td>Actual EvapoTranspiration and Interception (Na...</td>\n",
       "    </tr>\n",
       "    <tr>\n",
       "      <th>26</th>\n",
       "      <td>L2-AETI-D</td>\n",
       "      <td>Actual EvapoTranspiration and Interception (Na...</td>\n",
       "    </tr>\n",
       "    <tr>\n",
       "      <th>27</th>\n",
       "      <td>L2-AETI-M</td>\n",
       "      <td>Actual EvapoTranspiration and Interception (Na...</td>\n",
       "    </tr>\n",
       "    <tr>\n",
       "      <th>28</th>\n",
       "      <td>L2-E-A</td>\n",
       "      <td>Evaporation (National - Annual - 100m)</td>\n",
       "    </tr>\n",
       "    <tr>\n",
       "      <th>29</th>\n",
       "      <td>L2-E-D</td>\n",
       "      <td>Evaporation (National - Dekadal - 100m)</td>\n",
       "    </tr>\n",
       "    <tr>\n",
       "      <th>30</th>\n",
       "      <td>L2-GBWP-A</td>\n",
       "      <td>Gross biomass water productivity (Annual - 100m)</td>\n",
       "    </tr>\n",
       "    <tr>\n",
       "      <th>31</th>\n",
       "      <td>L2-I-A</td>\n",
       "      <td>Interception (National - Annual - 100m)</td>\n",
       "    </tr>\n",
       "    <tr>\n",
       "      <th>32</th>\n",
       "      <td>L2-I-D</td>\n",
       "      <td>Interception (National - Dekadal - 100m)</td>\n",
       "    </tr>\n",
       "    <tr>\n",
       "      <th>33</th>\n",
       "      <td>L2-NBWP-A</td>\n",
       "      <td>Net biomass water productivity (Annual - 100m)</td>\n",
       "    </tr>\n",
       "    <tr>\n",
       "      <th>34</th>\n",
       "      <td>L2-NPP-D</td>\n",
       "      <td>Net Primary Production (National - Dekadal - 1...</td>\n",
       "    </tr>\n",
       "    <tr>\n",
       "      <th>35</th>\n",
       "      <td>L2-NPP-M</td>\n",
       "      <td>Net Primary Production (National - Monthly - 1...</td>\n",
       "    </tr>\n",
       "    <tr>\n",
       "      <th>36</th>\n",
       "      <td>L2-QUAL-NDVI-D</td>\n",
       "      <td>Quality of normalized difference vegetation in...</td>\n",
       "    </tr>\n",
       "    <tr>\n",
       "      <th>37</th>\n",
       "      <td>L2-RSM-D</td>\n",
       "      <td>Relative Soil Moisture (National - Dekadal - 1...</td>\n",
       "    </tr>\n",
       "    <tr>\n",
       "      <th>38</th>\n",
       "      <td>L2-T-A</td>\n",
       "      <td>Transpiration (National - Annual - 100m)</td>\n",
       "    </tr>\n",
       "    <tr>\n",
       "      <th>39</th>\n",
       "      <td>L2-T-D</td>\n",
       "      <td>Transpiration (National - Dekadal - 100m)</td>\n",
       "    </tr>\n",
       "    <tr>\n",
       "      <th>40</th>\n",
       "      <td>L2-TBP-A</td>\n",
       "      <td>Total Biomass Production (Global - Annual - 100m)</td>\n",
       "    </tr>\n",
       "  </tbody>\n",
       "</table>\n",
       "</div>"
      ],
      "text/plain": [
       "       Mapset Code                                 Mapset Description\n",
       "0        L1-AETI-A  Actual EvapoTranspiration and Interception (Gl...\n",
       "1        L1-AETI-D  Actual EvapoTranspiration and Interception (Gl...\n",
       "2        L1-AETI-M  Actual EvapoTranspiration and Interception (Gl...\n",
       "3           L1-E-A               Evaporation (Global - Annual - 300m)\n",
       "4           L1-E-D              Evaporation (Global - Dekadal - 300m)\n",
       "5        L1-GBWP-A   Gross biomass water productivity (Annual - 300m)\n",
       "6           L1-I-A              Interception (Global - Annual - 300m)\n",
       "7           L1-I-D             Interception (Global - Dekadal - 300m)\n",
       "8        L1-NBWP-A     Net biomass water productivity (Annual - 300m)\n",
       "9         L1-NPP-D   Net Primary Production (Global - Dekadal - 300m)\n",
       "10        L1-NPP-M   Net Primary Production (Global - Monthly - 300m)\n",
       "11        L1-PCP-A  Precipitation (Global - Annual - Approximately...\n",
       "12        L1-PCP-D  Precipitation (Global - Dekadal - Approximatel...\n",
       "13        L1-PCP-E  Precipitation (Global - Daily - Approximately ...\n",
       "14        L1-PCP-M  Precipitation (Global - Monthly - Approximatel...\n",
       "15   L1-QUAL-LST-D  Quality land surface temperature (Global - Dek...\n",
       "16  L1-QUAL-NDVI-D  Quality of Normalized Difference Vegetation In...\n",
       "17        L1-RET-A  Reference Evapotranspiration (Global - Annual ...\n",
       "18        L1-RET-D  Reference Evapotranspiration (Global - Dekadal...\n",
       "19        L1-RET-E  Reference Evapotranspiration (Global - Daily -...\n",
       "20        L1-RET-M  Reference Evapotranspiration (Global - Monthly...\n",
       "21        L1-RSM-D   Relative Soil Moisture (Global - Dekadal - 300m)\n",
       "22          L1-T-A             Transpiration (Global - Annual - 300m)\n",
       "23          L1-T-D            Transpiration (Global - Dekadal - 300m)\n",
       "24        L1-TBP-A  Total Biomass Production (Global - Annual - 300m)\n",
       "25       L2-AETI-A  Actual EvapoTranspiration and Interception (Na...\n",
       "26       L2-AETI-D  Actual EvapoTranspiration and Interception (Na...\n",
       "27       L2-AETI-M  Actual EvapoTranspiration and Interception (Na...\n",
       "28          L2-E-A             Evaporation (National - Annual - 100m)\n",
       "29          L2-E-D            Evaporation (National - Dekadal - 100m)\n",
       "30       L2-GBWP-A   Gross biomass water productivity (Annual - 100m)\n",
       "31          L2-I-A            Interception (National - Annual - 100m)\n",
       "32          L2-I-D           Interception (National - Dekadal - 100m)\n",
       "33       L2-NBWP-A     Net biomass water productivity (Annual - 100m)\n",
       "34        L2-NPP-D  Net Primary Production (National - Dekadal - 1...\n",
       "35        L2-NPP-M  Net Primary Production (National - Monthly - 1...\n",
       "36  L2-QUAL-NDVI-D  Quality of normalized difference vegetation in...\n",
       "37        L2-RSM-D  Relative Soil Moisture (National - Dekadal - 1...\n",
       "38          L2-T-A           Transpiration (National - Annual - 100m)\n",
       "39          L2-T-D          Transpiration (National - Dekadal - 100m)\n",
       "40        L2-TBP-A  Total Biomass Production (Global - Annual - 100m)"
      ]
     },
     "execution_count": 6,
     "metadata": {},
     "output_type": "execute_result"
    }
   ],
   "source": [
    "# List all available WAPOR datasets.\n",
    "get_all_WaPORv3_mapsets()"
   ]
  },
  {
   "cell_type": "code",
   "execution_count": 7,
   "id": "aceeaee9-cff7-4c40-9b1c-1f138937bad5",
   "metadata": {},
   "outputs": [],
   "source": [
    "# Select the Soil Moisture variable\n",
    "variable = \"L2-RSM-D\""
   ]
  },
  {
   "cell_type": "code",
   "execution_count": 8,
   "id": "d4743caf-7731-4cad-bfa1-cd4c88e19907",
   "metadata": {},
   "outputs": [],
   "source": [
    "# Get the bounding box of the area of interest.\n",
    "region = [*geopolygon.boundingbox]"
   ]
  },
  {
   "cell_type": "code",
   "execution_count": 9,
   "id": "1f8b4031-d663-47e6-8018-cafeb2ed640a",
   "metadata": {},
   "outputs": [],
   "source": [
    "# Folder to store the downloaded wapor data in.\n",
    "download_folder = os.path.join(\"WaPOR_v3\", variable)\n",
    "os.makedirs(download_folder, exist_ok=True)"
   ]
  },
  {
   "cell_type": "code",
   "execution_count": 10,
   "id": "8f66060a-54e9-496c-83a8-4465f93b96cf",
   "metadata": {},
   "outputs": [
    {
     "ename": "ValueError",
     "evalue": "No files found for selected region, variable and period.",
     "output_type": "error",
     "traceback": [
      "\u001b[0;31m---------------------------------------------------------------------------\u001b[0m",
      "\u001b[0;31mValueError\u001b[0m                                Traceback (most recent call last)",
      "File \u001b[0;32m<timed exec>:4\u001b[0m\n",
      "File \u001b[0;32m/opt/venv/lib/python3.10/site-packages/wapordl/main.py:1154\u001b[0m, in \u001b[0;36mwapor_map\u001b[0;34m(region, variable, period, folder, unit_conversion, overview, extension, separate_unscale, filename)\u001b[0m\n\u001b[1;32m   1151\u001b[0m     \u001b[38;5;28;01mraise\u001b[39;00m \u001b[38;5;167;01mValueError\u001b[39;00m(\u001b[38;5;124mf\u001b[39m\u001b[38;5;124m\"\u001b[39m\u001b[38;5;124mPlease select one of \u001b[39m\u001b[38;5;132;01m{\u001b[39;00mvalid_units\u001b[38;5;132;01m}\u001b[39;00m\u001b[38;5;124m instead of \u001b[39m\u001b[38;5;132;01m{\u001b[39;00munit_conversion\u001b[38;5;132;01m}\u001b[39;00m\u001b[38;5;124m.\u001b[39m\u001b[38;5;124m\"\u001b[39m) \u001b[38;5;66;03m# NOTE: TESTED\u001b[39;00m\n\u001b[1;32m   1153\u001b[0m \u001b[38;5;66;03m## Call wapor_dl to create a GeoTIFF.\u001b[39;00m\n\u001b[0;32m-> 1154\u001b[0m fp \u001b[38;5;241m=\u001b[39m \u001b[43mwapor_dl\u001b[49m\u001b[43m(\u001b[49m\u001b[43mregion\u001b[49m\u001b[43m,\u001b[49m\u001b[43m \u001b[49m\u001b[43mvariable\u001b[49m\u001b[43m,\u001b[49m\n\u001b[1;32m   1155\u001b[0m \u001b[43m              \u001b[49m\u001b[43mfolder\u001b[49m\u001b[43m \u001b[49m\u001b[38;5;241;43m=\u001b[39;49m\u001b[43m \u001b[49m\u001b[43mfolder\u001b[49m\u001b[43m,\u001b[49m\u001b[43m \u001b[49m\n\u001b[1;32m   1156\u001b[0m \u001b[43m              \u001b[49m\u001b[43mperiod\u001b[49m\u001b[43m \u001b[49m\u001b[38;5;241;43m=\u001b[39;49m\u001b[43m \u001b[49m\u001b[43mperiod\u001b[49m\u001b[43m,\u001b[49m\n\u001b[1;32m   1157\u001b[0m \u001b[43m              \u001b[49m\u001b[43moverview\u001b[49m\u001b[43m \u001b[49m\u001b[38;5;241;43m=\u001b[39;49m\u001b[43m \u001b[49m\u001b[43moverview\u001b[49m\u001b[43m,\u001b[49m\n\u001b[1;32m   1158\u001b[0m \u001b[43m              \u001b[49m\u001b[43munit_conversion\u001b[49m\u001b[43m \u001b[49m\u001b[38;5;241;43m=\u001b[39;49m\u001b[43m \u001b[49m\u001b[43munit_conversion\u001b[49m\u001b[43m,\u001b[49m\n\u001b[1;32m   1159\u001b[0m \u001b[43m              \u001b[49m\u001b[43mreq_stats\u001b[49m\u001b[43m \u001b[49m\u001b[38;5;241;43m=\u001b[39;49m\u001b[43m \u001b[49m\u001b[38;5;28;43;01mNone\u001b[39;49;00m\u001b[43m,\u001b[49m\n\u001b[1;32m   1160\u001b[0m \u001b[43m              \u001b[49m\u001b[43mfilename\u001b[49m\u001b[43m \u001b[49m\u001b[38;5;241;43m=\u001b[39;49m\u001b[43m \u001b[49m\u001b[43mfilename\u001b[49m\u001b[43m,\u001b[49m\n\u001b[1;32m   1161\u001b[0m \u001b[43m              \u001b[49m\u001b[43m)\u001b[49m\n\u001b[1;32m   1163\u001b[0m \u001b[38;5;28;01mif\u001b[39;00m extension \u001b[38;5;241m==\u001b[39m \u001b[38;5;124m\"\u001b[39m\u001b[38;5;124m.tif\u001b[39m\u001b[38;5;124m\"\u001b[39m \u001b[38;5;129;01mand\u001b[39;00m separate_unscale:\n\u001b[1;32m   1164\u001b[0m     logging\u001b[38;5;241m.\u001b[39minfo(\u001b[38;5;124m\"\u001b[39m\u001b[38;5;124mSplitting single GeoTIFF into multiple unscaled files.\u001b[39m\u001b[38;5;124m\"\u001b[39m)\n",
      "File \u001b[0;32m/opt/venv/lib/python3.10/site-packages/wapordl/main.py:1022\u001b[0m, in \u001b[0;36mwapor_dl\u001b[0;34m(region, variable, period, overview, unit_conversion, req_stats, folder, filename)\u001b[0m\n\u001b[1;32m   1019\u001b[0m     urls \u001b[38;5;241m=\u001b[39m generate_urls_v3(variable, l3_region \u001b[38;5;241m=\u001b[39m l3_region, period \u001b[38;5;241m=\u001b[39m period)\n\u001b[1;32m   1021\u001b[0m \u001b[38;5;28;01mif\u001b[39;00m \u001b[38;5;28mlen\u001b[39m(urls) \u001b[38;5;241m==\u001b[39m \u001b[38;5;241m0\u001b[39m:\n\u001b[0;32m-> 1022\u001b[0m     \u001b[38;5;28;01mraise\u001b[39;00m \u001b[38;5;167;01mValueError\u001b[39;00m(\u001b[38;5;124m\"\u001b[39m\u001b[38;5;124mNo files found for selected region, variable and period.\u001b[39m\u001b[38;5;124m\"\u001b[39m)  \u001b[38;5;66;03m# NOTE: TESTED\u001b[39;00m\n\u001b[1;32m   1024\u001b[0m \u001b[38;5;66;03m## Determine date for each url.\u001b[39;00m\n\u001b[1;32m   1025\u001b[0m md \u001b[38;5;241m=\u001b[39m collect_metadata(variable)\n",
      "\u001b[0;31mValueError\u001b[0m: No files found for selected region, variable and period."
     ]
    }
   ],
   "source": [
    "%%time\n",
    "# Download the required netcdf files to disk.\n",
    "# Takes about 3hrs 45min on the 100GB sandbox.\n",
    "# The nc_fp object is the file path to the stored netCDF\n",
    "nc_fp = wapor_map(region=region, variable=variable, period=time_range, folder=download_folder, extension=\".nc\")"
   ]
  },
  {
   "cell_type": "code",
   "execution_count": 11,
   "id": "b7679237-dc38-45c6-9626-6ed70bfa2267",
   "metadata": {},
   "outputs": [
    {
     "ename": "NameError",
     "evalue": "name 'nc_fp' is not defined",
     "output_type": "error",
     "traceback": [
      "\u001b[0;31m---------------------------------------------------------------------------\u001b[0m",
      "\u001b[0;31mNameError\u001b[0m                                 Traceback (most recent call last)",
      "Cell \u001b[0;32mIn[11], line 2\u001b[0m\n\u001b[1;32m      1\u001b[0m \u001b[38;5;66;03m# Load the netCDF or TIF file downloaded.\u001b[39;00m\n\u001b[0;32m----> 2\u001b[0m ds_sm_dekadal \u001b[38;5;241m=\u001b[39m load_wapor_ds(filename\u001b[38;5;241m=\u001b[39m\u001b[43mnc_fp\u001b[49m, variable\u001b[38;5;241m=\u001b[39mvariable)\u001b[38;5;241m.\u001b[39mrename({\u001b[38;5;124m'\u001b[39m\u001b[38;5;124mtime\u001b[39m\u001b[38;5;124m'\u001b[39m: \u001b[38;5;124m'\u001b[39m\u001b[38;5;124mdekad\u001b[39m\u001b[38;5;124m'\u001b[39m})\n\u001b[1;32m      3\u001b[0m ds_sm_dekadal\n",
      "\u001b[0;31mNameError\u001b[0m: name 'nc_fp' is not defined"
     ]
    }
   ],
   "source": [
    "# Load the netCDF or TIF file downloaded.\n",
    "ds_sm_dekadal = load_wapor_ds(filename=nc_fp, variable=variable).rename({'time': 'dekad'})\n",
    "ds_sm_dekadal"
   ]
  },
  {
   "cell_type": "code",
   "execution_count": null,
   "id": "f3e9a515-d2d5-48f3-8aa2-aaec35101e14",
   "metadata": {},
   "outputs": [],
   "source": [
    "# Create a geobox to use to reproject the data.\n",
    "geobox = GeoBox.from_geopolygon(geopolygon=geopolygon, resolution=abs(resolution[0]), crs=output_crs)\n",
    "\n",
    "# Reproject using the geobox\n",
    "ds_sm_dekadal = ds_sm_dekadal.odc.reproject(how=geobox)\n",
    "ds_sm_dekadal"
   ]
  },
  {
   "cell_type": "code",
   "execution_count": null,
   "id": "f0c67ad0-f8cf-4fa7-9934-45fe38462c8b",
   "metadata": {},
   "outputs": [],
   "source": [
    "# Rasterize the country geopolygon and mask the loaded data.\n",
    "country_mask = rasterize(poly=geopolygon, how=ds_sm_dekadal.odc.geobox)\n",
    "ds_sm_dekadal = ds_sm_dekadal.where(country_mask)"
   ]
  },
  {
   "cell_type": "code",
   "execution_count": null,
   "id": "7296ef6f-7ceb-4c07-8b55-bebb03532a62",
   "metadata": {},
   "outputs": [],
   "source": [
    "# To DataArray\n",
    "da_sm_dekadal = ds_sm_dekadal[variable]\n",
    "da_sm_dekadal"
   ]
  },
  {
   "cell_type": "code",
   "execution_count": null,
   "id": "5cde119c-4e3a-4330-89e7-54abd54723f1",
   "metadata": {},
   "outputs": [],
   "source": [
    "# Set -9999 no-data values to NaN\n",
    "da_sm_dekadal = da_sm_dekadal.where(da_sm_dekadal != da_sm_dekadal.attrs[\"nodata\"])\n",
    "\n",
    "da_sm_dekadal"
   ]
  },
  {
   "cell_type": "markdown",
   "id": "6e62ed20-cca0-4899-98f8-abea3e929eb8",
   "metadata": {},
   "source": [
    "### Group the modified timeseries using the `ip` parameter\n",
    "\n",
    "The `ip` parameter determines to what extent past observations are considered. Longer IPs detect more severe drought events. The default `ip` used of **18 dekads** corresponds to the 6-month Standardized Precipitation Evapotranspiration Index.\n",
    "\n",
    "For example, calculating the Soil Moisture Drought Index for the dekad `2011-01-11` using an interest period of `ip=3` requires rainfall data from the dekad `2010-12-21`, `2011-01-01` and `2011-01-11`.\n",
    "\n",
    "\n",
    "**Each interest period is labelled using its end dekad.**"
   ]
  },
  {
   "cell_type": "code",
   "execution_count": null,
   "id": "56198598-4354-4c87-9a39-2c5dd8b4aa9e",
   "metadata": {},
   "outputs": [],
   "source": [
    "# Group the soil moisture dekadal timeseries by the interest period.\n",
    "# The dictionary keys are the end dekad for each interest period.\n",
    "# The values of the dictionary are the soil moisture data that belongs to the interest period\n",
    "da_sm_binned_by_interest_period = bin_by_interest_period(ds=da_sm_dekadal, ip=ip)"
   ]
  },
  {
   "cell_type": "code",
   "execution_count": null,
   "id": "547f3a26-59b1-426c-a84d-3c4fc971a99e",
   "metadata": {},
   "outputs": [],
   "source": [
    "# Get the interest periods\n",
    "interest_periods = list(da_sm_binned_by_interest_period.keys())"
   ]
  },
  {
   "cell_type": "markdown",
   "id": "9fa84e91-8887-42a1-81b1-abe8d90e1da7",
   "metadata": {},
   "source": [
    "### Get the average values for each interest period"
   ]
  },
  {
   "cell_type": "markdown",
   "id": "36279522-e616-4bce-9694-104cf8ca4183",
   "metadata": {},
   "source": [
    "Get the actual average soil moisture for each interest period."
   ]
  },
  {
   "cell_type": "code",
   "execution_count": null,
   "id": "4544dbff-68e7-4065-9467-22892d3c5820",
   "metadata": {},
   "outputs": [],
   "source": [
    "da_sm_actual_avg_for_ip = xr.concat([da_sm_binned_by_interest_period[i].mean(dim=\"dekad\").assign_coords(dekad=i).expand_dims({\"dekad\": 1}) for i in interest_periods], dim=\"dekad\")\n",
    "da_sm_actual_avg_for_ip"
   ]
  },
  {
   "cell_type": "markdown",
   "id": "67f5404e-6626-4f70-a79e-b2f57d162908",
   "metadata": {},
   "source": [
    "### Get the long term average for each interest period over the years of available data\n"
   ]
  },
  {
   "cell_type": "code",
   "execution_count": null,
   "id": "05e2bec2-4c47-4739-aa87-abeb4e67d2f6",
   "metadata": {},
   "outputs": [],
   "source": [
    "# Group the interest periods by year by getting the dekad number in the year for the end dekad of\n",
    "# the interest period. \n",
    "grouped_by_year = toolz.groupby(lambda dekad: get_dekad_no_in_year(date=dekad), interest_periods)"
   ]
  },
  {
   "cell_type": "markdown",
   "id": "9c954092-e6ad-490f-a60f-a3e0061d1056",
   "metadata": {},
   "source": [
    "Get the long term average soil moisture for each interest period."
   ]
  },
  {
   "cell_type": "code",
   "execution_count": null,
   "id": "1b7d1833-cdbd-403b-8563-072eb0adbfec",
   "metadata": {},
   "outputs": [],
   "source": [
    "long_term_avg_sm = {}\n",
    "for dekad_no_in_year, interest_periods_list in grouped_by_year.items():\n",
    "    long_term_avg_for_period = xr.concat([da_sm_binned_by_interest_period[i] for i in interest_periods_list], dim=\"dekad\").mean(dim=\"dekad\")\n",
    "    long_term_avg_sm[dekad_no_in_year] = long_term_avg_for_period\n",
    "    \n",
    "da_sm_long_term_avg_for_ip = xr.concat([long_term_avg_sm[get_dekad_no_in_year(i)].assign_coords(dekad=i).expand_dims({\"dekad\": 1}) for  i in interest_periods], dim=\"dekad\")\n",
    "\n",
    "assert all(da_sm_actual_avg_for_ip.dekad.values == da_sm_long_term_avg_for_ip.dekad.values)\n",
    "\n",
    "da_sm_long_term_avg_for_ip"
   ]
  },
  {
   "cell_type": "markdown",
   "id": "bcadc8fc-327a-410f-8b4a-fff945618c47",
   "metadata": {},
   "source": [
    "### Get the actual length of continous deficit in each interest period\n",
    "\n",
    "For soil moisture the run length is the number of successive dekads in an interest period below the long term average for the same interest period."
   ]
  },
  {
   "cell_type": "code",
   "execution_count": null,
   "id": "31aa4268-62c2-4a7b-86ec-bdd826d51de5",
   "metadata": {},
   "outputs": [],
   "source": [
    "%%time\n",
    "# For each interest period get the maximum number of successive dekads below long term average soil moisture in the interest period.\n",
    "sm_run_length = []\n",
    "for interest_period in interest_periods:\n",
    "    # Get the dekads in the interest period\n",
    "    ds = da_sm_binned_by_interest_period[interest_period]\n",
    "    \n",
    "    # Identify pixels which are empty for all dekads\n",
    "    no_data_mask = xr.apply_ufunc(\n",
    "        get_no_data_mask,\n",
    "        ds,\n",
    "        input_core_dims=[[\"dekad\"]],\n",
    "        vectorize=True,\n",
    "        dask=\"allowed\",\n",
    "    )\n",
    "    \n",
    "    # Get the long term average for the interest period\n",
    "    long_term_avg = da_sm_long_term_avg_for_ip.sel(dekad=interest_period)\n",
    "    \n",
    "    # Get the pixels where the soil moisture is below the long term average soil moisture\n",
    "    mask = xr.where(ds < long_term_avg, 1, 0)\n",
    "    \n",
    "    # Get the maximum number of successive dekads below long term average soil moisture.\n",
    "    actual_run_length = xr.apply_ufunc(\n",
    "        max_consecutive_ones,\n",
    "        mask,\n",
    "        input_core_dims=[[\"dekad\"]],\n",
    "        vectorize=True,\n",
    "        dask=\"allowed\",\n",
    "    )\n",
    "    \n",
    "    # Modify the run length\n",
    "    modified_run_length = (actual_run_length.max() + 1) - actual_run_length\n",
    "    modified_run_length = modified_run_length.where(~no_data_mask)\n",
    "    sm_run_length.append(modified_run_length.assign_coords(dekad=interest_period).expand_dims({\"dekad\": 1}))\n",
    "\n",
    "da_sm_actual_run_length = xr.concat(sm_run_length, dim=\"dekad\")\n",
    "da_sm_actual_run_length"
   ]
  },
  {
   "cell_type": "markdown",
   "id": "4d76d733-2c91-46f7-9cfb-a4c73b86eb31",
   "metadata": {},
   "source": [
    "### Get the long term average of continous deficit in each interest period"
   ]
  },
  {
   "cell_type": "code",
   "execution_count": null,
   "id": "b8ae1de4-9dd2-4a48-8b75-73be3ca12064",
   "metadata": {},
   "outputs": [],
   "source": [
    "# Get the long term average soil moisture run length for each interest period \n",
    "long_term_avg_run_lenth_sm = {}\n",
    "for dekad_no_in_year, interest_periods_list in grouped_by_year.items():\n",
    "    long_term_avg_for_period = da_sm_actual_run_length.sel(dekad=interest_periods_list).mean(dim=\"dekad\")\n",
    "    long_term_avg_run_lenth_sm[dekad_no_in_year] = long_term_avg_for_period\n",
    "    \n",
    "da_sm_long_term_avg_run_length_for_ip = xr.concat([long_term_avg_run_lenth_sm[get_dekad_no_in_year(i)].assign_coords(dekad=i).expand_dims({\"dekad\": 1}) for  i in interest_periods], dim=\"dekad\")\n",
    "da_sm_long_term_avg_run_length_for_ip"
   ]
  },
  {
   "cell_type": "markdown",
   "id": "44145483-0499-4869-af45-50f6e3dd2252",
   "metadata": {},
   "source": [
    "### Calculate the Soil Moisture Drought Index"
   ]
  },
  {
   "cell_type": "code",
   "execution_count": null,
   "id": "9aa98e76-b31c-4ee7-902f-2b675a6ddf6a",
   "metadata": {},
   "outputs": [],
   "source": [
    "SMDI = (da_sm_actual_avg_for_ip / da_sm_long_term_avg_for_ip) * np.sqrt((da_sm_actual_run_length / da_sm_long_term_avg_run_length_for_ip))\n",
    "SMDI"
   ]
  },
  {
   "cell_type": "code",
   "execution_count": null,
   "id": "46da40ce-e163-4f74-9857-5b84aac53a1b",
   "metadata": {},
   "outputs": [],
   "source": [
    "#Scaled the Soil Moisture Drought Index\n",
    "SMDI_scaled = (SMDI - SMDI.min()) / (SMDI.max() - SMDI.min())\n",
    "SMDI_scaled"
   ]
  },
  {
   "cell_type": "code",
   "execution_count": null,
   "id": "4caa6f2b-9d5f-4870-b595-ea96b9db1500",
   "metadata": {},
   "outputs": [],
   "source": [
    "# Convert to DataFrame.\n",
    "df = SMDI_scaled.to_dataframe().drop(columns=\"spatial_ref\")\n",
    "df"
   ]
  },
  {
   "cell_type": "code",
   "execution_count": null,
   "id": "8cbea8bb-da57-4815-85d3-ecf04e7f2fa8",
   "metadata": {},
   "outputs": [],
   "source": [
    "# Convert the DataFrame to an Arrow table\n",
    "table = Table.from_pandas(df)\n",
    "\n",
    "# Get the tables existing metadata\n",
    "existing_meta = table.schema.metadata\n",
    "\n",
    "# Dump the crs of the DataArray as new metadata to JSON.\n",
    "meta_json = json.dumps(dict(crs=str(SMDI_scaled.rio.crs)))\n",
    "\n",
    "# Combine the metadata\n",
    "combined_meta = {\n",
    "b\"xarray.metadata\": meta_json.encode(),\n",
    "**existing_meta,\n",
    "}\n",
    "\n",
    "# Replace the metadata.\n",
    "table = table.replace_schema_metadata(combined_meta)"
   ]
  },
  {
   "cell_type": "markdown",
   "id": "eed49c65-f85f-4a29-a0b7-42fd7470b1f6",
   "metadata": {},
   "source": [
    "### Export the results in a Zip file"
   ]
  },
  {
   "cell_type": "code",
   "execution_count": null,
   "id": "4089e0d3-ef95-49fb-b7b1-4c83058215dc",
   "metadata": {},
   "outputs": [],
   "source": [
    "# Write the table\n",
    "write_table(table, output_path, compression=\"GZIP\")"
   ]
  },
  {
   "cell_type": "markdown",
   "id": "7e9e0e15-e198-4c73-98df-f64600837c6c",
   "metadata": {},
   "source": [
    "---\n",
    "\n",
    "## Additional information\n",
    "\n",
    "<b> License </b> The code in this notebook is licensed under the [Apache License, Version 2.0](https://www.apache.org/licenses/LICENSE-2.0).\n",
    "\n",
    "Digital Earth Africa data is licensed under the [Creative Commons by Attribution 4.0](https://creativecommons.org/licenses/by/4.0/) license.\n",
    "\n",
    "<b> Contact </b> If you need assistance, please post a question on the [DE Africa Slack channel](https://digitalearthafrica.slack.com/) or on the [GIS Stack Exchange](https://gis.stackexchange.com/questions/ask?tags=open-data-cube) using the `open-data-cube` tag (you can view previously asked questions [here](https://gis.stackexchange.com/questions/tagged/open-data-cube)).\n",
    "\n",
    "If you would like to report an issue with this notebook, you can file one on [Github](https://github.com/digitalearthafrica/deafrica-sandbox-notebooks).\n",
    "\n",
    "<b> Compatible datacube version :</b>"
   ]
  },
  {
   "cell_type": "code",
   "execution_count": null,
   "id": "fc3485ff-1566-4bda-992e-b25c66304799",
   "metadata": {},
   "outputs": [],
   "source": [
    "print(datacube.__version__)"
   ]
  },
  {
   "cell_type": "markdown",
   "id": "d5c2520f-9842-443d-ac8b-6b181d6f2545",
   "metadata": {},
   "source": [
    "**Last Tested:**"
   ]
  },
  {
   "cell_type": "code",
   "execution_count": null,
   "id": "114cacb9-9850-450e-b772-6dae78d01c96",
   "metadata": {},
   "outputs": [],
   "source": [
    "from datetime import datetime\n",
    "datetime.today().strftime('%Y-%m-%d')"
   ]
  }
 ],
 "metadata": {
  "kernelspec": {
   "display_name": "Python 3 (ipykernel)",
   "language": "python",
   "name": "python3"
  },
  "language_info": {
   "codemirror_mode": {
    "name": "ipython",
    "version": 3
   },
   "file_extension": ".py",
   "mimetype": "text/x-python",
   "name": "python",
   "nbconvert_exporter": "python",
   "pygments_lexer": "ipython3",
   "version": "3.10.12"
  }
 },
 "nbformat": 4,
 "nbformat_minor": 5
}
