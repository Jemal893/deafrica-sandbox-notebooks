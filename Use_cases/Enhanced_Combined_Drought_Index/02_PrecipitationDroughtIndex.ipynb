{
 "cells": [
  {
   "cell_type": "markdown",
   "id": "a1ee47cf-3544-4245-9884-92989e9f8877",
   "metadata": {},
   "source": [
    "<img align=\"centre\" src=\"../../Supplementary_data/Github_banner.jpg\" width=\"100%\">\n",
    "\n",
    "# Enhanced Combined Drought Index - Precipitation Drought Index\n",
    "\n",
    "* **Products used:** \n",
    "[rainfall_chirps_daily](https://explorer.digitalearth.africa/products/rainfall_chirps_daily)"
   ]
  },
  {
   "cell_type": "raw",
   "id": "5f36c0bc-9aba-4e41-9698-96cc57458962",
   "metadata": {},
   "source": [
    "**Keywords**: :index:`data used; CHIRPS`, :index:`climate`, :index:`rainfall`;"
   ]
  },
  {
   "cell_type": "markdown",
   "id": "4d6ce758-4950-4cea-96e6-ee58a302108a",
   "metadata": {},
   "source": [
    "## Background "
   ]
  },
  {
   "cell_type": "markdown",
   "id": "1d1c29f8-816c-414b-8d63-efd95a7a647c",
   "metadata": {},
   "source": [
    "Drought is an extended period, during which, fresh water availability and accessibility for the ecosystem at a given time and place is below normal, due to unfavourable spatial and temporal distribution of rainfall, temperature, soil moisture and wind characteristics [(Balint et al., 2013)](https://doi.org/10.1016/B978-0-444-59559-1.00023-2). Severe droughts can affect large populations, leading to a long-term threat to people’s livelihoods and result in tremendous economic loss [(Enenkel et al., 2016)](https://doi.org/10.3390/rs8040340)."
   ]
  },
  {
   "cell_type": "markdown",
   "id": "48d311ac-d044-47a6-b4db-420c76c297fb",
   "metadata": {},
   "source": [
    "The **Enhanced Drought Index** is a combination of the following components: Vegetation, Precipitation, Temperature and Soil moisture.\n",
    "\n",
    "This notebook will focus on the **Precipitation component**, component, which considers rainfall deficits and dryness persistence. The index calculated using the precipitation component is referred as the Precipitation Drought Index (PDI).\" The Precipitation Drought Index (PDI) is a commonly used indicator for assessing drought conditions based on precipitation deficits. It measures the difference between observed precipitation and expected or normal precipitation over a specific time period, typically in relation to the long-term average."
   ]
  },
  {
   "cell_type": "markdown",
   "id": "4630c991-7329-4ef8-8d34-e4dd5a2ef280",
   "metadata": {},
   "source": [
    "The notebook outlines:\n",
    "\n",
    "***\n",
    "1. Loading Python and DE Africa Packages\n",
    "2. Setting dask cluster\n",
    "3. Loading area on interest\n",
    "5. Load CHIRPS data\n",
    "6. Resampling of data to dekadal (10-day) intervals\n",
    "7. Calculate the Vegetation Drought Index\n",
    "8. Export the result as zip"
   ]
  },
  {
   "cell_type": "markdown",
   "id": "ec6d4e07-18c3-4830-b669-77e01b021a53",
   "metadata": {},
   "source": [
    "## Getting started\n",
    "\n",
    "To run this analysis, run all the cells in the notebook, starting with the \"Load packages\" cell. "
   ]
  },
  {
   "cell_type": "markdown",
   "id": "3251008f-3b84-41eb-876d-d68059b0c6de",
   "metadata": {},
   "source": [
    "### Load packages"
   ]
  },
  {
   "cell_type": "code",
   "execution_count": 1,
   "id": "73f5d02f-aee0-452f-81b3-ff22d921457f",
   "metadata": {},
   "outputs": [],
   "source": [
    "# import calendar\n",
    "import json\n",
    "import os\n",
    "# from datetime import datetime, timedelta\n",
    "\n",
    "import dask\n",
    "import geopandas as gpd\n",
    "import numpy as np\n",
    "import pandas as pd\n",
    "import rioxarray\n",
    "import toolz\n",
    "import xarray as xr\n",
    "import datacube\n",
    "from deafrica_tools.bandindices import calculate_indices\n",
    "from deafrica_tools.dask import create_local_dask_cluster\n",
    "from deafrica_tools.datahandling import load_ard\n",
    "from dekad import group_by_dekad, bin_by_interest_period, get_dekad_no_in_year, get_no_data_mask, max_consecutive_ones\n",
    "from odc.geo.geobox import GeoBox\n",
    "from odc.geo.geom import Geometry\n",
    "from odc.geo.xr import rasterize\n",
    "from pyarrow import Table\n",
    "from pyarrow.parquet import write_table"
   ]
  },
  {
   "cell_type": "markdown",
   "id": "f685410a-57bd-4139-bde3-d0617617ef1b",
   "metadata": {},
   "source": [
    "### Connect to the datacube\n",
    "\n",
    "Connect to the datacube so we can access DE Africa data.\n",
    "The `app` parameter is a unique name for the analysis which is based on the notebook file name."
   ]
  },
  {
   "cell_type": "code",
   "execution_count": 2,
   "id": "12ea4b92-d8c6-48e4-b418-57aa395b2945",
   "metadata": {},
   "outputs": [],
   "source": [
    "# Connect to the datacube\n",
    "dc = datacube.Datacube(app=\"PrecipitationDroughtIndex\")"
   ]
  },
  {
   "cell_type": "markdown",
   "id": "8143eda0-f831-4f4c-bb2b-675587cfb09c",
   "metadata": {},
   "source": [
    "### Set up a Dask cluster\n",
    "\n",
    "Dask can be used to better manage memory use and conduct the analysis in parallel. \n",
    "For an introduction to using Dask with Digital Earth Africa, see the [Dask notebook](../../Beginners_guide/08_Parallel_processing_with_dask.ipynb).\n",
    "\n",
    ">**Note**: We recommend opening the Dask processing window to view the different computations that are being executed; to do this, see the *Dask dashboard in DE Africa* section of the [Dask notebook](../../Beginners_guide/08_Parallel_processing_with_dask.ipynb).\n",
    "\n",
    "To use Dask, set up the local computing cluster using the cell below."
   ]
  },
  {
   "cell_type": "code",
   "execution_count": null,
   "id": "e7bf7690-e8b4-468a-a9e6-9632953dd918",
   "metadata": {},
   "outputs": [],
   "source": [
    "create_local_dask_cluster()"
   ]
  },
  {
   "cell_type": "markdown",
   "id": "50542e91-46c5-4de9-823a-88c505db1a40",
   "metadata": {
    "tags": []
   },
   "source": [
    "### Analysis parameters\n",
    "\n",
    "The following cell sets important parameters for the analysis:\n",
    "\n",
    "* `country`: The country to run the analysis over.\n",
    "* `resolution`: The x and y cell resolution of the satellite data in metres (spatial resolution). We'll use 5,000 m, which is approximately equal to the default CHIRPS resolution.\n",
    "* `output_crs` : The coordinate reference system that the loaded data is to be reprojected to.\n",
    "* `dask_chunks`:  the size of the dask chunks, dask breaks data into manageable chunks that can be easily stored in memory, e.g. `dict(x=1000,y=1000)`\n",
    "* `time_range` : Time range to load data for.\n",
    "* `ip` : The interest period to use to calculate the drought indices e.g. (3, 4, 5 dekads). It defines to what extent past observations are considered. Longer IPs detect more severe drought events. For example, if the IP=3 dekads, then the drought index (say PDI) of 0.35 for dekad 2 of 2006 implies actual drought for dekad 36 of 2005, dekad 1 of 2006 and dekad 2 of 2006.\n",
    "* `output_dir` :  The directory in which to store results from the analysis.\n",
    "\n",
    "**If running the notebook for the first time**, keep the default settings below.\n",
    "This will demonstrate how the analysis works and provide meaningful results."
   ]
  },
  {
   "cell_type": "code",
   "execution_count": null,
   "id": "cc3c12d5-0a20-48db-8044-070ee03b3ddb",
   "metadata": {},
   "outputs": [],
   "source": [
    "resolution = (-5000, 5000)\n",
    "output_crs = \"EPSG:6933\"\n",
    "dask_chunks = dict(x=3200,y=3200)\n",
    "time_range = (\"2014\",\"2020\")\n",
    "output_dir = \"results\"\n",
    "# Corresponding to the six-months Standardized Precipitation Evapotranspiration Index\n",
    "ip = 18\n",
    "\n",
    "# Create the outpur directory if it does not exist.\n",
    "os.makedirs(output_dir, exist_ok=True)"
   ]
  },
  {
   "cell_type": "code",
   "execution_count": null,
   "id": "bb1115fa-895c-47f0-bb67-ab649d948bde",
   "metadata": {},
   "outputs": [],
   "source": [
    "#loading the countries shapefiles\n",
    "african_countries_url = \"https://raw.githubusercontent.com/digitalearthafrica/deafrica-sandbox-notebooks/main/Supplementary_data/Rainfall_anomaly_CHIRPS/african_countries.geojson\"\n",
    "african_countries = gpd.read_file(african_countries_url)\n",
    "print(np.unique(african_countries.COUNTRY))"
   ]
  },
  {
   "cell_type": "code",
   "execution_count": null,
   "id": "9abcafc5-e427-4097-8301-3482d76ad303",
   "metadata": {},
   "outputs": [],
   "source": [
    "# Select the country of interest by providing the name below\n",
    "country = \"Ethiopia\"\n",
    "idx = african_countries[african_countries['COUNTRY'] == country].index[0]\n",
    "geopolygon = Geometry(geom=african_countries.iloc[idx].geometry, crs=african_countries.crs)\n",
    "\n",
    "# Create the output path\n",
    "output_path = os.path.join(output_dir, f\"PDI_{country}.parquet\")"
   ]
  },
  {
   "cell_type": "markdown",
   "id": "316d2648-b4b8-4338-acb2-8bf368cb220b",
   "metadata": {},
   "source": [
    "## Load CHIRPS data\n",
    "Load the CHIRPS daily data from the datacube using the analysis parameters set in the previous section."
   ]
  },
  {
   "cell_type": "code",
   "execution_count": null,
   "id": "d1e0b41f-bf8f-4af5-bdff-e60b75d9b0c5",
   "metadata": {},
   "outputs": [],
   "source": [
    "%%time\n",
    "ds_rf = dc.load(product='rainfall_chirps_daily',\n",
    "                measurements=[\"rainfall\"],\n",
    "                time=time_range,\n",
    "                dask_chunks=dask_chunks,\n",
    "                geopolygon=geopolygon,\n",
    "                output_crs=output_crs,\n",
    "                resolution=resolution,\n",
    "               )\n",
    "                    \n",
    "ds_rf"
   ]
  },
  {
   "cell_type": "markdown",
   "id": "08683829-5450-4b8c-838d-9e18ebadfcba",
   "metadata": {},
   "source": [
    "### Masked the data"
   ]
  },
  {
   "cell_type": "code",
   "execution_count": null,
   "id": "ef2f388e-344e-4373-ab32-f9f5b403dd3b",
   "metadata": {},
   "outputs": [],
   "source": [
    "# Rasterize the country geopolygon and mask the loaded  rainfall data.\n",
    "country_mask = rasterize(poly=geopolygon, how=ds_rf.odc.geobox)\n",
    "ds_rf = ds_rf.where(country_mask)"
   ]
  },
  {
   "cell_type": "code",
   "execution_count": null,
   "id": "5cde119c-4e3a-4330-89e7-54abd54723f1",
   "metadata": {},
   "outputs": [],
   "source": [
    "# Convert to DataArray\n",
    "da_rf = ds_rf[\"rainfall\"]\n",
    "\n",
    "# Set -9999 no-data values to NaN\n",
    "da_rf = da_rf.where(da_rf !=-9999.)\n",
    "\n",
    "da_rf"
   ]
  },
  {
   "cell_type": "markdown",
   "id": "1539c002-4c33-4a0b-a342-d35cbcb8ad78",
   "metadata": {},
   "source": [
    "### Resample data\n",
    "\n",
    "Resample the rainfall `da_rf` timeseries into **dekadal** (10-day) timesteps."
   ]
  },
  {
   "cell_type": "code",
   "execution_count": null,
   "id": "f44b1c9d-6213-4620-8b5f-7028dbb09968",
   "metadata": {},
   "outputs": [],
   "source": [
    "%%time\n",
    "# Resample the rainfall data from daily to decadal (10-day) intervals\n",
    "da_rf_dekadal = group_by_dekad(da_rf).mean(dim=\"time\").compute()\n",
    "da_rf_dekadal"
   ]
  },
  {
   "cell_type": "markdown",
   "id": "f60e8830-341a-4be7-947e-15d28a29c71f",
   "metadata": {},
   "source": [
    "### Modify the timeseries\n",
    "\n",
    "The raw timeseries of precipitation is modified to adjust the range of all variables to avoid a division by zero."
   ]
  },
  {
   "cell_type": "code",
   "execution_count": null,
   "id": "0f113cc3-0dde-4386-a59a-490f1aabdea5",
   "metadata": {},
   "outputs": [],
   "source": [
    "da_rf_dekadal_modified =  da_rf_dekadal + 1\n",
    "da_rf_dekadal_modified"
   ]
  },
  {
   "cell_type": "markdown",
   "id": "6e62ed20-cca0-4899-98f8-abea3e929eb8",
   "metadata": {},
   "source": [
    "### Group the modified timeseries using the `ip` parameter\n",
    "\n",
    "The `ip` parameter determines to what extent past observations are considered. Longer IPs detect more severe drought events. The default `ip` used of **18 dekads** corresponds to the 6-month Standardized Precipitation Evapotranspiration Index.\n",
    "\n",
    "For example, calculating the Precipitation Drought Index for the dekad `2011-01-11` using an interest period of `ip=3` requires rainfall data from the dekad `2010-12-21`, `2011-01-01` and `2011-01-11`.\n",
    "\n",
    "\n",
    "**Each interest period is labelled using its end dekad.**"
   ]
  },
  {
   "cell_type": "code",
   "execution_count": null,
   "id": "56198598-4354-4c87-9a39-2c5dd8b4aa9e",
   "metadata": {},
   "outputs": [],
   "source": [
    "# Group the modified rainfall dekadal timeseries by the interest period.\n",
    "# The dictionary keys are the end dekad for each interest period.\n",
    "# The values of the dictionary are the rainfall data that belongs to the interest period\n",
    "da_rf_binned_by_interest_period = bin_by_interest_period(ds=da_rf_dekadal_modified, ip=ip)"
   ]
  },
  {
   "cell_type": "code",
   "execution_count": null,
   "id": "547f3a26-59b1-426c-a84d-3c4fc971a99e",
   "metadata": {},
   "outputs": [],
   "source": [
    "# Get the interest periods\n",
    "interest_periods = list(da_rf_binned_by_interest_period.keys())"
   ]
  },
  {
   "cell_type": "markdown",
   "id": "9fa84e91-8887-42a1-81b1-abe8d90e1da7",
   "metadata": {},
   "source": [
    "### Get the average values for each interest period"
   ]
  },
  {
   "cell_type": "markdown",
   "id": "36279522-e616-4bce-9694-104cf8ca4183",
   "metadata": {},
   "source": [
    "Get the actual average rainfall for each interest period."
   ]
  },
  {
   "cell_type": "code",
   "execution_count": null,
   "id": "4544dbff-68e7-4065-9467-22892d3c5820",
   "metadata": {},
   "outputs": [],
   "source": [
    "da_rf_actual_avg_for_ip = xr.concat([da_rf_binned_by_interest_period[i].mean(dim=\"dekad\").assign_coords(dekad=i).expand_dims({\"dekad\": 1}) for i in interest_periods], dim=\"dekad\")\n",
    "da_rf_actual_avg_for_ip"
   ]
  },
  {
   "cell_type": "markdown",
   "id": "67f5404e-6626-4f70-a79e-b2f57d162908",
   "metadata": {},
   "source": [
    "### Get the long term average for each interest period over the years of available data\n"
   ]
  },
  {
   "cell_type": "code",
   "execution_count": null,
   "id": "05e2bec2-4c47-4739-aa87-abeb4e67d2f6",
   "metadata": {},
   "outputs": [],
   "source": [
    "# Group the interest periods by year by getting the dekad number in the year for the end dekad of\n",
    "# the interest period. \n",
    "grouped_by_year = toolz.groupby(lambda dekad: get_dekad_no_in_year(date=dekad), interest_periods)"
   ]
  },
  {
   "cell_type": "markdown",
   "id": "9c954092-e6ad-490f-a60f-a3e0061d1056",
   "metadata": {},
   "source": [
    "Get the long term average rainfall for each interest period."
   ]
  },
  {
   "cell_type": "code",
   "execution_count": null,
   "id": "1b7d1833-cdbd-403b-8563-072eb0adbfec",
   "metadata": {},
   "outputs": [],
   "source": [
    "long_term_avg_rf = {}\n",
    "for dekad_no_in_year, interest_periods_list in grouped_by_year.items():\n",
    "    long_term_avg_for_period = xr.concat([da_rf_binned_by_interest_period[i] for i in interest_periods_list], dim=\"dekad\").mean(dim=\"dekad\")\n",
    "    long_term_avg_rf[dekad_no_in_year] = long_term_avg_for_period\n",
    "    \n",
    "da_rf_long_term_avg_for_ip = xr.concat([long_term_avg_rf[get_dekad_no_in_year(i)].assign_coords(dekad=i).expand_dims({\"dekad\": 1}) for  i in interest_periods], dim=\"dekad\")\n",
    "\n",
    "assert all(da_rf_actual_avg_for_ip.dekad.values == da_rf_long_term_avg_for_ip.dekad.values)\n",
    "\n",
    "da_rf_long_term_avg_for_ip"
   ]
  },
  {
   "cell_type": "markdown",
   "id": "bcadc8fc-327a-410f-8b4a-fff945618c47",
   "metadata": {},
   "source": [
    "### Get the actual length of continous deficit in each interest period\n",
    "\n",
    "For rainfall the run length is the number of successive dekads in an interest period below the long term average for the same interest period."
   ]
  },
  {
   "cell_type": "code",
   "execution_count": null,
   "id": "31aa4268-62c2-4a7b-86ec-bdd826d51de5",
   "metadata": {},
   "outputs": [],
   "source": [
    "%%time\n",
    "# For each interest period get the maximum number of successive dekads below long term average rainfall in the interest period.\n",
    "rf_run_length = []\n",
    "for interest_period in interest_periods:\n",
    "    # Get the dekads in the interest period\n",
    "    ds = da_rf_binned_by_interest_period[interest_period]\n",
    "    \n",
    "    # Identify pixels which are empty for all dekads\n",
    "    no_data_mask = xr.apply_ufunc(\n",
    "        get_no_data_mask,\n",
    "        ds,\n",
    "        input_core_dims=[[\"dekad\"]],\n",
    "        vectorize=True,\n",
    "        dask=\"allowed\",\n",
    "    )\n",
    "    \n",
    "    # Get the long term average for the interest period\n",
    "    long_term_avg = da_rf_long_term_avg_for_ip.sel(dekad=interest_period)\n",
    "    \n",
    "    # Get the pixels where the rainfall is below the long term average rainfall\n",
    "    mask = xr.where(ds < long_term_avg, 1, 0)\n",
    "    \n",
    "    # Get the maximum number of successive dekads below long term average rainfall.\n",
    "    actual_run_length = xr.apply_ufunc(\n",
    "        max_consecutive_ones,\n",
    "        mask,\n",
    "        input_core_dims=[[\"dekad\"]],\n",
    "        vectorize=True,\n",
    "        dask=\"allowed\",\n",
    "    )\n",
    "    \n",
    "    # Modify the run length\n",
    "    modified_run_length = (actual_run_length.max() + 1) - actual_run_length\n",
    "    modified_run_length = modified_run_length.where(~no_data_mask)\n",
    "    rf_run_length.append(modified_run_length.assign_coords(dekad=interest_period).expand_dims({\"dekad\": 1}))\n",
    "\n",
    "da_rf_actual_run_length = xr.concat(rf_run_length, dim=\"dekad\")\n",
    "da_rf_actual_run_length"
   ]
  },
  {
   "cell_type": "markdown",
   "id": "4d76d733-2c91-46f7-9cfb-a4c73b86eb31",
   "metadata": {},
   "source": [
    "### Get the long term average of continous deficit in each interest period"
   ]
  },
  {
   "cell_type": "code",
   "execution_count": null,
   "id": "b8ae1de4-9dd2-4a48-8b75-73be3ca12064",
   "metadata": {},
   "outputs": [],
   "source": [
    "# Get the long term average rainfall run length for each interest period \n",
    "long_term_avg_run_lenth_rf = {}\n",
    "for dekad_no_in_year, interest_periods_list in grouped_by_year.items():\n",
    "    long_term_avg_for_period = da_rf_actual_run_length.sel(dekad=interest_periods_list).mean(dim=\"dekad\")\n",
    "    long_term_avg_run_lenth_rf[dekad_no_in_year] = long_term_avg_for_period\n",
    "    \n",
    "da_rf_long_term_avg_run_length_for_ip = xr.concat([long_term_avg_run_lenth_rf[get_dekad_no_in_year(i)].assign_coords(dekad=i).expand_dims({\"dekad\": 1}) for  i in interest_periods], dim=\"dekad\")\n",
    "da_rf_long_term_avg_run_length_for_ip"
   ]
  },
  {
   "cell_type": "markdown",
   "id": "44145483-0499-4869-af45-50f6e3dd2252",
   "metadata": {},
   "source": [
    "### Calculate the scaled Precipitation Drought Index"
   ]
  },
  {
   "cell_type": "code",
   "execution_count": null,
   "id": "9aa98e76-b31c-4ee7-902f-2b675a6ddf6a",
   "metadata": {},
   "outputs": [],
   "source": [
    "PDI = (da_rf_actual_avg_for_ip / da_rf_long_term_avg_for_ip) * np.sqrt((da_rf_actual_run_length / da_rf_long_term_avg_run_length_for_ip))\n",
    "PDI"
   ]
  },
  {
   "cell_type": "code",
   "execution_count": null,
   "id": "46da40ce-e163-4f74-9857-5b84aac53a1b",
   "metadata": {},
   "outputs": [],
   "source": [
    "PDI_scaled = (PDI - PDI.min()) / (PDI.max() - PDI.min())\n",
    "PDI_scaled"
   ]
  },
  {
   "cell_type": "code",
   "execution_count": null,
   "id": "4caa6f2b-9d5f-4870-b595-ea96b9db1500",
   "metadata": {},
   "outputs": [],
   "source": [
    "# Convert to DataFrame.\n",
    "df = PDI_scaled.to_dataframe().drop(columns=\"spatial_ref\")\n",
    "df"
   ]
  },
  {
   "cell_type": "code",
   "execution_count": null,
   "id": "8cbea8bb-da57-4815-85d3-ecf04e7f2fa8",
   "metadata": {},
   "outputs": [],
   "source": [
    "# Convert the DataFrame to an Arrow table\n",
    "table = Table.from_pandas(df)\n",
    "\n",
    "# Get the tables existing metadata\n",
    "existing_meta = table.schema.metadata\n",
    "\n",
    "# Dump the crs of the DataArray as new metadata to JSON.\n",
    "meta_json = json.dumps(dict(crs=str(PDI_scaled.rio.crs)))\n",
    "\n",
    "# Combine the metadata\n",
    "combined_meta = {\n",
    "b\"xarray.metadata\": meta_json.encode(),\n",
    "**existing_meta,\n",
    "}\n",
    "\n",
    "# Replace the metadata.\n",
    "table = table.replace_schema_metadata(combined_meta)"
   ]
  },
  {
   "cell_type": "markdown",
   "id": "a822f6ac-e558-43f3-a022-1b472c2f5a2b",
   "metadata": {},
   "source": [
    "### Export the results in a Zip file"
   ]
  },
  {
   "cell_type": "code",
   "execution_count": null,
   "id": "4089e0d3-ef95-49fb-b7b1-4c83058215dc",
   "metadata": {},
   "outputs": [],
   "source": [
    "# Write the table\n",
    "write_table(table, output_path, compression=\"GZIP\")"
   ]
  },
  {
   "cell_type": "markdown",
   "id": "9ce478df-88b0-46dc-885c-7e121da898fe",
   "metadata": {},
   "source": [
    "---\n",
    "\n",
    "## Additional information\n",
    "\n",
    "<b> License </b> The code in this notebook is licensed under the [Apache License, Version 2.0](https://www.apache.org/licenses/LICENSE-2.0).\n",
    "\n",
    "Digital Earth Africa data is licensed under the [Creative Commons by Attribution 4.0](https://creativecommons.org/licenses/by/4.0/) license.\n",
    "\n",
    "<b> Contact </b> If you need assistance, please post a question on the [DE Africa Slack channel](https://digitalearthafrica.slack.com/) or on the [GIS Stack Exchange](https://gis.stackexchange.com/questions/ask?tags=open-data-cube) using the `open-data-cube` tag (you can view previously asked questions [here](https://gis.stackexchange.com/questions/tagged/open-data-cube)).\n",
    "\n",
    "If you would like to report an issue with this notebook, you can file one on [Github](https://github.com/digitalearthafrica/deafrica-sandbox-notebooks).\n",
    "\n",
    "<b> Compatible datacube version </b>"
   ]
  },
  {
   "cell_type": "code",
   "execution_count": null,
   "id": "cde1dedb-48d0-43bc-ac3e-1a0042d18a33",
   "metadata": {},
   "outputs": [],
   "source": [
    "print(datacube.__version__)"
   ]
  },
  {
   "cell_type": "markdown",
   "id": "7f902691-ac90-4283-9967-1f95e1626444",
   "metadata": {},
   "source": [
    "**Last Tested:**"
   ]
  },
  {
   "cell_type": "code",
   "execution_count": null,
   "id": "463813d9-8d84-43cf-8f5f-d19048ade5c5",
   "metadata": {},
   "outputs": [],
   "source": [
    "from datetime import datetime\n",
    "datetime.today().strftime('%Y-%m-%d')"
   ]
  }
 ],
 "metadata": {
  "kernelspec": {
   "display_name": "Python 3 (ipykernel)",
   "language": "python",
   "name": "python3"
  },
  "language_info": {
   "codemirror_mode": {
    "name": "ipython",
    "version": 3
   },
   "file_extension": ".py",
   "mimetype": "text/x-python",
   "name": "python",
   "nbconvert_exporter": "python",
   "pygments_lexer": "ipython3",
   "version": "3.10.12"
  }
 },
 "nbformat": 4,
 "nbformat_minor": 5
}
