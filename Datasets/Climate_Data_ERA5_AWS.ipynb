{
 "cells": [
  {
   "cell_type": "markdown",
   "metadata": {},
   "source": [
    "# ERA5 Climate Gridded Data\n",
    "\n",
    "* **Products used:** \n",
    "[ERA5](https://registry.opendata.aws/ecmwf-era5/)\n",
    "\n",
    "This dataset is external to the Digital Earth Africa platform."
   ]
  },
  {
   "cell_type": "raw",
   "metadata": {
    "raw_mimetype": "text/restructuredtext"
   },
   "source": [
    "**Keywords**: :index:`data used; ERA5`, :index:`datasets; ERA5`, :index:`climate`, :index:`temperature`, :index:`precipitation`, :index:`wind`"
   ]
  },
  {
   "cell_type": "markdown",
   "metadata": {},
   "source": [
    "## Background\n",
    "\n",
    "This notebook demonstrates how to access and use the European Centre for Medium Range Weather Forecasts (ECMWF) global climate reanalysis product called, ERA5, from the [AWS Public Dataset Program](https://registry.opendata.aws/ecmwf-era5/). \n",
    "\n",
    "This 5th generation operational service utilizes the best available observation data from satellites and in-situ stations, which are assimilated and processed using ECMWF's Integrated Forecast System. The dataset provides essential atmospheric meteorological parameters such as air temperature, pressure and wind at different altitudes, along with surface parameters like rainfall, and sea parameters like sea-surface temperature and wave height. Spatial resolution is 0.25 degrees (latitude and longitude) which equates to about 31 km. Data is available from 1979 to present and is updated operationally.\n",
    "\n",
    "For offical information on this dataset, see [ERA5 data documentation from ECMWF](https://confluence.ecmwf.int/display/CKB/ERA5%3A+data+documentation).\n",
    "\n",
    "The ERA5 dataset in AWS is nominally updated monthly."
   ]
  },
  {
   "cell_type": "markdown",
   "metadata": {},
   "source": [
    "## Description\n",
    "\n",
    "We recommend use of ERA5 data in Zarr format which allows cloud native access without the need to download data.\n",
    "\n",
    "15 surface or single level variables are accessible using the `load_era5()` wrapper function.\n",
    "\n",
    "| Catagory | Variable | Name for query |\n",
    "|:--- |:--- |:--- |\n",
    "| Precipitation | Total precipitation | precipitation_amount_1hour_Accumulation \n",
    "| Wind | 10 metre U wind component | eastward_wind_at_10_metres \n",
    "| | 10 metre V wind component | northward_wind_at_10_metres\n",
    "| | 100 metre U wind component | eastward_wind_at_100_metres\n",
    "| | 100 metre V wind component | northward_wind_at_100_metres\n",
    "| Temperature | 2 metre temperature | air_temperature_at_2_metres\n",
    "| | 2 metres maximum temperature since previous post-processing | air_temperature_at_2_metres_1hour_Maximum\n",
    "| | 2 metres minimum temperature since previous post-processing | air_temperature_at_2_metres_1hour_Minimum\n",
    "| | 2 metre dew point temperature | dew_point_temperature_at_2_metres\n",
    "| | Sea surface temperature | sea_surface_temperature\n",
    "| Air Pressure | Mean sea level pressure | air_pressure_at_mean_sea_level\n",
    "| | Surface pressure | surface_air_pressure\n",
    "| Snow | Snow density | snow_density\n",
    "| | Snow depth | lwe_thickness_of_surface_snow_amount\n",
    "| Solar radiation | Surface solar radiation downwards | integral_wrt_time_of_surface_direct_downwelling_shortwave_flux_in_air_1hour_Accumulation\n",
    "\n",
    "\n",
    "The ERA5 dataset is also available in netcdf format, as described [here](https://github.com/planet-os/notebooks/blob/master/aws/era5-pds.md). \n",
    "Following sea surface variables are only available in netcdf format, and can be downloaded using the `load_era5_netcdf()` function.\n",
    "Use of netcdf data will not be elaborated in this notebook.\n",
    "\n",
    "| Catagory | Variable | Name for query |\n",
    "|:--- |:--- |:--- |\n",
    "| Wave | Mean wave period | sea_surface_wave_mean_period\n",
    "| | Mean direction of waves | sea_surface_wave_from_direction\n",
    "| | Significant height of combined wind waves and swell | significant_height_of_wind_and_swell_waves\n",
    "\n",
    "\n",
    "This notebook covers examples for accessing and working with the following variables:\n",
    "1. Daily total precipitation\n",
    "2. Daily minimum and maximum air temperature at 2 metres height\n",
    "3. Hourly wind speed at 10 metres height\n",
    "4. Monthly maximum air temperature at 2 metres height for the continent\n",
    "\n",
    "***"
   ]
  },
  {
   "cell_type": "markdown",
   "metadata": {},
   "source": [
    "## Getting started\n",
    "\n",
    "To run this analysis, run all the cells in the notebook, starting with the \"Load packages\" cell. "
   ]
  },
  {
   "cell_type": "markdown",
   "metadata": {},
   "source": [
    "### Load packages\n",
    "\n",
    "Import Python packages that are used for the analysis."
   ]
  },
  {
   "cell_type": "code",
   "execution_count": null,
   "metadata": {},
   "outputs": [],
   "source": [
    "# !pip install gcsfs"
   ]
  },
  {
   "cell_type": "code",
   "execution_count": 3,
   "metadata": {},
   "outputs": [],
   "source": [
    "import xarray as xr"
   ]
  },
  {
   "cell_type": "code",
   "execution_count": 4,
   "metadata": {},
   "outputs": [],
   "source": [
    "import rasterio as rio"
   ]
  },
  {
   "cell_type": "code",
   "execution_count": 5,
   "metadata": {},
   "outputs": [],
   "source": [
    "%matplotlib inline\n",
    "import fsspec\n",
    "from matplotlib import pyplot as plt\n",
    "import numpy as np\n",
    "import datacube"
   ]
  },
  {
   "cell_type": "code",
   "execution_count": 6,
   "metadata": {},
   "outputs": [
    {
     "data": {
      "text/plain": [
       "['gcp-public-data-arco-era5/co/model-level-moisture.zarr',\n",
       " 'gcp-public-data-arco-era5/co/model-level-moisture.zarr-v2',\n",
       " 'gcp-public-data-arco-era5/co/model-level-wind.zarr',\n",
       " 'gcp-public-data-arco-era5/co/model-level-wind.zarr-v2',\n",
       " 'gcp-public-data-arco-era5/co/single-level-forecast.zarr',\n",
       " 'gcp-public-data-arco-era5/co/single-level-forecast.zarr-v2',\n",
       " 'gcp-public-data-arco-era5/co/single-level-reanalysis.zarr',\n",
       " 'gcp-public-data-arco-era5/co/single-level-reanalysis.zarr-v2',\n",
       " 'gcp-public-data-arco-era5/co/single-level-surface.zarr',\n",
       " 'gcp-public-data-arco-era5/co/single-level-surface.zarr-v2']"
      ]
     },
     "execution_count": 6,
     "metadata": {},
     "output_type": "execute_result"
    }
   ],
   "source": [
    "var = 'precipitation_amount_1hour_Accumulation'\n",
    "\n",
    "lat = (9.70906, 8.28760)\n",
    "lon = (3.25195, 4.70215)\n",
    "\n",
    "\n",
    "# Lat / Lon    9.70906°N, 3.25195°E\n",
    "# Lat / Lon 8.28760°N, 4.70215°E\n",
    "\n",
    "\n",
    "# Define the time window\n",
    "time = '2021-01', '2021-03'\n",
    "\n",
    "fs = fsspec.filesystem('gs')\n",
    "fs.ls('gs://gcp-public-data-arco-era5/co/')"
   ]
  },
  {
   "cell_type": "code",
   "execution_count": 2,
   "metadata": {},
   "outputs": [],
   "source": [
    "ERA5_VARS = ['air_pressure_at_mean_sea_level',\n",
    " 'air_temperature_at_2_metres',\n",
    " 'dew_point_temperature_at_2_metres',\n",
    " 'eastward_wind_at_100_metres',\n",
    " 'eastward_wind_at_10_metres',\n",
    " 'northward_wind_at_100_metres',\n",
    " 'northward_wind_at_10_metres',\n",
    " 'precipitation_amount_1hour_Accumulation',\n",
    " 'sea_surface_temperature',\n",
    " 'surface_air_pressure']\n",
    "\n",
    "def lon_to_360(dlon: float) -> float:\n",
    "    return ((360 + (dlon % 360)) % 360)\n",
    "\n",
    "def load_era5_g(\n",
    "    var, lat, lon, time,\n",
    "    reduce_func=None,\n",
    "    resample=\"1D\",\n",
    "):\n",
    "    \"\"\"\n",
    "    Download and return an ERA5 variable for a defined time window.\n",
    "\n",
    "    Parameters\n",
    "    ----------\n",
    "    var : string\n",
    "        Name of the ERA5 climate variable to download, e.g \"air_temperature_at_2_metres\"\n",
    "\n",
    "    lat: tuple or list\n",
    "        Latitude range for query.\n",
    "\n",
    "    lon: tuple or list\n",
    "        Longitude range for query.\n",
    "\n",
    "    time: string or datetime object or a list or tuple of strings or datetime objects\n",
    "        Used to define starting and end date dates of the time window.\n",
    "\n",
    "    reduce_func: numpy function\n",
    "        lets you specify a function to apply to each day's worth of data.\n",
    "        The default is np.mean, which computes daily average. To get a sum, use np.sum.\n",
    "\n",
    "    resample: string\n",
    "        Temporal resampling frequency to be used for xarray's resample function.\n",
    "        The default is '1D', which is daily.\n",
    "        Since this is applied on monthly ERA5 data, maximum resampling period is '1M'.\n",
    "\n",
    "    Returns\n",
    "    -------\n",
    "    A lazy-loaded xarray dataset containing an ERA5 variable for the selected region and time window.\n",
    "\n",
    "    \"\"\"\n",
    "\n",
    "#     constrain query to available variables\n",
    "    assert var in ERA5_VARS, \"var must be one of [{}] (got {})\".format(\n",
    "        \",\".join(ERA5_VARS), var\n",
    "    )\n",
    "    \n",
    "    lat = list(lat)\n",
    "    lon = list(lon)\n",
    "    \n",
    "    # process date range\n",
    "    if type(time) in [list, tuple]:\n",
    "        date_from = np.datetime64(min(time)).astype('datetime64[D]')\n",
    "        date_to = (np.datetime64(max(time))+1).astype('datetime64[D]')-np.timedelta64(1,'D')\n",
    "    elif type(time) in [str, np.datetime64]:\n",
    "        date_from = np.datetime64(time).astype('datetime64[D]')\n",
    "        date_to = (np.datetime64(time)+1).astype('datetime64[D]')-np.timedelta64(1,'D')\n",
    "    else:\n",
    "        raise(ValueError)\n",
    "\n",
    "    ERA5_dict = {'air_pressure_at_mean_sea_level':'msl',\n",
    "                 'air_temperature_at_2_metres':'t2m',\n",
    "                 'dew_point_temperature_at_2_metres':'2d',\n",
    "                 'eastward_wind_at_100_metres':'100u',\n",
    "                 'eastward_wind_at_10_metres':'10u',\n",
    "                 'northward_wind_at_100_metres':'100v',\n",
    "                 'northward_wind_at_10_metres':'10v',\n",
    "                 'precipitation_amount_1hour_Accumulation':'tp',\n",
    "                 'sea_surface_temperature':'sst',\n",
    "                 'surface_air_pressure':'sp',\n",
    "                 'skin temperature':'skt'}\n",
    "\n",
    "    if ERA5_dict[var] == 'tp':\n",
    "        url = 'gs://gcp-public-data-arco-era5/co/single-level-forecast.zarr-v2'\n",
    "    else:\n",
    "        url = 'gs://gcp-public-data-arco-era5/co/single-level-reanalysis.zarr-v2'\n",
    "\n",
    "    if reduce_func is None:\n",
    "            reduce_func = np.mean\n",
    "\n",
    "    ds = xr.open_zarr(\n",
    "        url, \n",
    "        chunks={'time': 48},\n",
    "        consolidated=True).sel(time=slice(date_from, date_to))[[ERA5_dict[var]]].compute()\n",
    "    ds = ds.rename({ERA5_dict[var]:var})\n",
    "    if ERA5_dict[var] in ['tp']:\n",
    "        ds = ds.resample(step=resample).reduce(reduce_func)\n",
    "        ds = ds.resample(time=resample).reduce(reduce_func)\n",
    "    else:\n",
    "        ds = ds.resample(time=resample).reduce(reduce_func)\n",
    "        \n",
    "    ds =  (ds.\n",
    "           to_dataframe().\n",
    "           droplevel(1).\n",
    "           reset_index().\n",
    "           set_index(['time','latitude','longitude']).\n",
    "           to_xarray())\n",
    "        \n",
    "    xmin, xmax, ymin, ymax = [5.8, 58, -37, 0]\n",
    "    ds = ds.where(\n",
    "        (ds.longitude > lon_to_360(xmin)) & (ds.latitude > ymin) &\n",
    "        (ds.longitude < lon_to_360(xmax)) & (ds.latitude < ymax),\n",
    "        drop=True\n",
    "    )\n",
    "    \n",
    "    ds = ds.rename({'latitude':'lat','longitude': 'lon'})\n",
    "    \n",
    "    return ds"
   ]
  },
  {
   "cell_type": "code",
   "execution_count": 1,
   "metadata": {},
   "outputs": [
    {
     "ename": "NameError",
     "evalue": "name 'load_era5_g' is not defined",
     "output_type": "error",
     "traceback": [
      "\u001b[0;31m---------------------------------------------------------------------------\u001b[0m",
      "\u001b[0;31mNameError\u001b[0m                                 Traceback (most recent call last)",
      "Cell \u001b[0;32mIn[1], line 2\u001b[0m\n\u001b[1;32m      1\u001b[0m var \u001b[38;5;241m=\u001b[39m \u001b[38;5;124m'\u001b[39m\u001b[38;5;124mair_temperature_at_2_metres\u001b[39m\u001b[38;5;124m'\u001b[39m\n\u001b[0;32m----> 2\u001b[0m precip \u001b[38;5;241m=\u001b[39m \u001b[43mload_era5_g\u001b[49m(var, lat, lon, time, reduce_func\u001b[38;5;241m=\u001b[39mnp\u001b[38;5;241m.\u001b[39msum, resample\u001b[38;5;241m=\u001b[39m\u001b[38;5;124m'\u001b[39m\u001b[38;5;124m1D\u001b[39m\u001b[38;5;124m'\u001b[39m)\n",
      "\u001b[0;31mNameError\u001b[0m: name 'load_era5_g' is not defined"
     ]
    }
   ],
   "source": [
    "var = 'air_temperature_at_2_metres'\n",
    "precip = load_era5_g(var, lat, lon, time, reduce_func=np.sum, resample='1D')"
   ]
  },
  {
   "cell_type": "code",
   "execution_count": null,
   "metadata": {},
   "outputs": [],
   "source": [
    "precip"
   ]
  },
  {
   "cell_type": "code",
   "execution_count": null,
   "metadata": {},
   "outputs": [],
   "source": [
    "# convert to Millimeters (mm), keeping other attributes\n",
    "attrs = precip[var].attrs\n",
    "attrs['units']='mm'\n",
    "precip = precip*1000\n",
    "precip[var].attrs = attrs"
   ]
  },
  {
   "cell_type": "code",
   "execution_count": null,
   "metadata": {},
   "outputs": [],
   "source": [
    "precip[var]"
   ]
  },
  {
   "cell_type": "code",
   "execution_count": null,
   "metadata": {},
   "outputs": [],
   "source": [
    "import matplotlib.pyplot as plt\n",
    "import cartopy.crs as ccrs\n",
    "\n",
    "plt.figure(figsize=(12, 6))\n",
    "plt.axes(projection=ccrs.PlateCarree())\n",
    "plt.scatter(\n",
    "    US_ds.lon,\n",
    "    US_ds.la,\n",
    "    c=US_ds.t2m.isel(time=1).values,\n",
    "    s=1\n",
    ")"
   ]
  },
  {
   "cell_type": "code",
   "execution_count": null,
   "metadata": {},
   "outputs": [],
   "source": [
    "# plot daily total precipitation for this area\n",
    "precip[var].sum(['lat','lon']).plot(figsize = (16,4), marker='o', markersize=4, linewidth=0);\n",
    "plt.xlabel('Day');\n",
    "plt.ylabel('%s (%s)'%('Total Precipitation', precip[var].attrs['units']));"
   ]
  },
  {
   "cell_type": "code",
   "execution_count": null,
   "metadata": {},
   "outputs": [],
   "source": []
  },
  {
   "cell_type": "code",
   "execution_count": null,
   "metadata": {},
   "outputs": [],
   "source": [
    "ds_1"
   ]
  },
  {
   "cell_type": "code",
   "execution_count": null,
   "metadata": {},
   "outputs": [],
   "source": [
    "US_ds = ds_1.where(\n",
    "    (ds_1.longitude > -30) & (ds_1.latitude > -20) &\n",
    "    (ds_1.longitude < 30) & (ds_1.latitude < 60), \n",
    ")\n",
    "US_ds"
   ]
  },
  {
   "cell_type": "code",
   "execution_count": null,
   "metadata": {},
   "outputs": [],
   "source": [
    "import matplotlib.pyplot as plt\n",
    "import cartopy.crs as ccrs\n",
    "\n",
    "plt.figure(figsize=(12, 6))\n",
    "plt.axes(projection=ccrs.PlateCarree())\n",
    "plt.scatter(\n",
    "    US_ds.longitude,\n",
    "    US_ds.latitude,\n",
    "    c=US_ds.t2m.isel(time=1).values,\n",
    "    s=1\n",
    ")"
   ]
  },
  {
   "cell_type": "code",
   "execution_count": null,
   "metadata": {},
   "outputs": [],
   "source": [
    "reduce_func = None\n",
    "if reduce_func is None:\n",
    "    reduce_func = np.mean"
   ]
  },
  {
   "cell_type": "code",
   "execution_count": null,
   "metadata": {},
   "outputs": [],
   "source": [
    "US_ds.drop_dims('values')"
   ]
  },
  {
   "cell_type": "code",
   "execution_count": null,
   "metadata": {},
   "outputs": [],
   "source": [
    "resample=\"1D\""
   ]
  },
  {
   "cell_type": "code",
   "execution_count": null,
   "metadata": {},
   "outputs": [],
   "source": []
  },
  {
   "cell_type": "code",
   "execution_count": null,
   "metadata": {},
   "outputs": [],
   "source": [
    "n_ds = n_ds.t2m.compute()"
   ]
  },
  {
   "cell_type": "code",
   "execution_count": null,
   "metadata": {},
   "outputs": [],
   "source": [
    "va = ds_1.cape.values"
   ]
  },
  {
   "cell_type": "code",
   "execution_count": null,
   "metadata": {},
   "outputs": [],
   "source": [
    "# ds_1 = ds_1.expand_dims({'lon':ds.longitude.values, 'lat':ds.latitude.values})"
   ]
  },
  {
   "cell_type": "code",
   "execution_count": null,
   "metadata": {},
   "outputs": [],
   "source": [
    "# ds_1"
   ]
  },
  {
   "cell_type": "code",
   "execution_count": null,
   "metadata": {
    "tags": []
   },
   "outputs": [],
   "source": [
    "#Lat,Lon  = 35.67515°N, 20.56641°W\n",
    "#Lat / Lon = 35.38905°S, 55.63477°E"
   ]
  },
  {
   "cell_type": "code",
   "execution_count": null,
   "metadata": {},
   "outputs": [],
   "source": [
    "lat = (2.45, 2.55)\n",
    "lon = (36.75, 36.85)\n",
    "var = 'sst'\n",
    "time='2020-01-01', '2020-04-01'"
   ]
  },
  {
   "cell_type": "code",
   "execution_count": null,
   "metadata": {},
   "outputs": [],
   "source": [
    "# ds"
   ]
  },
  {
   "cell_type": "code",
   "execution_count": null,
   "metadata": {},
   "outputs": [],
   "source": [
    "def lon_to_360(dlon: float) -> float:\n",
    "    return ((360 + (dlon % 360)) % 360)\n",
    "\n",
    "def load_era5_g(\n",
    "    var, lat, lon, time,\n",
    "    reduce_func=None,\n",
    "    resample=\"1D\",\n",
    "):\n",
    "    \"\"\"\n",
    "    Download and return an ERA5 variable for a defined time window.\n",
    "\n",
    "    Parameters\n",
    "    ----------\n",
    "    var : string\n",
    "        Name of the ERA5 climate variable to download, e.g \"air_temperature_at_2_metres\"\n",
    "\n",
    "    lat: tuple or list\n",
    "        Latitude range for query.\n",
    "\n",
    "    lon: tuple or list\n",
    "        Longitude range for query.\n",
    "\n",
    "    time: string or datetime object or a list or tuple of strings or datetime objects\n",
    "        Used to define starting and end date dates of the time window.\n",
    "\n",
    "    reduce_func: numpy function\n",
    "        lets you specify a function to apply to each day's worth of data.\n",
    "        The default is np.mean, which computes daily average. To get a sum, use np.sum.\n",
    "\n",
    "    resample: string\n",
    "        Temporal resampling frequency to be used for xarray's resample function.\n",
    "        The default is '1D', which is daily.\n",
    "        Since this is applied on monthly ERA5 data, maximum resampling period is '1M'.\n",
    "\n",
    "    Returns\n",
    "    -------\n",
    "    A lazy-loaded xarray dataset containing an ERA5 variable for the selected region and time window.\n",
    "\n",
    "    \"\"\"\n",
    "\n",
    "    # constrain query to available variables\n",
    "#     assert var in ERA5_VARS, \"var must be one of [{}] (got {})\".format(\n",
    "#         \",\".join(ERA5_VARS), var\n",
    "#     )\n",
    "    \n",
    "    # set default reduction function\n",
    "    if reduce_func is None:\n",
    "        reduce_func = np.mean\n",
    "        \n",
    "    # process date range\n",
    "    if type(time) in [list, tuple]:\n",
    "        date_from = np.datetime64(min(time)).astype('datetime64[D]')\n",
    "        date_to = (np.datetime64(max(time))+1).astype('datetime64[D]')-np.timedelta64(1,'D')\n",
    "    elif type(time) in [str, np.datetime64]:\n",
    "        date_from = np.datetime64(time).astype('datetime64[D]')\n",
    "        date_to = (np.datetime64(time)+1).astype('datetime64[D]')-np.timedelta64(1,'D')\n",
    "    else:\n",
    "        raise(ValueError)\n",
    "\n",
    "    # actual lat lon ranges will be infered from nearest match to data\n",
    "    lat_range = list(lat)\n",
    "    lon_range = list(lon)\n",
    "    \n",
    "    datasets = []\n",
    "    # Loop through month and year to access ERA5 zarr\n",
    "    month = date_from.astype('datetime64[M]')\n",
    "    while month <= date_to.astype('datetime64[M]'):\n",
    "        url = f\"gs://gcp-public-data-arco-era5/co/single-level-reanalysis.zarr-v2/\"\n",
    "        ds = xr.open_zarr(url, consolidated=True)\n",
    "        \n",
    "        ds = ds.sel(time=slice(date_from, date_to))\n",
    "        # re-order along longitude to go from -180 to 180 if needed\n",
    "#         ds_lon = ds.longitude.values\n",
    "#         if min(lon) < 0:\n",
    "#             ds.longitude = (((ds.longitude.values + 180) % 360) - 180)\n",
    "#         print((lat_range))\n",
    "#         print(lon_range)\n",
    "        \n",
    "        ds = ds.expand_dims({'lon':lon_to_360(ds.longitude.values), 'lat':ds.latitude.values})\n",
    "#         ds = ds.sel(lat=slice(lat_range[0], lat_range[1]), lon=slice(lon_range[0], lon_range[1]))\n",
    "        #.reduce(reduce_func)\n",
    "    \n",
    "#         ds = ds.drop_dims('values')\n",
    "        \n",
    "#         \n",
    "        ds = ds[var].compute()\n",
    "#         ds = ds.isel(time=0).where((ds.latitude > lat_range[0]) & \n",
    "#                    (ds.latitude < lat_range[1]) & \n",
    "#                    (ds.longitude > lon_range[0]) & \n",
    "#                    (ds.longitude < lon_range[1]), drop=True)\n",
    "        \n",
    "        return ds\n",
    "    \n",
    "\n",
    "#         if lat_range is None:\n",
    "#             # find the nearest lat lon boundary points\n",
    "# #             print(ds)\n",
    "#             # define the lat/lon grid\n",
    "#             lat_range = slice(ds.lat.max().values, ds.lat.min().values)\n",
    "#             lon_range = slice(ds.lon.min().values, ds.lon.max().values)\n",
    "       \n",
    "#         if \"time0\" in ds.dims:\n",
    "#             ds = ds.rename({\"time0\": \"time\"})\n",
    "#         if \"time1\" in ds.dims:\n",
    "#             ds = ds.rename(\n",
    "#                 {\"time1\": \"time\"}\n",
    "#             )  # This should INTENTIONALLY error if both times are defined\n",
    "        \n",
    "#         output = ds[[var]].sel(lat=lat_range, lon=lon_range).resample(time=resample).reduce(reduce_func)\n",
    "#         output.attrs = ds.attrs\n",
    "#         for v in output.data_vars:\n",
    "#             output[v].attrs = ds[v].attrs\n",
    "            \n",
    "#         datasets.append(output)\n",
    "#         month += np.timedelta64(1,'M')\n",
    "    \n",
    "#     return assign_crs(xr.combine_by_coords(datasets), 'EPSG:4326')"
   ]
  },
  {
   "cell_type": "code",
   "execution_count": null,
   "metadata": {},
   "outputs": [],
   "source": [
    "precip = load_era5_g(var, lat, lon, time, reduce_func=np.sum, resample='1D')"
   ]
  },
  {
   "cell_type": "code",
   "execution_count": null,
   "metadata": {},
   "outputs": [],
   "source": [
    "precip"
   ]
  },
  {
   "cell_type": "code",
   "execution_count": null,
   "metadata": {},
   "outputs": [],
   "source": [
    "precip_ = precip.dr('depthBelowLandLayer')"
   ]
  },
  {
   "cell_type": "code",
   "execution_count": null,
   "metadata": {},
   "outputs": [],
   "source": [
    "lat = (2.45, 2.55)"
   ]
  },
  {
   "cell_type": "code",
   "execution_count": null,
   "metadata": {},
   "outputs": [],
   "source": [
    "precip_ = precip.where(\n",
    "    (precip.latitude > 2.45) & (precip.latitude < 2.55 )& \n",
    "    (precip.longitude > lon_to_360(lon[0])) & (precip.longitude < lon_to_360(lon[1])),\n",
    "                                             drop=True).compute()"
   ]
  },
  {
   "cell_type": "code",
   "execution_count": null,
   "metadata": {},
   "outputs": [],
   "source": [
    "precip_"
   ]
  },
  {
   "cell_type": "code",
   "execution_count": null,
   "metadata": {},
   "outputs": [],
   "source": [
    "US_ds = recent_an.where(\n",
    "    (recent_an.longitude > lon_to_360(-171.79)) & (recent_an.latitude > 18.91) &\n",
    "    (recent_an.longitude < lon_to_360(-66.96)) & (recent_an.latitude < 71.35),\n",
    "    drop=True\n",
    ")"
   ]
  },
  {
   "cell_type": "code",
   "execution_count": null,
   "metadata": {},
   "outputs": [],
   "source": [
    "precip[['sst']].reset_index()"
   ]
  },
  {
   "cell_type": "code",
   "execution_count": null,
   "metadata": {},
   "outputs": [],
   "source": [
    "#Lat,Lon  = 35.67515°N, 20.56641°W\n",
    "#Lat / Lon = 35.38905°S, 55.63477°E"
   ]
  },
  {
   "cell_type": "code",
   "execution_count": null,
   "metadata": {},
   "outputs": [],
   "source": [
    "US_ds = precip.where(((precip.lon > -171.79) & (precip.lat > 18.91) &\n",
    "                             (precip.lon < -66.96) & (precip.lat < 71.35)))"
   ]
  },
  {
   "cell_type": "code",
   "execution_count": null,
   "metadata": {},
   "outputs": [],
   "source": [
    "precip['sst'].isel(time=0).plot(cmap = 'coolwarm', figsize=(16, 5))"
   ]
  },
  {
   "cell_type": "code",
   "execution_count": null,
   "metadata": {},
   "outputs": [],
   "source": [
    "import matplotlib.pyplot as plt\n",
    "import cartopy.crs as ccrs\n",
    "\n",
    "ds_plot = ds_slice_lon.isel(time=0)\n",
    "plt.figure(figsize=(12, 6))\n",
    "plt.axes(projection=ccrs.PlateCarree())\n",
    "plt.scatter(\n",
    "    ds_plot.longitude,\n",
    "    ds_plot.latitude,\n",
    "    c=ds_plot.sst.values,\n",
    "    s=1\n",
    ")"
   ]
  },
  {
   "cell_type": "code",
   "execution_count": null,
   "metadata": {},
   "outputs": [],
   "source": [
    "plt.scatter(\n",
    "    ds_slice_lat.longitude,\n",
    "    ds_slice_lat.latitude,\n",
    "    s=1\n",
    ")"
   ]
  },
  {
   "cell_type": "code",
   "execution_count": null,
   "metadata": {},
   "outputs": [],
   "source": []
  },
  {
   "cell_type": "code",
   "execution_count": null,
   "metadata": {},
   "outputs": [],
   "source": []
  },
  {
   "cell_type": "code",
   "execution_count": null,
   "metadata": {},
   "outputs": [],
   "source": []
  },
  {
   "cell_type": "code",
   "execution_count": null,
   "metadata": {},
   "outputs": [],
   "source": [
    "top = -26.359944882003788  # north lat\n",
    "left = 64.4936701740102  # west long\n",
    "right = -47.96476498374171  # east long\n",
    "bottom = 38.34459242512347  # south lat"
   ]
  },
  {
   "cell_type": "code",
   "execution_count": null,
   "metadata": {},
   "outputs": [],
   "source": [
    "box1_cond"
   ]
  },
  {
   "cell_type": "code",
   "execution_count": null,
   "metadata": {},
   "outputs": [],
   "source": [
    "box1_cond = (bottom <= recent_an.latitude) & (recent_an.latitude <= top) & (left <= recent_an.longitude) & (recent_an.longitude <= right)\n",
    "# box2_cond = (bottom2 <= recent_an.latitude) & (recent_an.latitude <= top2) & (left2 <= recent_an.longitude) & (recent_an.longitude <= right2)\n",
    "recent_an_l = recent_an[box1_cond]"
   ]
  },
  {
   "cell_type": "code",
   "execution_count": null,
   "metadata": {},
   "outputs": [],
   "source": [
    "recent_an_l"
   ]
  },
  {
   "cell_type": "code",
   "execution_count": null,
   "metadata": {},
   "outputs": [],
   "source": [
    "def lon_to_360(dlon: float) -> float:\n",
    "    return ((360 + (dlon % 360)) % 360)\n",
    "\n",
    "US_ds = recent_an.where(\n",
    "    (recent_an.longitude > (-20.74219)) & (recent_an.latitude > 36.17336) &\n",
    "    (recent_an.longitude < (52.38281)) & (recent_an.latitude < -36.45664),\n",
    "#     drop=True\n",
    ")\n",
    "US_ds"
   ]
  },
  {
   "cell_type": "code",
   "execution_count": null,
   "metadata": {},
   "outputs": [],
   "source": [
    "us = US_ds['u10'].compute()"
   ]
  },
  {
   "cell_type": "code",
   "execution_count": null,
   "metadata": {},
   "outputs": [],
   "source": [
    "\n",
    "# import s3fs\n",
    "\n",
    "# from deafrica_tools.load_era5 import load_era5"
   ]
  },
  {
   "cell_type": "markdown",
   "metadata": {},
   "source": [
    "### List available measurements in Zarr format"
   ]
  },
  {
   "cell_type": "code",
   "execution_count": null,
   "metadata": {},
   "outputs": [],
   "source": [
    "# set AWS region to access ERA5 data\n",
    "s3 = s3fs.S3FileSystem(anon=True, client_kwargs={'region_name':'us-east-1'})"
   ]
  },
  {
   "cell_type": "code",
   "execution_count": null,
   "metadata": {},
   "outputs": [],
   "source": [
    "# data is structred as era5-pds/zarr/<year>/<month>/data/\n",
    "# available measurements should be consistent across time, so use 2021/04 to check\n",
    "# to confirm for a different time period, replace the year and month values\n",
    "\n",
    "s3.ls('era5-pds/zarr/2021/04/data/')"
   ]
  },
  {
   "cell_type": "markdown",
   "metadata": {},
   "source": [
    "### Analysis parameters\n",
    "\n",
    "Define location and time period of interest.\n",
    "For an initial test, use a time period of no more than a few months to limit data access.\n",
    "\n",
    "* `lat` & `lon`: The latitude and longitude range for the area of interest.\n",
    "* `time`: The time range you wish to extract data for. Times can be provided as year, month or date strings or datetime objects.\n"
   ]
  },
  {
   "cell_type": "code",
   "execution_count": null,
   "metadata": {},
   "outputs": [],
   "source": [
    "# Lake Turkana Wind Power Station, Kenya\n",
    "lat = (2.45, 2.55)\n",
    "lon = (36.75, 36.85)\n",
    "\n",
    "# Define the time window\n",
    "time = '2021-01', '2021-03'"
   ]
  },
  {
   "cell_type": "markdown",
   "metadata": {},
   "source": [
    "## Daily total precipitation\n",
    "\n",
    "Total precipitation is the accumulated liquid and frozen water, comprising rain and snow, that falls to the Earth's surface.\n",
    "It does not include fog, dew or the precipitation that evaporates in the atmosphere before it lands at the surface of the Earth. \n",
    "The units of this parameter are depth in metres of water equivalent. It is the depth the water would have if it were spread evenly over the grid box. \n",
    "Care should be taken when comparing model parameters with observations, because observations are often local to a particular point in space and time, rather than representing averages over a model grid box.\n",
    "\n",
    "In this example, total precipitation is aggregated at daily intervals.\n",
    "\n",
    "Optional parameters used to load data:\n",
    "\n",
    "* `reduce_func`: function to aggregate input hourly data, set to np.sum to calculate total precipitation.\n",
    "* `resample`: temporal resampling frequency, '1D' (as default) for daily aggregation.\n",
    "\n",
    "Noting that output spatial grid is snapped to the nearest input grid points."
   ]
  },
  {
   "cell_type": "code",
   "execution_count": null,
   "metadata": {},
   "outputs": [],
   "source": [
    "var = 'z'\n",
    "\n",
    "precip = load_era5_google(var, lat, lon, time, reduce_func=np.sum, resample='1D').compute()"
   ]
  },
  {
   "cell_type": "code",
   "execution_count": null,
   "metadata": {},
   "outputs": [],
   "source": [
    "# convert to Millimeters (mm), keeping other attributes\n",
    "attrs = precip[var].attrs\n",
    "attrs['units']='mm'\n",
    "precip = precip*1000\n",
    "precip[var].attrs = attrs"
   ]
  },
  {
   "cell_type": "code",
   "execution_count": null,
   "metadata": {},
   "outputs": [],
   "source": [
    "# plot daily total precipitation for this area\n",
    "precip[var].sum(['lat','lon']).plot(figsize = (16,4), marker='o', markersize=4, linewidth=0);\n",
    "plt.xlabel('Day');\n",
    "plt.ylabel('%s (%s)'%('Total Precipitation', precip[var].attrs['units']));"
   ]
  },
  {
   "cell_type": "markdown",
   "metadata": {},
   "source": [
    "## Daily minimum and maximum air temperature at 2 metres height\n",
    "\n",
    "Air temperature estimate is provided in kelvin (K) and can be converted to degrees Celsius (°C) by subtracting 273.15.\n",
    "\n",
    "In this example, highest and lowerest daily temperatures are extracted.\n",
    "\n",
    "Optional parameters used to load data:\n",
    "\n",
    "* `reduce_func`: function to aggregate input hourly data, set to np.max and np.min to calculate maximum and minimum temperature.\n",
    "* `resample`: temporal resampling frequency, '1D' (as default) for daily aggregation.\n",
    "\n",
    "Noting that output spatial grid is snapped to the nearest input grid points."
   ]
  },
  {
   "cell_type": "code",
   "execution_count": null,
   "metadata": {},
   "outputs": [],
   "source": [
    "temp_var = 'air_temperature_at_2_metres'\n",
    "\n",
    "temp_max = load_era5(temp_var, lat, lon, time, reduce_func=np.max, resample='1D').compute()\n",
    "\n",
    "temp_min = load_era5(temp_var, lat, lon, time, reduce_func=np.min, resample='1D').compute()\n"
   ]
  },
  {
   "cell_type": "code",
   "execution_count": null,
   "metadata": {},
   "outputs": [],
   "source": [
    "# convert to Celsius, keeping other attributes\n",
    "attrs = temp_max.attrs\n",
    "attrs['units']='C'\n",
    "temp_max, temp_min = temp_max-273.15, temp_min-273.15\n",
    "temp_max[temp_var].attrs = attrs\n",
    "temp_min[temp_var].attrs = attrs"
   ]
  },
  {
   "cell_type": "code",
   "execution_count": null,
   "metadata": {},
   "outputs": [],
   "source": [
    "# plot mean temperatures for this area\n",
    "temp_max[temp_var].mean(['lat','lon']).plot(figsize = (16,4), label='Highest');\n",
    "temp_min[temp_var].mean(['lat','lon']).plot(label='Lowest');\n",
    "plt.legend();\n",
    "plt.xlabel('Day');\n",
    "plt.ylabel('%s (%s)'%('Tempeature at 2 metres', temp_max[temp_var].attrs['units']));"
   ]
  },
  {
   "cell_type": "markdown",
   "metadata": {},
   "source": [
    "## Maximum hourly wind speed at 10 metres height\n",
    "\n",
    "Wind causes changes in surface characteristic of some land cover types, e.g. surface roughness of water. \n",
    "Increased surface roughness leads to an increase in measured radar backscatter.\n",
    "Although typically stronger than wind at surface, wind at 10 metres height may be used to flag windy conditions.\n",
    "\n",
    "In ERA5, horizontal wind estimate is provided in metres per second and is represented by an eastward component and a northward component. \n",
    "A negative sign indicates air moving in the opposite direction, e.g. towards the west for the eastward component.\n",
    "The two components can be combined to give the speed and direction of the horizontal wind.\n",
    "\n",
    "Wind speed is highly variable throughout a day, so sampling is kept at hourly.\n",
    "\n",
    "Optional parameters used to load data:\n",
    "\n",
    "* `resample`: temporal resampling frequency, '1h' so that output data is at same frequency as input.\n",
    "\n",
    "Noting that output spatial grid is snapped to the nearest input grid points."
   ]
  },
  {
   "cell_type": "code",
   "execution_count": null,
   "metadata": {},
   "outputs": [],
   "source": [
    "east = \"eastward_wind_at_10_metres\"\n",
    "north = \"northward_wind_at_10_metres\"\n",
    "\n",
    "wind_east = load_era5(east, lat, lon, time, resample='1h').compute()\n",
    "\n",
    "wind_north = load_era5(north, lat, lon, time, resample='1h').compute()"
   ]
  },
  {
   "cell_type": "markdown",
   "metadata": {},
   "source": [
    "### Combine the two wind components to get wind speed\n",
    "\n",
    "Magnitude of the wind speed is calculated from U and V components as $sqrt(U^2 + V^2)$."
   ]
  },
  {
   "cell_type": "code",
   "execution_count": null,
   "metadata": {},
   "outputs": [],
   "source": [
    "wind = (wind_east[east]**2 + wind_north[north]**2)**0.5\n",
    "wind.attrs['units'] = wind_east[east].attrs['units']"
   ]
  },
  {
   "cell_type": "code",
   "execution_count": null,
   "metadata": {},
   "outputs": [],
   "source": [
    "# plot mean wind speed for this area\n",
    "wind.mean(['lat','lon']).plot(figsize = (16,4));\n",
    "plt.ylabel('%s (%s)'%('wind speed at 10 metres', wind.attrs['units']));"
   ]
  },
  {
   "cell_type": "markdown",
   "metadata": {},
   "source": [
    "## Monthly maximum air temperature at 2 metres height\n",
    "\n",
    "In this example, maximum air temperature at 2 metres height is retrieved monthly for the African continent.\n",
    "\n",
    "Latitude and Longitude ranges are set to cover the continent.\n",
    "Time range is set from Janurary to March 2021.\n",
    "\n",
    "Optional parameters used to load data:\n",
    "\n",
    "* `reduce_func`: function to aggregate input hourly data, set to np.max to calculate maximum temperature.\n"
   ]
  },
  {
   "cell_type": "code",
   "execution_count": null,
   "metadata": {},
   "outputs": [],
   "source": [
    "temp_var = 'air_temperature_at_2_metres'\n",
    "\n",
    "temp_max_month = load_era5(temp_var, (-40, 40), (-20, 60), ('2021-01', '2021-03'), reduce_func=np.max, resample='1M').compute()\n",
    "\n",
    "# convert to Celsius, keeping other attributes\n",
    "attrs = temp_max_month.attrs\n",
    "attrs['units']='C'\n",
    "temp_max_month = temp_max_month-273.15\n",
    "temp_max_month[temp_var].attrs = attrs"
   ]
  },
  {
   "cell_type": "code",
   "execution_count": null,
   "metadata": {},
   "outputs": [],
   "source": [
    "# plot for each month\n",
    "temp_max_month[temp_var].plot(col='time', col_wrap=3, vmin=-20, vmax=50, cmap = 'coolwarm', figsize=(16, 5));"
   ]
  },
  {
   "cell_type": "markdown",
   "metadata": {},
   "source": [
    "***\n",
    "\n",
    "## Additional information\n",
    "\n",
    "**License:** The code in this notebook is licensed under the [Apache License, Version 2.0](https://www.apache.org/licenses/LICENSE-2.0). \n",
    "Digital Earth Africa data is licensed under the [Creative Commons by Attribution 4.0](https://creativecommons.org/licenses/by/4.0/) license.\n",
    "\n",
    "**Contact:** If you need assistance, please post a question on the [Open Data Cube Slack channel](http://slack.opendatacube.org/) or on the [GIS Stack Exchange](https://gis.stackexchange.com/questions/ask?tags=open-data-cube) using the `open-data-cube` tag (you can view previously asked questions [here](https://gis.stackexchange.com/questions/tagged/open-data-cube)).\n",
    "If you would like to report an issue with this notebook, you can file one on [Github](https://github.com/digitalearthafrica/deafrica-sandbox-notebooks).\n",
    "\n",
    "**Compatible datacube version:** "
   ]
  },
  {
   "cell_type": "code",
   "execution_count": null,
   "metadata": {},
   "outputs": [],
   "source": [
    "print(datacube.__version__)"
   ]
  },
  {
   "cell_type": "markdown",
   "metadata": {},
   "source": [
    "**Last Tested:**"
   ]
  },
  {
   "cell_type": "code",
   "execution_count": null,
   "metadata": {},
   "outputs": [],
   "source": [
    "from datetime import datetime\n",
    "datetime.today().strftime('%Y-%m-%d')"
   ]
  }
 ],
 "metadata": {
  "kernelspec": {
   "display_name": "Python 3 (ipykernel)",
   "language": "python",
   "name": "python3"
  },
  "language_info": {
   "codemirror_mode": {
    "name": "ipython",
    "version": 3
   },
   "file_extension": ".py",
   "mimetype": "text/x-python",
   "name": "python",
   "nbconvert_exporter": "python",
   "pygments_lexer": "ipython3",
   "version": "3.10.12"
  },
  "widgets": {
   "application/vnd.jupyter.widget-state+json": {
    "state": {},
    "version_major": 2,
    "version_minor": 0
   }
  }
 },
 "nbformat": 4,
 "nbformat_minor": 4
}
