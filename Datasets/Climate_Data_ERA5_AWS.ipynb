{
 "cells": [
  {
   "cell_type": "markdown",
   "metadata": {},
   "source": [
    "# ERA5 Climate Gridded Data\n",
    "\n",
    "* **Products used:** \n",
    "[ERA5](https://registry.opendata.aws/ecmwf-era5/)\n",
    "\n",
    "This dataset is external to the Digital Earth Africa platform."
   ]
  },
  {
   "cell_type": "raw",
   "metadata": {
    "raw_mimetype": "text/restructuredtext"
   },
   "source": [
    "**Keywords**: :index:`data used; ERA5`, :index:`datasets; ERA5`, :index:`climate`, :index:`temperature`, :index:`precipitation`, :index:`wind`"
   ]
  },
  {
   "cell_type": "markdown",
   "metadata": {},
   "source": [
    "## Background\n",
    "\n",
    "This notebook demonstrates how to access and use the European Centre for Medium Range Weather Forecasts (ECMWF) global climate reanalysis product called, ERA5, from the [AWS Public Dataset Program](https://registry.opendata.aws/ecmwf-era5/). \n",
    "\n",
    "This 5th generation operational service utilizes the best available observation data from satellites and in-situ stations, which are assimilated and processed using ECMWF's Integrated Forecast System. The dataset provides essential atmospheric meteorological parameters such as air temperature, pressure and wind at different altitudes, along with surface parameters like rainfall, and sea parameters like sea-surface temperature and wave height. Spatial resolution is 0.25 degrees (latitude and longitude) which equates to about 31 km. Data is available from 1979 to present and is updated operationally.\n",
    "\n",
    "For offical information on this dataset, see [ERA5 data documentation from ECMWF](https://confluence.ecmwf.int/display/CKB/ERA5%3A+data+documentation).\n",
    "\n",
    "The ERA5 dataset in AWS is nominally updated monthly."
   ]
  },
  {
   "cell_type": "markdown",
   "metadata": {},
   "source": [
    "## Description\n",
    "\n",
    "We recommend use of ERA5 data in Zarr format which allows cloud native access without the need to download data.\n",
    "\n",
    "15 surface or single level variables are accessible using the `load_era5()` wrapper function.\n",
    "\n",
    "| Catagory | Variable | Name for query |\n",
    "|:--- |:--- |:--- |\n",
    "| Precipitation | Total precipitation | precipitation_amount_1hour_Accumulation \n",
    "| Wind | 10 metre U wind component | eastward_wind_at_10_metres \n",
    "| | 10 metre V wind component | northward_wind_at_10_metres\n",
    "| | 100 metre U wind component | eastward_wind_at_100_metres\n",
    "| | 100 metre V wind component | northward_wind_at_100_metres\n",
    "| Temperature | 2 metre temperature | air_temperature_at_2_metres\n",
    "| | 2 metres maximum temperature since previous post-processing | air_temperature_at_2_metres_1hour_Maximum\n",
    "| | 2 metres minimum temperature since previous post-processing | air_temperature_at_2_metres_1hour_Minimum\n",
    "| | 2 metre dew point temperature | dew_point_temperature_at_2_metres\n",
    "| | Sea surface temperature | sea_surface_temperature\n",
    "| Air Pressure | Mean sea level pressure | air_pressure_at_mean_sea_level\n",
    "| | Surface pressure | surface_air_pressure\n",
    "| Snow | Snow density | snow_density\n",
    "| | Snow depth | lwe_thickness_of_surface_snow_amount\n",
    "| Solar radiation | Surface solar radiation downwards | integral_wrt_time_of_surface_direct_downwelling_shortwave_flux_in_air_1hour_Accumulation\n",
    "\n",
    "\n",
    "The ERA5 dataset is also available in netcdf format, as described [here](https://github.com/planet-os/notebooks/blob/master/aws/era5-pds.md). \n",
    "Following sea surface variables are only available in netcdf format, and can be downloaded using the `load_era5_netcdf()` function.\n",
    "Use of netcdf data will not be elaborated in this notebook.\n",
    "\n",
    "| Catagory | Variable | Name for query |\n",
    "|:--- |:--- |:--- |\n",
    "| Wave | Mean wave period | sea_surface_wave_mean_period\n",
    "| | Mean direction of waves | sea_surface_wave_from_direction\n",
    "| | Significant height of combined wind waves and swell | significant_height_of_wind_and_swell_waves\n",
    "\n",
    "\n",
    "This notebook covers examples for accessing and working with the following variables:\n",
    "1. Daily total precipitation\n",
    "2. Daily minimum and maximum air temperature at 2 metres height\n",
    "3. Hourly wind speed at 10 metres height\n",
    "4. Monthly maximum air temperature at 2 metres height for the continent\n",
    "\n",
    "***"
   ]
  },
  {
   "cell_type": "markdown",
   "metadata": {},
   "source": [
    "## Getting started\n",
    "\n",
    "To run this analysis, run all the cells in the notebook, starting with the \"Load packages\" cell. "
   ]
  },
  {
   "cell_type": "markdown",
   "metadata": {},
   "source": [
    "### Load packages\n",
    "\n",
    "Import Python packages that are used for the analysis."
   ]
  },
  {
   "cell_type": "code",
   "execution_count": 1,
   "metadata": {},
   "outputs": [],
   "source": [
    "%matplotlib inline\n",
    "from matplotlib import pyplot as plt\n",
    "import numpy as np\n",
    "import datacube\n",
    "import s3fs\n",
    "\n",
    "from deafrica_tools.load_era5 import load_era5"
   ]
  },
  {
   "cell_type": "markdown",
   "metadata": {},
   "source": [
    "### List available measurements in Zarr format"
   ]
  },
  {
   "cell_type": "code",
   "execution_count": 2,
   "metadata": {},
   "outputs": [],
   "source": [
    "# set AWS region to access ERA5 data\n",
    "s3 = s3fs.S3FileSystem(anon=True, client_kwargs={'region_name':'us-east-1'})"
   ]
  },
  {
   "cell_type": "code",
   "execution_count": 3,
   "metadata": {},
   "outputs": [
    {
     "ename": "PermissionError",
     "evalue": "All access to this object has been disabled",
     "output_type": "error",
     "traceback": [
      "\u001b[0;31m---------------------------------------------------------------------------\u001b[0m",
      "\u001b[0;31mClientError\u001b[0m                               Traceback (most recent call last)",
      "File \u001b[0;32m/usr/local/lib/python3.10/dist-packages/s3fs/core.py:692\u001b[0m, in \u001b[0;36mS3FileSystem._lsdir\u001b[0;34m(self, path, refresh, max_items, delimiter, prefix, versions)\u001b[0m\n\u001b[1;32m    691\u001b[0m files \u001b[38;5;241m=\u001b[39m []\n\u001b[0;32m--> 692\u001b[0m \u001b[38;5;28;01masync\u001b[39;00m \u001b[38;5;28;01mfor\u001b[39;00m c \u001b[38;5;129;01min\u001b[39;00m \u001b[38;5;28mself\u001b[39m\u001b[38;5;241m.\u001b[39m_iterdir(\n\u001b[1;32m    693\u001b[0m     bucket,\n\u001b[1;32m    694\u001b[0m     max_items\u001b[38;5;241m=\u001b[39mmax_items,\n\u001b[1;32m    695\u001b[0m     delimiter\u001b[38;5;241m=\u001b[39mdelimiter,\n\u001b[1;32m    696\u001b[0m     prefix\u001b[38;5;241m=\u001b[39mprefix,\n\u001b[1;32m    697\u001b[0m     versions\u001b[38;5;241m=\u001b[39mversions,\n\u001b[1;32m    698\u001b[0m ):\n\u001b[1;32m    699\u001b[0m     \u001b[38;5;28;01mif\u001b[39;00m c[\u001b[38;5;124m\"\u001b[39m\u001b[38;5;124mtype\u001b[39m\u001b[38;5;124m\"\u001b[39m] \u001b[38;5;241m==\u001b[39m \u001b[38;5;124m\"\u001b[39m\u001b[38;5;124mdirectory\u001b[39m\u001b[38;5;124m\"\u001b[39m:\n",
      "File \u001b[0;32m/usr/local/lib/python3.10/dist-packages/s3fs/core.py:742\u001b[0m, in \u001b[0;36mS3FileSystem._iterdir\u001b[0;34m(self, bucket, max_items, delimiter, prefix, versions)\u001b[0m\n\u001b[1;32m    735\u001b[0m it \u001b[38;5;241m=\u001b[39m pag\u001b[38;5;241m.\u001b[39mpaginate(\n\u001b[1;32m    736\u001b[0m     Bucket\u001b[38;5;241m=\u001b[39mbucket,\n\u001b[1;32m    737\u001b[0m     Prefix\u001b[38;5;241m=\u001b[39mprefix,\n\u001b[0;32m   (...)\u001b[0m\n\u001b[1;32m    740\u001b[0m     \u001b[38;5;241m*\u001b[39m\u001b[38;5;241m*\u001b[39m\u001b[38;5;28mself\u001b[39m\u001b[38;5;241m.\u001b[39mreq_kw,\n\u001b[1;32m    741\u001b[0m )\n\u001b[0;32m--> 742\u001b[0m \u001b[38;5;28;01masync\u001b[39;00m \u001b[38;5;28;01mfor\u001b[39;00m i \u001b[38;5;129;01min\u001b[39;00m it:\n\u001b[1;32m    743\u001b[0m     \u001b[38;5;28;01mfor\u001b[39;00m l \u001b[38;5;129;01min\u001b[39;00m i\u001b[38;5;241m.\u001b[39mget(\u001b[38;5;124m\"\u001b[39m\u001b[38;5;124mCommonPrefixes\u001b[39m\u001b[38;5;124m\"\u001b[39m, []):\n",
      "File \u001b[0;32m/usr/local/lib/python3.10/dist-packages/aiobotocore/paginate.py:30\u001b[0m, in \u001b[0;36mAioPageIterator.__anext__\u001b[0;34m(self)\u001b[0m\n\u001b[1;32m     29\u001b[0m \u001b[38;5;28;01mwhile\u001b[39;00m \u001b[38;5;28;01mTrue\u001b[39;00m:\n\u001b[0;32m---> 30\u001b[0m     response \u001b[38;5;241m=\u001b[39m \u001b[38;5;28;01mawait\u001b[39;00m \u001b[38;5;28mself\u001b[39m\u001b[38;5;241m.\u001b[39m_make_request(current_kwargs)\n\u001b[1;32m     31\u001b[0m     parsed \u001b[38;5;241m=\u001b[39m \u001b[38;5;28mself\u001b[39m\u001b[38;5;241m.\u001b[39m_extract_parsed_response(response)\n",
      "File \u001b[0;32m/usr/local/lib/python3.10/dist-packages/aiobotocore/client.py:358\u001b[0m, in \u001b[0;36mAioBaseClient._make_api_call\u001b[0;34m(self, operation_name, api_params)\u001b[0m\n\u001b[1;32m    357\u001b[0m     error_class \u001b[38;5;241m=\u001b[39m \u001b[38;5;28mself\u001b[39m\u001b[38;5;241m.\u001b[39mexceptions\u001b[38;5;241m.\u001b[39mfrom_code(error_code)\n\u001b[0;32m--> 358\u001b[0m     \u001b[38;5;28;01mraise\u001b[39;00m error_class(parsed_response, operation_name)\n\u001b[1;32m    359\u001b[0m \u001b[38;5;28;01melse\u001b[39;00m:\n",
      "\u001b[0;31mClientError\u001b[0m: An error occurred (AllAccessDisabled) when calling the ListObjectsV2 operation: All access to this object has been disabled",
      "\nThe above exception was the direct cause of the following exception:\n",
      "\u001b[0;31mPermissionError\u001b[0m                           Traceback (most recent call last)",
      "Cell \u001b[0;32mIn[3], line 5\u001b[0m\n\u001b[1;32m      1\u001b[0m \u001b[38;5;66;03m# data is structred as era5-pds/zarr/<year>/<month>/data/\u001b[39;00m\n\u001b[1;32m      2\u001b[0m \u001b[38;5;66;03m# available measurements should be consistent across time, so use 2021/04 to check\u001b[39;00m\n\u001b[1;32m      3\u001b[0m \u001b[38;5;66;03m# to confirm for a different time period, replace the year and month values\u001b[39;00m\n\u001b[0;32m----> 5\u001b[0m \u001b[43ms3\u001b[49m\u001b[38;5;241;43m.\u001b[39;49m\u001b[43mls\u001b[49m\u001b[43m(\u001b[49m\u001b[38;5;124;43m'\u001b[39;49m\u001b[38;5;124;43mera5-pds/zarr/2021/04/data/\u001b[39;49m\u001b[38;5;124;43m'\u001b[39;49m\u001b[43m)\u001b[49m\n",
      "File \u001b[0;32m/usr/local/lib/python3.10/dist-packages/fsspec/asyn.py:115\u001b[0m, in \u001b[0;36msync_wrapper.<locals>.wrapper\u001b[0;34m(*args, **kwargs)\u001b[0m\n\u001b[1;32m    112\u001b[0m \u001b[38;5;129m@functools\u001b[39m\u001b[38;5;241m.\u001b[39mwraps(func)\n\u001b[1;32m    113\u001b[0m \u001b[38;5;28;01mdef\u001b[39;00m \u001b[38;5;21mwrapper\u001b[39m(\u001b[38;5;241m*\u001b[39margs, \u001b[38;5;241m*\u001b[39m\u001b[38;5;241m*\u001b[39mkwargs):\n\u001b[1;32m    114\u001b[0m     \u001b[38;5;28mself\u001b[39m \u001b[38;5;241m=\u001b[39m obj \u001b[38;5;129;01mor\u001b[39;00m args[\u001b[38;5;241m0\u001b[39m]\n\u001b[0;32m--> 115\u001b[0m     \u001b[38;5;28;01mreturn\u001b[39;00m \u001b[43msync\u001b[49m\u001b[43m(\u001b[49m\u001b[38;5;28;43mself\u001b[39;49m\u001b[38;5;241;43m.\u001b[39;49m\u001b[43mloop\u001b[49m\u001b[43m,\u001b[49m\u001b[43m \u001b[49m\u001b[43mfunc\u001b[49m\u001b[43m,\u001b[49m\u001b[43m \u001b[49m\u001b[38;5;241;43m*\u001b[39;49m\u001b[43margs\u001b[49m\u001b[43m,\u001b[49m\u001b[43m \u001b[49m\u001b[38;5;241;43m*\u001b[39;49m\u001b[38;5;241;43m*\u001b[39;49m\u001b[43mkwargs\u001b[49m\u001b[43m)\u001b[49m\n",
      "File \u001b[0;32m/usr/local/lib/python3.10/dist-packages/fsspec/asyn.py:100\u001b[0m, in \u001b[0;36msync\u001b[0;34m(loop, func, timeout, *args, **kwargs)\u001b[0m\n\u001b[1;32m     98\u001b[0m     \u001b[38;5;28;01mraise\u001b[39;00m FSTimeoutError \u001b[38;5;28;01mfrom\u001b[39;00m \u001b[38;5;21;01mreturn_result\u001b[39;00m\n\u001b[1;32m     99\u001b[0m \u001b[38;5;28;01melif\u001b[39;00m \u001b[38;5;28misinstance\u001b[39m(return_result, \u001b[38;5;167;01mBaseException\u001b[39;00m):\n\u001b[0;32m--> 100\u001b[0m     \u001b[38;5;28;01mraise\u001b[39;00m return_result\n\u001b[1;32m    101\u001b[0m \u001b[38;5;28;01melse\u001b[39;00m:\n\u001b[1;32m    102\u001b[0m     \u001b[38;5;28;01mreturn\u001b[39;00m return_result\n",
      "File \u001b[0;32m/usr/local/lib/python3.10/dist-packages/fsspec/asyn.py:55\u001b[0m, in \u001b[0;36m_runner\u001b[0;34m(event, coro, result, timeout)\u001b[0m\n\u001b[1;32m     53\u001b[0m     coro \u001b[38;5;241m=\u001b[39m asyncio\u001b[38;5;241m.\u001b[39mwait_for(coro, timeout\u001b[38;5;241m=\u001b[39mtimeout)\n\u001b[1;32m     54\u001b[0m \u001b[38;5;28;01mtry\u001b[39;00m:\n\u001b[0;32m---> 55\u001b[0m     result[\u001b[38;5;241m0\u001b[39m] \u001b[38;5;241m=\u001b[39m \u001b[38;5;28;01mawait\u001b[39;00m coro\n\u001b[1;32m     56\u001b[0m \u001b[38;5;28;01mexcept\u001b[39;00m \u001b[38;5;167;01mException\u001b[39;00m \u001b[38;5;28;01mas\u001b[39;00m ex:\n\u001b[1;32m     57\u001b[0m     result[\u001b[38;5;241m0\u001b[39m] \u001b[38;5;241m=\u001b[39m ex\n",
      "File \u001b[0;32m/usr/local/lib/python3.10/dist-packages/s3fs/core.py:956\u001b[0m, in \u001b[0;36mS3FileSystem._ls\u001b[0;34m(self, path, detail, refresh, versions)\u001b[0m\n\u001b[1;32m    954\u001b[0m     files \u001b[38;5;241m=\u001b[39m \u001b[38;5;28;01mawait\u001b[39;00m \u001b[38;5;28mself\u001b[39m\u001b[38;5;241m.\u001b[39m_lsbuckets(refresh)\n\u001b[1;32m    955\u001b[0m \u001b[38;5;28;01melse\u001b[39;00m:\n\u001b[0;32m--> 956\u001b[0m     files \u001b[38;5;241m=\u001b[39m \u001b[38;5;28;01mawait\u001b[39;00m \u001b[38;5;28mself\u001b[39m\u001b[38;5;241m.\u001b[39m_lsdir(path, refresh, versions\u001b[38;5;241m=\u001b[39mversions)\n\u001b[1;32m    957\u001b[0m     \u001b[38;5;28;01mif\u001b[39;00m \u001b[38;5;129;01mnot\u001b[39;00m files \u001b[38;5;129;01mand\u001b[39;00m \u001b[38;5;124m\"\u001b[39m\u001b[38;5;124m/\u001b[39m\u001b[38;5;124m\"\u001b[39m \u001b[38;5;129;01min\u001b[39;00m path:\n\u001b[1;32m    958\u001b[0m         files \u001b[38;5;241m=\u001b[39m \u001b[38;5;28;01mawait\u001b[39;00m \u001b[38;5;28mself\u001b[39m\u001b[38;5;241m.\u001b[39m_lsdir(\n\u001b[1;32m    959\u001b[0m             \u001b[38;5;28mself\u001b[39m\u001b[38;5;241m.\u001b[39m_parent(path), refresh\u001b[38;5;241m=\u001b[39mrefresh, versions\u001b[38;5;241m=\u001b[39mversions\n\u001b[1;32m    960\u001b[0m         )\n",
      "File \u001b[0;32m/usr/local/lib/python3.10/dist-packages/s3fs/core.py:705\u001b[0m, in \u001b[0;36mS3FileSystem._lsdir\u001b[0;34m(self, path, refresh, max_items, delimiter, prefix, versions)\u001b[0m\n\u001b[1;32m    703\u001b[0m     files \u001b[38;5;241m+\u001b[39m\u001b[38;5;241m=\u001b[39m dirs\n\u001b[1;32m    704\u001b[0m \u001b[38;5;28;01mexcept\u001b[39;00m ClientError \u001b[38;5;28;01mas\u001b[39;00m e:\n\u001b[0;32m--> 705\u001b[0m     \u001b[38;5;28;01mraise\u001b[39;00m translate_boto_error(e)\n\u001b[1;32m    707\u001b[0m \u001b[38;5;28;01mif\u001b[39;00m delimiter \u001b[38;5;129;01mand\u001b[39;00m files \u001b[38;5;129;01mand\u001b[39;00m \u001b[38;5;129;01mnot\u001b[39;00m versions:\n\u001b[1;32m    708\u001b[0m     \u001b[38;5;28mself\u001b[39m\u001b[38;5;241m.\u001b[39mdircache[path] \u001b[38;5;241m=\u001b[39m files\n",
      "\u001b[0;31mPermissionError\u001b[0m: All access to this object has been disabled"
     ]
    }
   ],
   "source": [
    "# data is structred as era5-pds/zarr/<year>/<month>/data/\n",
    "# available measurements should be consistent across time, so use 2021/04 to check\n",
    "# to confirm for a different time period, replace the year and month values\n",
    "\n",
    "s3.ls('era5-pds/zarr/2021/04/data/')"
   ]
  },
  {
   "cell_type": "markdown",
   "metadata": {},
   "source": [
    "### Analysis parameters\n",
    "\n",
    "Define location and time period of interest.\n",
    "For an initial test, use a time period of no more than a few months to limit data access.\n",
    "\n",
    "* `lat` & `lon`: The latitude and longitude range for the area of interest.\n",
    "* `time`: The time range you wish to extract data for. Times can be provided as year, month or date strings or datetime objects.\n"
   ]
  },
  {
   "cell_type": "code",
   "execution_count": null,
   "metadata": {},
   "outputs": [],
   "source": [
    "# Lake Turkana Wind Power Station, Kenya\n",
    "lat = (2.45, 2.55)\n",
    "lon = (36.75, 36.85)\n",
    "\n",
    "# Define the time window\n",
    "time = '2021-01', '2021-03'"
   ]
  },
  {
   "cell_type": "markdown",
   "metadata": {},
   "source": [
    "## Daily total precipitation\n",
    "\n",
    "Total precipitation is the accumulated liquid and frozen water, comprising rain and snow, that falls to the Earth's surface.\n",
    "It does not include fog, dew or the precipitation that evaporates in the atmosphere before it lands at the surface of the Earth. \n",
    "The units of this parameter are depth in metres of water equivalent. It is the depth the water would have if it were spread evenly over the grid box. \n",
    "Care should be taken when comparing model parameters with observations, because observations are often local to a particular point in space and time, rather than representing averages over a model grid box.\n",
    "\n",
    "In this example, total precipitation is aggregated at daily intervals.\n",
    "\n",
    "Optional parameters used to load data:\n",
    "\n",
    "* `reduce_func`: function to aggregate input hourly data, set to np.sum to calculate total precipitation.\n",
    "* `resample`: temporal resampling frequency, '1D' (as default) for daily aggregation.\n",
    "\n",
    "Noting that output spatial grid is snapped to the nearest input grid points."
   ]
  },
  {
   "cell_type": "code",
   "execution_count": null,
   "metadata": {},
   "outputs": [],
   "source": [
    "var = 'precipitation_amount_1hour_Accumulation'\n",
    "\n",
    "precip = load_era5(var, lat, lon, time, reduce_func=np.sum, resample='1D').compute()"
   ]
  },
  {
   "cell_type": "code",
   "execution_count": null,
   "metadata": {},
   "outputs": [],
   "source": [
    "# convert to Millimeters (mm), keeping other attributes\n",
    "attrs = precip[var].attrs\n",
    "attrs['units']='mm'\n",
    "precip = precip*1000\n",
    "precip[var].attrs = attrs"
   ]
  },
  {
   "cell_type": "code",
   "execution_count": null,
   "metadata": {},
   "outputs": [],
   "source": [
    "# plot daily total precipitation for this area\n",
    "precip[var].sum(['lat','lon']).plot(figsize = (16,4), marker='o', markersize=4, linewidth=0);\n",
    "plt.xlabel('Day');\n",
    "plt.ylabel('%s (%s)'%('Total Precipitation', precip[var].attrs['units']));"
   ]
  },
  {
   "cell_type": "markdown",
   "metadata": {},
   "source": [
    "## Daily minimum and maximum air temperature at 2 metres height\n",
    "\n",
    "Air temperature estimate is provided in kelvin (K) and can be converted to degrees Celsius (°C) by subtracting 273.15.\n",
    "\n",
    "In this example, highest and lowerest daily temperatures are extracted.\n",
    "\n",
    "Optional parameters used to load data:\n",
    "\n",
    "* `reduce_func`: function to aggregate input hourly data, set to np.max and np.min to calculate maximum and minimum temperature.\n",
    "* `resample`: temporal resampling frequency, '1D' (as default) for daily aggregation.\n",
    "\n",
    "Noting that output spatial grid is snapped to the nearest input grid points."
   ]
  },
  {
   "cell_type": "code",
   "execution_count": null,
   "metadata": {},
   "outputs": [],
   "source": [
    "temp_var = 'air_temperature_at_2_metres'\n",
    "\n",
    "temp_max = load_era5(temp_var, lat, lon, time, reduce_func=np.max, resample='1D').compute()\n",
    "\n",
    "temp_min = load_era5(temp_var, lat, lon, time, reduce_func=np.min, resample='1D').compute()\n"
   ]
  },
  {
   "cell_type": "code",
   "execution_count": null,
   "metadata": {},
   "outputs": [],
   "source": [
    "# convert to Celsius, keeping other attributes\n",
    "attrs = temp_max.attrs\n",
    "attrs['units']='C'\n",
    "temp_max, temp_min = temp_max-273.15, temp_min-273.15\n",
    "temp_max[temp_var].attrs = attrs\n",
    "temp_min[temp_var].attrs = attrs"
   ]
  },
  {
   "cell_type": "code",
   "execution_count": null,
   "metadata": {},
   "outputs": [],
   "source": [
    "# plot mean temperatures for this area\n",
    "temp_max[temp_var].mean(['lat','lon']).plot(figsize = (16,4), label='Highest');\n",
    "temp_min[temp_var].mean(['lat','lon']).plot(label='Lowest');\n",
    "plt.legend();\n",
    "plt.xlabel('Day');\n",
    "plt.ylabel('%s (%s)'%('Tempeature at 2 metres', temp_max[temp_var].attrs['units']));"
   ]
  },
  {
   "cell_type": "markdown",
   "metadata": {},
   "source": [
    "## Maximum hourly wind speed at 10 metres height\n",
    "\n",
    "Wind causes changes in surface characteristic of some land cover types, e.g. surface roughness of water. \n",
    "Increased surface roughness leads to an increase in measured radar backscatter.\n",
    "Although typically stronger than wind at surface, wind at 10 metres height may be used to flag windy conditions.\n",
    "\n",
    "In ERA5, horizontal wind estimate is provided in metres per second and is represented by an eastward component and a northward component. \n",
    "A negative sign indicates air moving in the opposite direction, e.g. towards the west for the eastward component.\n",
    "The two components can be combined to give the speed and direction of the horizontal wind.\n",
    "\n",
    "Wind speed is highly variable throughout a day, so sampling is kept at hourly.\n",
    "\n",
    "Optional parameters used to load data:\n",
    "\n",
    "* `resample`: temporal resampling frequency, '1h' so that output data is at same frequency as input.\n",
    "\n",
    "Noting that output spatial grid is snapped to the nearest input grid points."
   ]
  },
  {
   "cell_type": "code",
   "execution_count": null,
   "metadata": {},
   "outputs": [],
   "source": [
    "east = \"eastward_wind_at_10_metres\"\n",
    "north = \"northward_wind_at_10_metres\"\n",
    "\n",
    "wind_east = load_era5(east, lat, lon, time, resample='1h').compute()\n",
    "\n",
    "wind_north = load_era5(north, lat, lon, time, resample='1h').compute()"
   ]
  },
  {
   "cell_type": "markdown",
   "metadata": {},
   "source": [
    "### Combine the two wind components to get wind speed\n",
    "\n",
    "Magnitude of the wind speed is calculated from U and V components as $sqrt(U^2 + V^2)$."
   ]
  },
  {
   "cell_type": "code",
   "execution_count": null,
   "metadata": {},
   "outputs": [],
   "source": [
    "wind = (wind_east[east]**2 + wind_north[north]**2)**0.5\n",
    "wind.attrs['units'] = wind_east[east].attrs['units']"
   ]
  },
  {
   "cell_type": "code",
   "execution_count": null,
   "metadata": {},
   "outputs": [],
   "source": [
    "# plot mean wind speed for this area\n",
    "wind.mean(['lat','lon']).plot(figsize = (16,4));\n",
    "plt.ylabel('%s (%s)'%('wind speed at 10 metres', wind.attrs['units']));"
   ]
  },
  {
   "cell_type": "markdown",
   "metadata": {},
   "source": [
    "## Monthly maximum air temperature at 2 metres height\n",
    "\n",
    "In this example, maximum air temperature at 2 metres height is retrieved monthly for the African continent.\n",
    "\n",
    "Latitude and Longitude ranges are set to cover the continent.\n",
    "Time range is set from Janurary to March 2021.\n",
    "\n",
    "Optional parameters used to load data:\n",
    "\n",
    "* `reduce_func`: function to aggregate input hourly data, set to np.max to calculate maximum temperature.\n"
   ]
  },
  {
   "cell_type": "code",
   "execution_count": null,
   "metadata": {},
   "outputs": [],
   "source": [
    "temp_var = 'air_temperature_at_2_metres'\n",
    "\n",
    "temp_max_month = load_era5(temp_var, (-40, 40), (-20, 60), ('2021-01', '2021-03'), reduce_func=np.max, resample='1M').compute()\n",
    "\n",
    "# convert to Celsius, keeping other attributes\n",
    "attrs = temp_max_month.attrs\n",
    "attrs['units']='C'\n",
    "temp_max_month = temp_max_month-273.15\n",
    "temp_max_month[temp_var].attrs = attrs"
   ]
  },
  {
   "cell_type": "code",
   "execution_count": null,
   "metadata": {},
   "outputs": [],
   "source": [
    "# plot for each month\n",
    "temp_max_month[temp_var].plot(col='time', col_wrap=3, vmin=-20, vmax=50, cmap = 'coolwarm', figsize=(16, 5));"
   ]
  },
  {
   "cell_type": "markdown",
   "metadata": {},
   "source": [
    "***\n",
    "\n",
    "## Additional information\n",
    "\n",
    "**License:** The code in this notebook is licensed under the [Apache License, Version 2.0](https://www.apache.org/licenses/LICENSE-2.0). \n",
    "Digital Earth Africa data is licensed under the [Creative Commons by Attribution 4.0](https://creativecommons.org/licenses/by/4.0/) license.\n",
    "\n",
    "**Contact:** If you need assistance, please post a question on the [Open Data Cube Slack channel](http://slack.opendatacube.org/) or on the [GIS Stack Exchange](https://gis.stackexchange.com/questions/ask?tags=open-data-cube) using the `open-data-cube` tag (you can view previously asked questions [here](https://gis.stackexchange.com/questions/tagged/open-data-cube)).\n",
    "If you would like to report an issue with this notebook, you can file one on [Github](https://github.com/digitalearthafrica/deafrica-sandbox-notebooks).\n",
    "\n",
    "**Compatible datacube version:** "
   ]
  },
  {
   "cell_type": "code",
   "execution_count": null,
   "metadata": {},
   "outputs": [],
   "source": [
    "print(datacube.__version__)"
   ]
  },
  {
   "cell_type": "markdown",
   "metadata": {},
   "source": [
    "**Last Tested:**"
   ]
  },
  {
   "cell_type": "code",
   "execution_count": null,
   "metadata": {},
   "outputs": [],
   "source": [
    "from datetime import datetime\n",
    "datetime.today().strftime('%Y-%m-%d')"
   ]
  }
 ],
 "metadata": {
  "kernelspec": {
   "display_name": "Python 3 (ipykernel)",
   "language": "python",
   "name": "python3"
  },
  "language_info": {
   "codemirror_mode": {
    "name": "ipython",
    "version": 3
   },
   "file_extension": ".py",
   "mimetype": "text/x-python",
   "name": "python",
   "nbconvert_exporter": "python",
   "pygments_lexer": "ipython3",
   "version": "3.10.12"
  },
  "widgets": {
   "application/vnd.jupyter.widget-state+json": {
    "state": {},
    "version_major": 2,
    "version_minor": 0
   }
  }
 },
 "nbformat": 4,
 "nbformat_minor": 4
}
