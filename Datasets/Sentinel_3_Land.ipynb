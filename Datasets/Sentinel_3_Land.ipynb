{
 "cells": [
  {
   "cell_type": "markdown",
   "id": "99bc1ff4-ce56-4940-a4ab-083968a26a6a",
   "metadata": {},
   "source": [
    "# Sentinel-3 OLCI Land\n",
    "\n",
    "* **Products used:** \n",
    "[s3_olci_l2_lfr](https://explorer.digitalearth.africa/products/s3_olci_l2_lfr)"
   ]
  },
  {
   "cell_type": "raw",
   "id": "8303f6f5-a31a-4740-b493-f9c6e3de0a12",
   "metadata": {
    "raw_mimetype": "text/restructuredtext"
   },
   "source": [
    "**Keywords** :index:`data used; sentinel-3`,:index:`datasets; sentinel-3`"
   ]
  },
  {
   "cell_type": "markdown",
   "id": "0105c250-2aaf-4e71-88ba-d88054d673a2",
   "metadata": {},
   "source": [
    "## Background\n",
    "\n",
    "The Sentinel-3 OLCI Level-2 Land Full Resolution (OL_2_LFR) product provides atmospherically corrected observations and biophysical parameters derived from the Ocean and Land Colour Instrument (OLCI) onboard Sentinel-3A and 3B satellites. The product delivers consistent measurements of vegetation condition and atmospheric properties at **300-m resolution** with an **approximately daily revisit frequency** with both satellites combined, making it valuable for a wide range of environmental and agricultural applications, including:\n",
    "\n",
    "* Vegetation health and stress monitoring\n",
    "* Drought early warning and food security assessments\n",
    "* Land surface process and ecosystem modelling\n",
    "* Crop condition analysis and agricultural productivity studies\n",
    "* Phenology and seasonal dynamics monitoring\n",
    "* Climate and atmospheric studies (via integrated water vapour)\n",
    "* Long-term land cover and change mapping\n",
    "\n",
    "The algorithms and retrieval approaches have been developed by the European Space Agency (ESA) and partners, ensuring continuity with MERIS heritage and improved spectral and radiometric performance. Validation draws on ground-based measurements and inter-comparison with other satellite products. More information on the product can be found in the OLCI Land User Guide and Algorithm Theoretical Basis Documents ([ATBDs](https://sentiwiki.copernicus.eu/web/s3-documents)).\n",
    "***"
   ]
  },
  {
   "cell_type": "markdown",
   "id": "e70320d8-823c-4699-afe9-09028f90c576",
   "metadata": {
    "jp-MarkdownHeadingCollapsed": true
   },
   "source": [
    "## Description\n",
    "\n",
    "This notebook will cover following topics:\n",
    "\n",
    "1. Inspecting the products and measurements available in the datacube\n",
    "2. Loading Sentinel 3 Sentinel-3 OLCI Data.\n",
    "3. Plotting the results\n",
    "\n",
    "***"
   ]
  },
  {
   "cell_type": "markdown",
   "id": "4b0f4501-89a8-4537-8946-c0a0dc33d3ca",
   "metadata": {},
   "source": [
    "## Getting started\n",
    "\n",
    "To run this analysis, run all the cells in the notebook, starting with the \"Load packages\" cell."
   ]
  },
  {
   "cell_type": "markdown",
   "id": "5c47db29-e0f3-4919-a401-b7bbef46bd1c",
   "metadata": {},
   "source": [
    "### Load packages\n",
    "Import Python packages that are used for the analysis."
   ]
  },
  {
   "cell_type": "code",
   "execution_count": 1,
   "id": "2ad49e86-9ab4-4d07-b90f-a29a7a79aafb",
   "metadata": {},
   "outputs": [],
   "source": [
    "%matplotlib inline\n",
    "\n",
    "import datacube\n",
    "import geopandas as gpd\n",
    "from odc.geo.geom import Geometry\n",
    "\n",
    "from deafrica_tools.plotting import display_map\n",
    "from deafrica_tools.areaofinterest import define_area"
   ]
  },
  {
   "cell_type": "markdown",
   "id": "9bafb524-39c9-4483-8dee-97d5b06026ca",
   "metadata": {},
   "source": [
    "### Connect to the datacube\n",
    "\n",
    "Connect to the datacube so we can access DE Africa data."
   ]
  },
  {
   "cell_type": "code",
   "execution_count": 2,
   "id": "42e89936-5cf2-44b0-afcd-58c45465c0c4",
   "metadata": {},
   "outputs": [],
   "source": [
    "dc = datacube.Datacube(app=\"Sentinel_3\")"
   ]
  },
  {
   "cell_type": "markdown",
   "id": "a456f025-3547-4985-9694-e9ce7b71afe0",
   "metadata": {},
   "source": [
    "### List products\n",
    "\n",
    "We can use datacube's `list_products` functionality to inspect DE Africa's products that are available in the datacube. The table below shows the product names that we will use to load the data, a brief description of the data, and the satellite instrument that acquired the data."
   ]
  },
  {
   "cell_type": "code",
   "execution_count": 3,
   "id": "e35001fc-c7d6-484f-af23-5abbc41aa767",
   "metadata": {},
   "outputs": [
    {
     "data": {
      "text/html": [
       "<div>\n",
       "<style scoped>\n",
       "    .dataframe tbody tr th:only-of-type {\n",
       "        vertical-align: middle;\n",
       "    }\n",
       "\n",
       "    .dataframe tbody tr th {\n",
       "        vertical-align: top;\n",
       "    }\n",
       "\n",
       "    .dataframe thead th {\n",
       "        text-align: right;\n",
       "    }\n",
       "</style>\n",
       "<table border=\"1\" class=\"dataframe\">\n",
       "  <thead>\n",
       "    <tr style=\"text-align: right;\">\n",
       "      <th></th>\n",
       "      <th>name</th>\n",
       "      <th>description</th>\n",
       "      <th>license</th>\n",
       "      <th>default_crs</th>\n",
       "      <th>default_resolution</th>\n",
       "    </tr>\n",
       "    <tr>\n",
       "      <th>name</th>\n",
       "      <th></th>\n",
       "      <th></th>\n",
       "      <th></th>\n",
       "      <th></th>\n",
       "      <th></th>\n",
       "    </tr>\n",
       "  </thead>\n",
       "  <tbody>\n",
       "    <tr>\n",
       "      <th>s3_ol_2_wfr_nrt</th>\n",
       "      <td>s3_ol_2_wfr_nrt</td>\n",
       "      <td>Sentinel-3 Level 2 Water Full Resolution (WFR)...</td>\n",
       "      <td>CC-BY-4.0</td>\n",
       "      <td>EPSG:4326</td>\n",
       "      <td>(-0.003, 0.003)</td>\n",
       "    </tr>\n",
       "    <tr>\n",
       "      <th>s3_olci_l2_lfr</th>\n",
       "      <td>s3_olci_l2_lfr</td>\n",
       "      <td>Sentinel-3 OLCI L2 LAND</td>\n",
       "      <td>CC-BY-4.0</td>\n",
       "      <td>EPSG:4326</td>\n",
       "      <td>(-0.003, 0.003)</td>\n",
       "    </tr>\n",
       "  </tbody>\n",
       "</table>\n",
       "</div>"
      ],
      "text/plain": [
       "                            name  \\\n",
       "name                               \n",
       "s3_ol_2_wfr_nrt  s3_ol_2_wfr_nrt   \n",
       "s3_olci_l2_lfr    s3_olci_l2_lfr   \n",
       "\n",
       "                                                       description    license  \\\n",
       "name                                                                            \n",
       "s3_ol_2_wfr_nrt  Sentinel-3 Level 2 Water Full Resolution (WFR)...  CC-BY-4.0   \n",
       "s3_olci_l2_lfr                             Sentinel-3 OLCI L2 LAND  CC-BY-4.0   \n",
       "\n",
       "                default_crs default_resolution  \n",
       "name                                            \n",
       "s3_ol_2_wfr_nrt   EPSG:4326    (-0.003, 0.003)  \n",
       "s3_olci_l2_lfr    EPSG:4326    (-0.003, 0.003)  "
      ]
     },
     "execution_count": 3,
     "metadata": {},
     "output_type": "execute_result"
    }
   ],
   "source": [
    "dc.list_products().loc[dc.list_products()['description'].str.contains('Sentinel-3')]"
   ]
  },
  {
   "cell_type": "markdown",
   "id": "a760a862-a29e-4eac-a0a5-b94b0a5e5f42",
   "metadata": {},
   "source": [
    "Please choose the product by specifying its name, with the product `s3_olci_l2_lfr`"
   ]
  },
  {
   "cell_type": "code",
   "execution_count": 4,
   "id": "1d493aac-1268-4efd-b670-1bf1bdc6f1be",
   "metadata": {},
   "outputs": [],
   "source": [
    "product = \"s3_olci_l2_lfr\""
   ]
  },
  {
   "cell_type": "markdown",
   "id": "1557b8be-3240-4ccf-808f-2a14b25093c0",
   "metadata": {},
   "source": [
    "### List measurements\n",
    "\n",
    "We can further inspect the data available for the Sentinel-3 Land `s3_olci_l2_lfr` product using datacube's `list_measurements` functionality. The table below lists each of the measurements available in the data."
   ]
  },
  {
   "cell_type": "code",
   "execution_count": 5,
   "id": "ba4d339d-7652-4dba-be68-5b0b9037588f",
   "metadata": {},
   "outputs": [
    {
     "data": {
      "text/html": [
       "<div>\n",
       "<style scoped>\n",
       "    .dataframe tbody tr th:only-of-type {\n",
       "        vertical-align: middle;\n",
       "    }\n",
       "\n",
       "    .dataframe tbody tr th {\n",
       "        vertical-align: top;\n",
       "    }\n",
       "\n",
       "    .dataframe thead th {\n",
       "        text-align: right;\n",
       "    }\n",
       "</style>\n",
       "<table border=\"1\" class=\"dataframe\">\n",
       "  <thead>\n",
       "    <tr style=\"text-align: right;\">\n",
       "      <th></th>\n",
       "      <th>name</th>\n",
       "      <th>dtype</th>\n",
       "      <th>units</th>\n",
       "      <th>nodata</th>\n",
       "      <th>aliases</th>\n",
       "      <th>flags_definition</th>\n",
       "      <th>add_offset</th>\n",
       "      <th>scale_factor</th>\n",
       "    </tr>\n",
       "    <tr>\n",
       "      <th>measurement</th>\n",
       "      <th></th>\n",
       "      <th></th>\n",
       "      <th></th>\n",
       "      <th></th>\n",
       "      <th></th>\n",
       "      <th></th>\n",
       "      <th></th>\n",
       "      <th></th>\n",
       "    </tr>\n",
       "  </thead>\n",
       "  <tbody>\n",
       "    <tr>\n",
       "      <th>GIFAPAR</th>\n",
       "      <td>GIFAPAR</td>\n",
       "      <td>uint16</td>\n",
       "      <td>1</td>\n",
       "      <td>65535</td>\n",
       "      <td>[GI-FAPAR]</td>\n",
       "      <td>NaN</td>\n",
       "      <td>0.0</td>\n",
       "      <td>10000.0</td>\n",
       "    </tr>\n",
       "    <tr>\n",
       "      <th>IWV_L</th>\n",
       "      <td>IWV_L</td>\n",
       "      <td>uint8</td>\n",
       "      <td>kg/m²</td>\n",
       "      <td>255</td>\n",
       "      <td>[water_vapour]</td>\n",
       "      <td>NaN</td>\n",
       "      <td>0.0</td>\n",
       "      <td>1.0</td>\n",
       "    </tr>\n",
       "    <tr>\n",
       "      <th>OTCI</th>\n",
       "      <td>OTCI</td>\n",
       "      <td>uint16</td>\n",
       "      <td>1</td>\n",
       "      <td>65535</td>\n",
       "      <td>[chlorophyll]</td>\n",
       "      <td>NaN</td>\n",
       "      <td>0.0</td>\n",
       "      <td>10000.0</td>\n",
       "    </tr>\n",
       "    <tr>\n",
       "      <th>RC681</th>\n",
       "      <td>RC681</td>\n",
       "      <td>uint16</td>\n",
       "      <td>1</td>\n",
       "      <td>65535</td>\n",
       "      <td>NaN</td>\n",
       "      <td>NaN</td>\n",
       "      <td>0.0</td>\n",
       "      <td>10000.0</td>\n",
       "    </tr>\n",
       "    <tr>\n",
       "      <th>RC865</th>\n",
       "      <td>RC865</td>\n",
       "      <td>uint16</td>\n",
       "      <td>1</td>\n",
       "      <td>65535</td>\n",
       "      <td>NaN</td>\n",
       "      <td>NaN</td>\n",
       "      <td>0.0</td>\n",
       "      <td>10000.0</td>\n",
       "    </tr>\n",
       "    <tr>\n",
       "      <th>LQSF</th>\n",
       "      <td>LQSF</td>\n",
       "      <td>float32</td>\n",
       "      <td>1</td>\n",
       "      <td>-1</td>\n",
       "      <td>NaN</td>\n",
       "      <td>NaN</td>\n",
       "      <td>0.0</td>\n",
       "      <td>1.0</td>\n",
       "    </tr>\n",
       "    <tr>\n",
       "      <th>dataMask</th>\n",
       "      <td>dataMask</td>\n",
       "      <td>uint8</td>\n",
       "      <td>1</td>\n",
       "      <td>255</td>\n",
       "      <td>[mask]</td>\n",
       "      <td>NaN</td>\n",
       "      <td>0.0</td>\n",
       "      <td>1.0</td>\n",
       "    </tr>\n",
       "  </tbody>\n",
       "</table>\n",
       "</div>"
      ],
      "text/plain": [
       "                 name    dtype  units nodata         aliases flags_definition  \\\n",
       "measurement                                                                     \n",
       "GIFAPAR       GIFAPAR   uint16      1  65535      [GI-FAPAR]              NaN   \n",
       "IWV_L           IWV_L    uint8  kg/m²    255  [water_vapour]              NaN   \n",
       "OTCI             OTCI   uint16      1  65535   [chlorophyll]              NaN   \n",
       "RC681           RC681   uint16      1  65535             NaN              NaN   \n",
       "RC865           RC865   uint16      1  65535             NaN              NaN   \n",
       "LQSF             LQSF  float32      1     -1             NaN              NaN   \n",
       "dataMask     dataMask    uint8      1    255          [mask]              NaN   \n",
       "\n",
       "             add_offset  scale_factor  \n",
       "measurement                            \n",
       "GIFAPAR             0.0       10000.0  \n",
       "IWV_L               0.0           1.0  \n",
       "OTCI                0.0       10000.0  \n",
       "RC681               0.0       10000.0  \n",
       "RC865               0.0       10000.0  \n",
       "LQSF                0.0           1.0  \n",
       "dataMask            0.0           1.0  "
      ]
     },
     "execution_count": 5,
     "metadata": {},
     "output_type": "execute_result"
    }
   ],
   "source": [
    "measurements = dc.list_measurements()\n",
    "measurements.loc[product]"
   ]
  },
  {
   "cell_type": "markdown",
   "id": "c685786a-16e9-4f51-90b7-4d1760722433",
   "metadata": {},
   "source": [
    "The Sentinel-3 Land product has seven measurements:"
   ]
  },
  {
   "cell_type": "markdown",
   "id": "f6cfcdc5-41d6-4c73-9a6a-0d9afe2058dd",
   "metadata": {},
   "source": [
    "| Measurement                                   | Description                                                                                                                             | Application                                                                                      |\n",
    "| --------------------------------------------- | --------------------------------------------------------------------------------------------------------------------------------------- | ------------------------------------------------------------------------------------------------ |\n",
    "| **GIFAPAR** (Green Instantaneous FAPAR)       | Fraction of Absorbed Photosynthetically Active Radiation (green component) at observation time. Indicates photosynthetic energy uptake. | Vegetation productivity monitoring, drought early warning, crop and forest condition assessment. |\n",
    "| **IWV\\_L** (Integrated Water Vapour – Land)   | Column-integrated water vapour content above each pixel.                                                                                | Climate modelling, evapotranspiration studies, vegetation stress analysis.                       |\n",
    "| **OTCI** (OLCI Terrestrial Chlorophyll Index) | Index sensitive to canopy chlorophyll content derived from OLCI spectral bands.                                                         | Crop stress detection, canopy functioning studies, biomass dynamics monitoring.                  |\n",
    "| **RC681** (Rectified Reflectance 681 nm)      | Atmospherically corrected surface reflectance in the red band (681 nm).                                                                 | Input for vegetation indices and biophysical parameter retrievals.                               |\n",
    "| **RC865** (Rectified Reflectance 865 nm)      | Atmospherically corrected surface reflectance in the NIR band (865 nm).                                                                 | Used with RC681 for GIFAPAR; vegetation monitoring and photosynthetic activity modelling.        |\n",
    "| **LQSF** (Land Quality & Science Flags)       | Per-pixel quality and classification information (land/water/cloud/snow).                                                               | Masking invalid pixels, cloud/snow filtering, ensuring robust time-series analysis.              |\n",
    "| **dataMask**                                  | Binary mask indicating valid vs. invalid observations.                                                                                  | Excluding missing/invalid values, ensuring reliable data analysis.                               |\n",
    "\n",
    "***"
   ]
  },
  {
   "cell_type": "markdown",
   "id": "3b52eb76-c73d-4207-9404-835dcfba0edc",
   "metadata": {},
   "source": [
    "### Analysis parameters\n",
    "\n",
    "The following cell sets the parameters, which define the area of interest to conduct the analysis over.\n",
    "#### Select location\n",
    "To define the area of interest, there are two methods available:\n",
    "\n",
    "1. By specifying the latitude, longitude, and buffer, or separate latitude and longitude buffers, this method allows you to define an area of interest around a central point. You can input the central latitude, central longitude, and a buffer value in degrees to create a square area around the center point. For example, `lat = 10.338`, `lon = -1.055`, and `buffer = 0.1` will select an area with a radius of 0.1 square degrees around the point with coordinates `(10.338, -1.055)`. \n",
    "    \n",
    "    Alternatively, you can provide separate buffer values for latitude and longitude for a rectangular area. For example, `lat = 10.338`, `lon = -1.055`, and `lat_buffer = 0.1` and`lon_buffer = 0.08` will select a rectangular area extending 0.1 degrees north and south, and 0.08 degrees east and west from the point `(10.338, -1.055)`.\n",
    "\n",
    "   For reasonable loading times, set the buffer as `0.1` or lower.\n",
    "\n",
    "3. By uploading a polygon as a `GeoJSON or Esri Shapefile`. If you choose this option, you will need to upload the geojson or ESRI shapefile into the Sandbox using Upload Files button <img align=\"top\" src=\"../Supplementary_data/upload_files_icon.png\"> in the top left corner of the Jupyter Notebook interface. ESRI shapefiles must be uploaded with all the related files `(.cpg, .dbf, .shp, .shx)`. Once uploaded, you can use the shapefile or geojson to define the area of interest. Remember to update the code to call the file you have uploaded.\n",
    "\n",
    "To use one of these methods, you can uncomment the relevant line of code and comment out the other one. To comment out a line, add the `\"#\"` symbol before the code you want to comment out. By default, the first option which defines the location using latitude, longitude, and buffer is being used.\n",
    "\n",
    "**If running the notebook for the first time**, keep the default settings below.\n",
    "This will demonstrate how the analysis works and provide meaningful results.\n",
    "The example covers a central Congo Basin belt (evergreen lowland rainforest) in Democratic Republic of the Congo (DRC), northeastern part of the country—within Tshopo Province. This region is characterised by frequent, heavy cloud cover so is often difficult to monitor effectively with optical missions that have lower revisit frequency, such as the Sentinel and Landsat missions.\n",
    "\n",
    "**To run the notebook for a different area**, make sure Sentinel-3 OLCI Land data is available for the chosen area using the [DEAfrica Explorer](https://explorer.digitalearth.africa)."
   ]
  },
  {
   "cell_type": "code",
   "execution_count": 6,
   "id": "eb035c30-94a5-411e-b56f-c157e58dd9d4",
   "metadata": {},
   "outputs": [],
   "source": [
    "# Method 1: Specify the latitude, longitude, and buffer)\n",
    "aoi = define_area(lat=1.066, lon=26.455, buffer=0.9)\n",
    "\n",
    "# Method 2: Use a polygon as a GeoJSON or Esri Shapefile. \n",
    "# aoi = define_area(vector_path='aoi.shp')\n",
    "\n",
    "#Create a geopolygon and geodataframe of the area of interest\n",
    "geopolygon = Geometry(aoi[\"features\"][0][\"geometry\"], crs=\"epsg:4326\")\n",
    "geopolygon_gdf = gpd.GeoDataFrame(geometry=[geopolygon], crs=geopolygon.crs)\n",
    "\n",
    "# Get the latitude and longitude range of the geopolygon\n",
    "lat_range = (geopolygon_gdf.total_bounds[1], geopolygon_gdf.total_bounds[3])\n",
    "lon_range = (geopolygon_gdf.total_bounds[0], geopolygon_gdf.total_bounds[2])"
   ]
  },
  {
   "cell_type": "code",
   "execution_count": 7,
   "id": "309eab60-4e78-43e3-b69d-3bfd977c3239",
   "metadata": {},
   "outputs": [
    {
     "data": {
      "text/html": [
       "<div style=\"width:100%;\"><div style=\"position:relative;width:100%;height:0;padding-bottom:60%;\"><span style=\"color:#565656\">Make this Notebook Trusted to load map: File -> Trust Notebook</span><iframe srcdoc=\"&lt;!DOCTYPE html&gt;\n",
       "&lt;html&gt;\n",
       "&lt;head&gt;\n",
       "    \n",
       "    &lt;meta http-equiv=&quot;content-type&quot; content=&quot;text/html; charset=UTF-8&quot; /&gt;\n",
       "    \n",
       "        &lt;script&gt;\n",
       "            L_NO_TOUCH = false;\n",
       "            L_DISABLE_3D = false;\n",
       "        &lt;/script&gt;\n",
       "    \n",
       "    &lt;style&gt;html, body {width: 100%;height: 100%;margin: 0;padding: 0;}&lt;/style&gt;\n",
       "    &lt;style&gt;#map {position:absolute;top:0;bottom:0;right:0;left:0;}&lt;/style&gt;\n",
       "    &lt;script src=&quot;https://cdn.jsdelivr.net/npm/leaflet@1.9.3/dist/leaflet.js&quot;&gt;&lt;/script&gt;\n",
       "    &lt;script src=&quot;https://code.jquery.com/jquery-3.7.1.min.js&quot;&gt;&lt;/script&gt;\n",
       "    &lt;script src=&quot;https://cdn.jsdelivr.net/npm/bootstrap@5.2.2/dist/js/bootstrap.bundle.min.js&quot;&gt;&lt;/script&gt;\n",
       "    &lt;script src=&quot;https://cdnjs.cloudflare.com/ajax/libs/Leaflet.awesome-markers/2.0.2/leaflet.awesome-markers.js&quot;&gt;&lt;/script&gt;\n",
       "    &lt;link rel=&quot;stylesheet&quot; href=&quot;https://cdn.jsdelivr.net/npm/leaflet@1.9.3/dist/leaflet.css&quot;/&gt;\n",
       "    &lt;link rel=&quot;stylesheet&quot; href=&quot;https://cdn.jsdelivr.net/npm/bootstrap@5.2.2/dist/css/bootstrap.min.css&quot;/&gt;\n",
       "    &lt;link rel=&quot;stylesheet&quot; href=&quot;https://netdna.bootstrapcdn.com/bootstrap/3.0.0/css/bootstrap-glyphicons.css&quot;/&gt;\n",
       "    &lt;link rel=&quot;stylesheet&quot; href=&quot;https://cdn.jsdelivr.net/npm/@fortawesome/fontawesome-free@6.2.0/css/all.min.css&quot;/&gt;\n",
       "    &lt;link rel=&quot;stylesheet&quot; href=&quot;https://cdnjs.cloudflare.com/ajax/libs/Leaflet.awesome-markers/2.0.2/leaflet.awesome-markers.css&quot;/&gt;\n",
       "    &lt;link rel=&quot;stylesheet&quot; href=&quot;https://cdn.jsdelivr.net/gh/python-visualization/folium/folium/templates/leaflet.awesome.rotate.min.css&quot;/&gt;\n",
       "    \n",
       "            &lt;meta name=&quot;viewport&quot; content=&quot;width=device-width,\n",
       "                initial-scale=1.0, maximum-scale=1.0, user-scalable=no&quot; /&gt;\n",
       "            &lt;style&gt;\n",
       "                #map_5fcdbd27d7050ccc566a6b84c459b18b {\n",
       "                    position: relative;\n",
       "                    width: 100.0%;\n",
       "                    height: 100.0%;\n",
       "                    left: 0.0%;\n",
       "                    top: 0.0%;\n",
       "                }\n",
       "                .leaflet-container { font-size: 1rem; }\n",
       "            &lt;/style&gt;\n",
       "        \n",
       "&lt;/head&gt;\n",
       "&lt;body&gt;\n",
       "    \n",
       "    \n",
       "            &lt;div class=&quot;folium-map&quot; id=&quot;map_5fcdbd27d7050ccc566a6b84c459b18b&quot; &gt;&lt;/div&gt;\n",
       "        \n",
       "&lt;/body&gt;\n",
       "&lt;script&gt;\n",
       "    \n",
       "    \n",
       "            var map_5fcdbd27d7050ccc566a6b84c459b18b = L.map(\n",
       "                &quot;map_5fcdbd27d7050ccc566a6b84c459b18b&quot;,\n",
       "                {\n",
       "                    center: [1.066, 26.455000000000002],\n",
       "                    crs: L.CRS.EPSG3857,\n",
       "                    ...{\n",
       "  &quot;zoom&quot;: 8,\n",
       "  &quot;zoomControl&quot;: true,\n",
       "  &quot;preferCanvas&quot;: false,\n",
       "}\n",
       "\n",
       "                }\n",
       "            );\n",
       "\n",
       "            \n",
       "\n",
       "        \n",
       "    \n",
       "            var tile_layer_adbe00dc5ba50a3476727757e49e41a2 = L.tileLayer(\n",
       "                &quot;http://mt1.google.com/vt/lyrs=y\\u0026z={z}\\u0026x={x}\\u0026y={y}&quot;,\n",
       "                {\n",
       "  &quot;minZoom&quot;: 0,\n",
       "  &quot;maxZoom&quot;: 18,\n",
       "  &quot;maxNativeZoom&quot;: 18,\n",
       "  &quot;noWrap&quot;: false,\n",
       "  &quot;attribution&quot;: &quot;Google&quot;,\n",
       "  &quot;subdomains&quot;: &quot;abc&quot;,\n",
       "  &quot;detectRetina&quot;: false,\n",
       "  &quot;tms&quot;: false,\n",
       "  &quot;opacity&quot;: 1,\n",
       "}\n",
       "\n",
       "            );\n",
       "        \n",
       "    \n",
       "            tile_layer_adbe00dc5ba50a3476727757e49e41a2.addTo(map_5fcdbd27d7050ccc566a6b84c459b18b);\n",
       "        \n",
       "    \n",
       "            var poly_line_01c8b0b862ca5aab8c8acaaa38395197 = L.polyline(\n",
       "                [[0.166, 25.555], [0.166, 27.355], [1.966, 27.355], [1.966, 25.555], [0.166, 25.555]],\n",
       "                {&quot;bubblingMouseEvents&quot;: true, &quot;color&quot;: &quot;red&quot;, &quot;dashArray&quot;: null, &quot;dashOffset&quot;: null, &quot;fill&quot;: false, &quot;fillColor&quot;: &quot;red&quot;, &quot;fillOpacity&quot;: 0.2, &quot;fillRule&quot;: &quot;evenodd&quot;, &quot;lineCap&quot;: &quot;round&quot;, &quot;lineJoin&quot;: &quot;round&quot;, &quot;noClip&quot;: false, &quot;opacity&quot;: 0.8, &quot;smoothFactor&quot;: 1.0, &quot;stroke&quot;: true, &quot;weight&quot;: 3}\n",
       "            ).addTo(map_5fcdbd27d7050ccc566a6b84c459b18b);\n",
       "        \n",
       "    \n",
       "                var lat_lng_popup_6a2f8391d7bf56d3dde43362fea0aa5e = L.popup();\n",
       "                function latLngPop(e) {\n",
       "                    lat_lng_popup_6a2f8391d7bf56d3dde43362fea0aa5e\n",
       "                        .setLatLng(e.latlng)\n",
       "                        .setContent(&quot;Latitude: &quot; + e.latlng.lat.toFixed(4) +\n",
       "                                    &quot;&lt;br&gt;Longitude: &quot; + e.latlng.lng.toFixed(4))\n",
       "                        .openOn(map_5fcdbd27d7050ccc566a6b84c459b18b);\n",
       "                    }\n",
       "                map_5fcdbd27d7050ccc566a6b84c459b18b.on(&#x27;click&#x27;, latLngPop);\n",
       "            \n",
       "&lt;/script&gt;\n",
       "&lt;/html&gt;\" style=\"position:absolute;width:100%;height:100%;left:0;top:0;border:none !important;\" allowfullscreen webkitallowfullscreen mozallowfullscreen></iframe></div></div>"
      ],
      "text/plain": [
       "<folium.folium.Map at 0x7fa00b798ef0>"
      ]
     },
     "execution_count": 7,
     "metadata": {},
     "output_type": "execute_result"
    }
   ],
   "source": [
    "display_map(x=lon_range, y=lat_range)"
   ]
  },
  {
   "cell_type": "markdown",
   "id": "bfe98620-6173-4497-8cd1-167205d4fb8f",
   "metadata": {},
   "source": [
    "## Load Sentinel-3 dataset using `dc.load()`"
   ]
  },
  {
   "cell_type": "markdown",
   "id": "267a30e2-cfd2-4e32-bcd9-47540078e229",
   "metadata": {},
   "source": [
    "Now that we know what products and measurements are available for the product, we can load data from the datacube using `dc.load`. We will load data from spectral satellite bands. By specifying `output_crs='EPSG:4326'` and `resolution=(-0.003, -0.003`), we request that datacube reproject our data to the global geographic coordinate reference system (CRS), with 300 x 300 m pixels. Finally, `group_by='solar_day'` ensures that overlapping images taken within seconds of each other as the satellite passes over are combined into a single time step in the data. We can see that the query returns eight time steps as we have queried the first eight days of April 2025."
   ]
  },
  {
   "cell_type": "code",
   "execution_count": null,
   "id": "f5009124-d4c7-437d-a910-1aad0df435b1",
   "metadata": {},
   "outputs": [],
   "source": [
    "query = {\n",
    "    'x': (lon_range),\n",
    "    'y': (lat_range),\n",
    "    'time':('2025-04-01', '2025-04-30'),\n",
    "    'output_crs': 'EPSG:4326',\n",
    "    'resolution': (-0.003, 0.003)}\n",
    "\n",
    "ds_S3 = dc.load(product=product,\n",
    "                group_by=\"solar_day\",\n",
    "                **query)\n",
    "\n",
    "ds_S3"
   ]
  },
  {
   "cell_type": "markdown",
   "id": "b0e3b643-f119-4752-9605-fe08b3ca28d6",
   "metadata": {},
   "source": [
    ">Note:  Some Sentinel-3 OLCI Land bands are stored as integers with a scale factor **(e.g., 0.0001) or offset (e.g., 1000)** applied. This scaling is used to efficiently store values in integer format. To obtain the correct surface values, the scale or offset must be reversed. The example below demonstrates how to apply this correction. In this case, a scale factor of 10,000 applies to several Sentinel-3 measurements as shown in the output of the List Measurements section above. We can either divide values by 10,000 or multiply by 0.0001, as below."
   ]
  },
  {
   "cell_type": "markdown",
   "id": "dc7ed782-62a3-495e-8e2c-564db044f4b8",
   "metadata": {},
   "source": [
    "## Masking\n",
    "\n",
    "Before visualisation, we use the `dataMask` band to mask values affected by cloud or other issues. The code below keeps data for pixels where the data mask value is 1."
   ]
  },
  {
   "cell_type": "code",
   "execution_count": null,
   "id": "6dcb77a6-06a3-4efb-b41b-301166eae38b",
   "metadata": {},
   "outputs": [],
   "source": [
    "ds_S3 = ds_S3.where(ds_S3.dataMask == 1)"
   ]
  },
  {
   "cell_type": "markdown",
   "id": "943c1eb8-8685-4e0c-a181-01a5d60dc715",
   "metadata": {},
   "source": [
    "#### Visualise Sentinel-3 Land `GIFAPAR` band\n",
    "\n",
    "The cell below visualizes the Fraction of Absorbed Photosynthetically Active Radiation (green component) at the time of observation, which represents photosynthetic energy uptake. Values range from 0 to 1."
   ]
  },
  {
   "cell_type": "code",
   "execution_count": null,
   "id": "5c1e8da8-f2ef-4635-9a02-4b00a52eb31c",
   "metadata": {},
   "outputs": [],
   "source": [
    "(ds_S3['GIFAPAR'].isel(time=[0, 2, 9, 15])*0.0001).plot(robust=True, col=\"time\", col_wrap=4);"
   ]
  },
  {
   "cell_type": "markdown",
   "id": "95edc954-ae95-4e65-942b-5754f9c182d5",
   "metadata": {},
   "source": [
    "#### Visualise Sentinel-3 Land `OTCI` band\n",
    "The cell below visualizes the OLCI Terrestrial Chlorophyll Index (OTCI), an index sensitive to canopy chlorophyll content derived from OLCI spectral bands. It provides information on vegetation health and photosynthetic activit"
   ]
  },
  {
   "cell_type": "code",
   "execution_count": null,
   "id": "404d32d4-b574-4efc-a6b5-c0001bf07512",
   "metadata": {},
   "outputs": [],
   "source": [
    "(ds_S3.isel(time=[0, 2, 9, 15])['OTCI']*0.0001).plot(robust=True, col=\"time\", col_wrap=4)"
   ]
  },
  {
   "cell_type": "markdown",
   "id": "27962561-e829-40a7-9bd1-9d6796faf57f",
   "metadata": {},
   "source": [
    "#### Visualise Sentinel-3 Land `RC681` band\n",
    "The cell below visualizes the atmospherically corrected surface reflectance in the red band (681 nm). This measurement is used in vegetation indices and biophysical parameter retrievals,"
   ]
  },
  {
   "cell_type": "code",
   "execution_count": null,
   "id": "6ef49cb9-7702-46eb-8519-037c03a2c9d7",
   "metadata": {},
   "outputs": [],
   "source": [
    "(ds_S3.isel(time=[0, 2, 9, 15])['RC681']*0.0001).plot(robust=True, col=\"time\", col_wrap=4)"
   ]
  },
  {
   "cell_type": "markdown",
   "id": "e0b103b5-b45c-4ef6-bf93-e4be6bb04a71",
   "metadata": {},
   "source": [
    "#### Visualise Sentinel-3 Land `RC865` band\n",
    "The cell below visualizes the atmospherically corrected surface reflectance in the near-infrared band (865 nm). This measurement, used alongside the red band (681 nm), supports vegetation monitoring and photosynthetic activity modelling,"
   ]
  },
  {
   "cell_type": "code",
   "execution_count": null,
   "id": "bb415394-7130-4d14-b1a5-e0f1c3b45a5f",
   "metadata": {},
   "outputs": [],
   "source": [
    "(ds_S3.isel(time=[0, 2, 9, 15])['RC865']*0.0001).plot(robust=True, col=\"time\", col_wrap=4)"
   ]
  },
  {
   "cell_type": "markdown",
   "id": "d88aac46-129d-4a52-8b5e-3ef1991980d5",
   "metadata": {},
   "source": [
    "#### Visualise Sentinel-3 Land `IWV_L` band\n",
    "The cell below visualizes the column-integrated water vapour content above each pixel. This parameter represents the total amount of water vapour in the atmosphere, expressed in kg/m²."
   ]
  },
  {
   "cell_type": "code",
   "execution_count": null,
   "id": "4eaff3f0-e666-461f-85c1-0cac8fe19ac4",
   "metadata": {},
   "outputs": [],
   "source": [
    "(ds_S3.isel(time=[0, 2, 9, 15])['IWV_L']).plot(robust=True, col=\"time\", col_wrap=4)"
   ]
  },
  {
   "cell_type": "markdown",
   "id": "1ff3490c-10f5-4004-9a6f-207a2164c1ee",
   "metadata": {},
   "source": [
    "---\n",
    "\n",
    "## Additional information\n",
    "\n",
    "<b> License </b> The code in this notebook is licensed under the [Apache License, Version 2.0](https://www.apache.org/licenses/LICENSE-2.0).\n",
    "\n",
    "Digital Earth Africa data is licensed under the [Creative Commons by Attribution 4.0](https://creativecommons.org/licenses/by/4.0/) license.\n",
    "\n",
    "<b> Contact </b> If you need assistance, please post a question on the [DE Africa Slack channel](https://digitalearthafrica.slack.com/) or on the [GIS Stack Exchange](https://gis.stackexchange.com/questions/ask?tags=open-data-cube) using the `open-data-cube` tag (you can view previously asked questions [here](https://gis.stackexchange.com/questions/tagged/open-data-cube)).\n",
    "\n",
    "If you would like to report an issue with this notebook, you can file one on [Github](https://github.com/digitalearthafrica/deafrica-sandbox-notebooks).\n",
    "\n",
    "<b> Compatible datacube version </b>"
   ]
  },
  {
   "cell_type": "code",
   "execution_count": null,
   "id": "72860844-a1c1-4234-8736-c2cd54c56d78",
   "metadata": {},
   "outputs": [],
   "source": [
    "print(datacube.__version__)"
   ]
  },
  {
   "cell_type": "markdown",
   "id": "7921d9ad-9136-44b8-8ad7-45c87790a4b4",
   "metadata": {},
   "source": [
    "**Last Tested:**"
   ]
  },
  {
   "cell_type": "code",
   "execution_count": null,
   "id": "77616224-bf3b-496d-b3f4-e9f7388b8d3e",
   "metadata": {},
   "outputs": [],
   "source": [
    "from datetime import datetime\n",
    "datetime.today().strftime('%Y-%m-%d')"
   ]
  }
 ],
 "metadata": {
  "kernelspec": {
   "display_name": "Python 3 (ipykernel)",
   "language": "python",
   "name": "python3"
  },
  "language_info": {
   "codemirror_mode": {
    "name": "ipython",
    "version": 3
   },
   "file_extension": ".py",
   "mimetype": "text/x-python",
   "name": "python",
   "nbconvert_exporter": "python",
   "pygments_lexer": "ipython3",
   "version": "3.12.3"
  }
 },
 "nbformat": 4,
 "nbformat_minor": 5
}
